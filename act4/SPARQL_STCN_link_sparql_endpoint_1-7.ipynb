{
 "cells": [
  {
   "cell_type": "code",
   "execution_count": null,
   "metadata": {},
   "outputs": [],
   "source": [
    "import pandas as pd\n",
    "import os\n",
    "from SPARQLWrapper import SPARQLWrapper, JSON"
   ]
  },
  {
   "cell_type": "code",
   "execution_count": null,
   "metadata": {},
   "outputs": [],
   "source": [
    "folderlink = '..//data//'\n",
    "input_folder = 'input//'\n",
    "folder_output = 'output//'\n",
    "ddrc_file = 'parent_data.csv'\n",
    "input_file = os.path.join(folderlink+folder_output, ddrc_file)\n"
   ]
  },
  {
   "cell_type": "code",
   "execution_count": null,
   "metadata": {},
   "outputs": [],
   "source": [
    "sparql_endpoint = \"http://data.bibliotheken.nl/sparql\"\n"
   ]
  },
  {
   "cell_type": "code",
   "execution_count": null,
   "metadata": {},
   "outputs": [],
   "source": [
    "# query 1 to get all titles that are available in STCN\n",
    "sparql_query = \"\"\"\n",
    "select ?title_id ?title where {\n",
    "  ?p schema:mainEntityOfPage/owl:sameAs ?title_id .\n",
    "  ?p schema:name ?title .\n",
    "  ?p schema:mainEntityOfPage/schema:isPartOf <http://data.bibliotheken.nl/id/dataset/stcn> .\n",
    "} \n",
    "\"\"\""
   ]
  },
  {
   "cell_type": "code",
   "execution_count": null,
   "metadata": {},
   "outputs": [],
   "source": [
    "sparql = SPARQLWrapper(sparql_endpoint)\n",
    "sparql.setQuery(sparql_query)\n",
    "sparql.setReturnFormat(JSON)\n",
    "\n",
    "results = sparql.query().convert()\n",
    "\n",
    "bindings = results[\"results\"][\"bindings\"]\n",
    "data = []\n",
    "\n",
    "for item in bindings:\n",
    "    row = {}\n",
    "    for key in item:\n",
    "        row[key] = item[key][\"value\"]\n",
    "    data.append(row)\n",
    "\n",
    "df = pd.DataFrame(data)\n",
    "\n",
    "# Panda settings for showing data\n",
    "pd.set_option('display.max_columns', None)\n",
    "pd.set_option('display.max_rows', None)\n",
    "pd.set_option('display.max_colwidth', None)\n",
    "\n",
    "output_file = folderlink+folder_output+\"stcn_q1.csv\"\n",
    "df.to_csv(output_file, sep=';', encoding='utf-8', index=False)\n",
    "\n",
    "df.describe()"
   ]
  },
  {
   "cell_type": "markdown",
   "metadata": {},
   "source": [
    "title_id\ttitle\n",
    "count\t216051\t216051\n",
    "unique\t216051\t176553\n",
    "top\thttp://data.bibliotheken.nl/doc/nbt/p82210427X\tTheses juridicae inaugurales.\n",
    "freq\t1\t497\n",
    "\n",
    "There are 216051 unique book items in STCN of which 176553 are truly unique. Meaning that some book items have the same title or are duplicates. "
   ]
  },
  {
   "cell_type": "code",
   "execution_count": null,
   "metadata": {},
   "outputs": [],
   "source": [
    "# query 2 to get all titles that are available in STCN plus additional data\n",
    "sparql_query = \"\"\"\n",
    "select ?title_id ?title ?fingerprint where {\n",
    "  ?p schema:mainEntityOfPage/owl:sameAs ?title_id .\n",
    "  ?p schema:name ?title .\n",
    "  OPTIONAL {\n",
    "    ?p <http://data.bibliotheken.nl/def#stcnFingerprint> ?fingerprint .\n",
    "    }\n",
    "  ?p schema:mainEntityOfPage/schema:isPartOf <http://data.bibliotheken.nl/id/dataset/stcn> .\n",
    "} \n",
    "\"\"\""
   ]
  },
  {
   "cell_type": "code",
   "execution_count": null,
   "metadata": {},
   "outputs": [],
   "source": [
    "sparql = SPARQLWrapper(sparql_endpoint)\n",
    "sparql.setQuery(sparql_query)\n",
    "sparql.setReturnFormat(JSON)\n",
    "\n",
    "results = sparql.query().convert()\n",
    "\n",
    "bindings = results[\"results\"][\"bindings\"]\n",
    "data = []\n",
    "\n",
    "for item in bindings:\n",
    "    row = {}\n",
    "    for key in item:\n",
    "        row[key] = item[key][\"value\"]\n",
    "    data.append(row)\n",
    "\n",
    "df = pd.DataFrame(data)\n",
    "\n",
    "# Panda settings for showing data\n",
    "pd.set_option('display.max_columns', None)\n",
    "pd.set_option('display.max_rows', None)\n",
    "pd.set_option('display.max_colwidth', None)\n",
    "\n",
    "output_file = folderlink+folder_output+\"stcn_q2.csv\"\n",
    "df.to_csv(output_file, sep=';', encoding='utf-8', index=False)\n",
    "\n",
    "df.describe()"
   ]
  },
  {
   "cell_type": "markdown",
   "metadata": {},
   "source": [
    "\n",
    "title_id\ttitle\tfingerprint\n",
    "count\t222619\t222619\t214773\n",
    "unique\t216051\t176553\t201960\n",
    "top\thttp://data.bibliotheken.nl/doc/nbt/p375930256\tTheses juridicae inaugurales.\t000004 - b1=b2 A e\n",
    "freq\t13\t499\t566\n",
    "\n",
    "There are 216051 unique titles in STCN, there are 201960 fingerprint records. Not every title has a fingerprinte, some titles have multiple fingerprints."
   ]
  },
  {
   "cell_type": "code",
   "execution_count": null,
   "metadata": {},
   "outputs": [],
   "source": [
    "# query 3 to get all titles that are available in STCN plus information about the fingerptint and about the main author\n",
    "sparql_query = \"\"\"\n",
    "select ?title_id ?title ?fingerprint ?author_id where {\n",
    "  ?p schema:mainEntityOfPage/owl:sameAs ?title_id .\n",
    "  ?p schema:name ?title .\n",
    "  OPTIONAL {\n",
    "    ?p <http://data.bibliotheken.nl/def#stcnFingerprint> ?fingerprint .\n",
    "    ?p schema:author ?author_id .\n",
    "    }\n",
    "  ?p schema:mainEntityOfPage/schema:isPartOf <http://data.bibliotheken.nl/id/dataset/stcn> .\n",
    "} \n",
    "\"\"\""
   ]
  },
  {
   "cell_type": "code",
   "execution_count": null,
   "metadata": {},
   "outputs": [],
   "source": [
    "sparql = SPARQLWrapper(sparql_endpoint)\n",
    "sparql.setQuery(sparql_query)\n",
    "sparql.setReturnFormat(JSON)\n",
    "\n",
    "results = sparql.query().convert()\n",
    "\n",
    "bindings = results[\"results\"][\"bindings\"]\n",
    "data = []\n",
    "\n",
    "for item in bindings:\n",
    "    row = {}\n",
    "    for key in item:\n",
    "        row[key] = item[key][\"value\"]\n",
    "    data.append(row)\n",
    "\n",
    "df = pd.DataFrame(data)\n",
    "\n",
    "# Panda settings for showing data\n",
    "pd.set_option('display.max_columns', None)\n",
    "pd.set_option('display.max_rows', None)\n",
    "pd.set_option('display.max_colwidth', None)\n",
    "\n",
    "output_file = folderlink+folder_output+\"stcn_q3.csv\"\n",
    "df.to_csv(output_file, sep=';', encoding='utf-8', index=False)\n",
    "\n",
    "df.describe()"
   ]
  },
  {
   "cell_type": "markdown",
   "metadata": {},
   "source": [
    "title_id\ttitle\tfingerprint\tauthor_id\n",
    "count\t220080\t220080\t115660\t115660\n",
    "unique\t216051\t176553\t112631\t111631\n",
    "top\thttp://data.bibliotheken.nl/doc/nbt/p235143030\tTheses juridicae inaugurales.\t000004\tnodeID://b266146401\n",
    "freq\t9\t499\t445\t9"
   ]
  },
  {
   "cell_type": "code",
   "execution_count": null,
   "metadata": {},
   "outputs": [],
   "source": [
    "# query 4 to get all titles that are available in STCN and information about the main author\n",
    "sparql_query = \"\"\"\n",
    "select ?title_id ?title ?author_id ?author where {\n",
    "  ?p schema:mainEntityOfPage/owl:sameAs ?title_id .\n",
    "  ?p schema:name ?title .\n",
    "  OPTIONAL {\n",
    "    ?p schema:author ?author_id .\n",
    "    ?p schema:author/schema:name ?author .\n",
    "    }\n",
    "  ?p schema:mainEntityOfPage/schema:isPartOf <http://data.bibliotheken.nl/id/dataset/stcn> .\n",
    "} \n",
    "\"\"\""
   ]
  },
  {
   "cell_type": "code",
   "execution_count": null,
   "metadata": {},
   "outputs": [],
   "source": [
    "sparql = SPARQLWrapper(sparql_endpoint)\n",
    "sparql.setQuery(sparql_query)\n",
    "sparql.setReturnFormat(JSON)\n",
    "\n",
    "results = sparql.query().convert()\n",
    "\n",
    "bindings = results[\"results\"][\"bindings\"]\n",
    "data = []\n",
    "\n",
    "for item in bindings:\n",
    "    row = {}\n",
    "    for key in item:\n",
    "        row[key] = item[key][\"value\"]\n",
    "    data.append(row)\n",
    "\n",
    "df = pd.DataFrame(data)\n",
    "\n",
    "# Panda settings for showing data\n",
    "pd.set_option('display.max_columns', None)\n",
    "pd.set_option('display.max_rows', None)\n",
    "pd.set_option('display.max_colwidth', None)\n",
    "\n",
    "output_file = folderlink+folder_output+\"stcn_q4.csv\"\n",
    "df.to_csv(output_file, sep=';', encoding='utf-8', index=False)\n",
    "\n",
    "df.describe()"
   ]
  },
  {
   "cell_type": "markdown",
   "metadata": {},
   "source": [
    "title_id\ttitle\tauthor_id\tauthor\n",
    "count\t216051\t216051\t117951\t117951\n",
    "unique\t216051\t176553\t117951\t51294\n",
    "top\thttp://data.bibliotheken.nl/doc/nbt/p82220682X\tTheses juridicae inaugurales.\tnodeID://b265835929\tDe Voltaire\n",
    "freq\t1\t497\t1\t194"
   ]
  },
  {
   "cell_type": "code",
   "execution_count": null,
   "metadata": {},
   "outputs": [],
   "source": [
    "# query 5 to get all titles that are available in STCN and information about the contributing authors\n",
    "sparql_query = \"\"\"\n",
    "select ?title_id ?title ?contributor_id ?contributor where {\n",
    "  ?p schema:mainEntityOfPage/owl:sameAs ?title_id .\n",
    "  ?p schema:name ?title .\n",
    "  OPTIONAL {\n",
    "    ?p schema:contributor ?contributor_id .\n",
    "    ?p schema:contributor/schema:name ?contributor .\n",
    "    }\n",
    "  ?p schema:mainEntityOfPage/schema:isPartOf <http://data.bibliotheken.nl/id/dataset/stcn> .\n",
    "} \n",
    "\"\"\""
   ]
  },
  {
   "cell_type": "code",
   "execution_count": null,
   "metadata": {},
   "outputs": [],
   "source": [
    "sparql = SPARQLWrapper(sparql_endpoint)\n",
    "sparql.setQuery(sparql_query)\n",
    "sparql.setReturnFormat(JSON)\n",
    "\n",
    "results = sparql.query().convert()\n",
    "\n",
    "bindings = results[\"results\"][\"bindings\"]\n",
    "data = []\n",
    "\n",
    "for item in bindings:\n",
    "    row = {}\n",
    "    for key in item:\n",
    "        row[key] = item[key][\"value\"]\n",
    "    data.append(row)\n",
    "\n",
    "df = pd.DataFrame(data)\n",
    "\n",
    "# Panda settings for showing data\n",
    "pd.set_option('display.max_columns', None)\n",
    "pd.set_option('display.max_rows', None)\n",
    "pd.set_option('display.max_colwidth', None)\n",
    "\n",
    "output_file = folderlink+folder_output+\"stcn_q5.csv\"\n",
    "df.to_csv(output_file, sep=';', encoding='utf-8', index=False)\n",
    "\n",
    "df.describe()"
   ]
  },
  {
   "cell_type": "markdown",
   "metadata": {},
   "source": [
    "title_id\ttitle\tcontributor_id\tcontributor\n",
    "count\t251541\t251541\t70165\t70165\n",
    "unique\t216051\t176553\t42161\t13316\n",
    "top\thttp://data.bibliotheken.nl/doc/nbt/p284863009\tVerhandelingen uitgegeven door het Zeeuwsch Genootschap der Wetenschappen te Vlissingen.\tnodeID://b266206822\tLuyken\n",
    "freq\t400\t1760\t20\t792"
   ]
  },
  {
   "cell_type": "code",
   "execution_count": null,
   "metadata": {},
   "outputs": [],
   "source": [
    "# query 6 to get all titles that are available in STCN and information about the main author and additional information about it\n",
    "sparql_query = \"\"\"\n",
    "select ?title_id ?title ?author_id ?author ?author_familyName ?author_givenName where {\n",
    "  ?p schema:mainEntityOfPage/owl:sameAs ?title_id .\n",
    "  ?p schema:name ?title .\n",
    "  OPTIONAL {\n",
    "    ?p schema:author ?author_id .\n",
    "    ?p schema:author/schema:name ?author .\n",
    "    ?p schema:author/schema:familyName ?author_familyName .\n",
    "    ?p schema:author/schema:givenName ?author_givenName .\n",
    "    }\n",
    "  ?p schema:mainEntityOfPage/schema:isPartOf <http://data.bibliotheken.nl/id/dataset/stcn> .\n",
    "} \n",
    "\"\"\""
   ]
  },
  {
   "cell_type": "code",
   "execution_count": null,
   "metadata": {},
   "outputs": [],
   "source": [
    "sparql = SPARQLWrapper(sparql_endpoint)\n",
    "sparql.setQuery(sparql_query)\n",
    "sparql.setReturnFormat(JSON)\n",
    "\n",
    "results = sparql.query().convert()\n",
    "\n",
    "bindings = results[\"results\"][\"bindings\"]\n",
    "data = []\n",
    "\n",
    "for item in bindings:\n",
    "    row = {}\n",
    "    for key in item:\n",
    "        row[key] = item[key][\"value\"]\n",
    "    data.append(row)\n",
    "\n",
    "df = pd.DataFrame(data)\n",
    "\n",
    "# Panda settings for showing data\n",
    "pd.set_option('display.max_columns', None)\n",
    "pd.set_option('display.max_rows', None)\n",
    "pd.set_option('display.max_colwidth', None)\n",
    "\n",
    "output_file = folderlink+folder_output+\"stcn_q6.csv\"\n",
    "df.to_csv(output_file, sep=';', encoding='utf-8', index=False)\n",
    "\n",
    "df.describe()"
   ]
  },
  {
   "cell_type": "markdown",
   "metadata": {},
   "source": []
  },
  {
   "cell_type": "code",
   "execution_count": null,
   "metadata": {},
   "outputs": [],
   "source": [
    "# query 7 to get all titles that are available in STCN and information about the main author and additional information about it. In addition alternative names are added.\n",
    "sparql_query = \"\"\"\n",
    "select ?title_id ?title ?author_id ?author ?author_deathDate ?author_birthDate ?author_familyName ?author_givenName where {\n",
    "  ?p schema:mainEntityOfPage/owl:sameAs ?title_id .\n",
    "  ?p schema:name ?title .\n",
    "  OPTIONAL {\n",
    "    ?p schema:author ?author_id .\n",
    "    ?p schema:author/schema:name ?author .\n",
    "    ?p schema:author/schema:deathDate ?author_deathDate .\n",
    "    ?p schema:author/schema:birthDate ?author_birthDate .\n",
    "    ?p schema:author/schema:familyName ?author_familyName .\n",
    "    ?p schema:author/schema:givenName ?author_givenName .\n",
    "    ?p schema:author/schema:alternateName/schema:name ?alt_authorname .\n",
    "    }\n",
    "  ?p schema:mainEntityOfPage/schema:isPartOf <http://data.bibliotheken.nl/id/dataset/stcn> .\n",
    "} \n",
    "\"\"\""
   ]
  },
  {
   "cell_type": "code",
   "execution_count": null,
   "metadata": {},
   "outputs": [],
   "source": [
    "sparql_query = \"\"\"\n",
    "select ?title_id ?title ?author_id ?author ?contributor ?contributor_id ?startdate where {\n",
    "  ?publicatie schema:mainEntityOfPage/owl:sameAs ?title_id .\n",
    "  ?publicatie schema:name ?title .\n",
    "  ?publicatie schema:publication/schema:startDate ?startdate .\n",
    "  ?publicatie schema:author/schema:author ?author_id .\n",
    "  ?publicatie schema:author/schema:name ?author .\n",
    "  ?publicatie schema:contributor/schema:contributor ?contributor_id .\n",
    "  ?publicatie schema:contributor/schema:name ?contributor .\n",
    "  ?publicatie schema:mainEntityOfPage/schema:isPartOf <http://data.bibliotheken.nl/id/dataset/stcn> .\n",
    "} \n",
    "\"\"\""
   ]
  },
  {
   "cell_type": "code",
   "execution_count": null,
   "metadata": {},
   "outputs": [],
   "source": [
    "sparql_query = \"\"\"\n",
    "SELECT ?title_id ?title ?author_id ?author (DISTINCT ?contributor) ?contributor_id ?startdate WHERE {\n",
    "  ?publicatie schema:mainEntityOfPage/owl:sameAs ?title_id .\n",
    "  ?publicatie schema:name ?title .\n",
    "  OPTIONAL {\n",
    "    ?publicatie schema:contributor/schema:contributor ?contributor_id .\n",
    "    ?publicatie schema:contributor/schema:name ?contributor .\n",
    "    ?publicatie schema:publication/schema:startDate ?startdate .\n",
    "    ?publicatie schema:author/schema:author ?author_id .\n",
    "    ?publicatie schema:author/schema:name ?author .\n",
    "  }\n",
    "  ?publicatie schema:mainEntityOfPage/schema:isPartOf <http://data.bibliotheken.nl/id/dataset/stcn> .\n",
    "}\n",
    "\"\"\"\n",
    "\n"
   ]
  },
  {
   "cell_type": "code",
   "execution_count": null,
   "metadata": {},
   "outputs": [],
   "source": [
    "sparql_query = \"\"\"\n",
    "SELECT ?title_id ?title ?author_id ?author ?contributor ?contributor_id ?startdate WHERE {\n",
    "  ?p schema:mainEntityOfPage/owl:sameAs ?title_id .\n",
    "  ?p schema:name ?title .\n",
    "  OPTIONAL {\n",
    "    ?p schema:contributor/schema:contributor ?contributor_id .\n",
    "    ?p schema:contributor/schema:name ?contributor .\n",
    "    ?p schema:publication/schema:startDate ?startdate .\n",
    "    ?p schema:author/schema:author ?author_id .\n",
    "    ?p schema:author/schema:name ?author .\n",
    "  }\n",
    "  ?p schema:mainEntityOfPage/schema:isPartOf <http://data.bibliotheken.nl/id/dataset/stcn> .\n",
    "}\n",
    "\"\"\""
   ]
  },
  {
   "cell_type": "code",
   "execution_count": null,
   "metadata": {},
   "outputs": [],
   "source": [
    "sparql_query = \"\"\"\n",
    "SELECT ?title_id ?title ?author_id ?author (SAMPLE(?contributor) as ?distinct_contributor) ?contributor_id ?startdate WHERE {\n",
    "  ?publicatie schema:mainEntityOfPage/owl:sameAs ?title_id .\n",
    "  ?publicatie schema:name ?title .\n",
    "  ?publicatie schema:publication/schema:startDate ?startdate .\n",
    "  ?publicatie schema:author/schema:author ?author_id .\n",
    "  ?publicatie schema:author/schema:name ?author .\n",
    "  OPTIONAL {\n",
    "    ?publicatie schema:contributor/schema:contributor ?contributor_id .\n",
    "    ?publicatie schema:contributor/schema:name ?contributor .\n",
    "    ?publicatie schema:contributor/schema:name ?contributor .\n",
    "  }\n",
    "  ?publicatie schema:mainEntityOfPage/schema:isPartOf <http://data.bibliotheken.nl/id/dataset/stcn> .\n",
    "}\n",
    "GROUP BY ?title_id ?title ?author_id ?author ?contributor_id ?startdate\n",
    "LIMIT 50\n",
    "\"\"\""
   ]
  },
  {
   "cell_type": "code",
   "execution_count": null,
   "metadata": {},
   "outputs": [],
   "source": [
    "sparql = SPARQLWrapper(sparql_endpoint)\n",
    "sparql.setQuery(sparql_query)\n",
    "sparql.setReturnFormat(JSON)\n",
    "\n",
    "results = sparql.query().convert()\n",
    "\n",
    "bindings = results[\"results\"][\"bindings\"]\n",
    "data = []\n",
    "\n",
    "for item in bindings:\n",
    "    row = {}\n",
    "    for key in item:\n",
    "        row[key] = item[key][\"value\"]\n",
    "    data.append(row)\n",
    "\n",
    "df = pd.DataFrame(data)\n",
    "\n",
    "# Panda settings for showing data\n",
    "pd.set_option('display.max_columns', None)\n",
    "pd.set_option('display.max_rows', None)\n",
    "pd.set_option('display.max_colwidth', None)\n",
    "\n",
    "output_file = folderlink+folder_output+\"stcn_q6.csv\"\n",
    "df.to_csv(output_file, sep=';', encoding='utf-8', index=False)\n",
    "\n",
    "df.describe()"
   ]
  },
  {
   "cell_type": "code",
   "execution_count": null,
   "metadata": {},
   "outputs": [],
   "source": [
    "output_file = folderlink+folder_output+\"stcn_q6.csv\"\n",
    "df.to_csv(output_file, sep=';', encoding='utf-8', index=False)"
   ]
  },
  {
   "cell_type": "code",
   "execution_count": null,
   "metadata": {},
   "outputs": [],
   "source": [
    "df.describe()"
   ]
  },
  {
   "cell_type": "markdown",
   "metadata": {},
   "source": []
  },
  {
   "cell_type": "code",
   "execution_count": null,
   "metadata": {},
   "outputs": [],
   "source": [
    "df.head()"
   ]
  }
 ],
 "metadata": {
  "kernelspec": {
   "display_name": "digidure",
   "language": "python",
   "name": "python3"
  },
  "language_info": {
   "codemirror_mode": {
    "name": "ipython",
    "version": 3
   },
   "file_extension": ".py",
   "mimetype": "text/x-python",
   "name": "python",
   "nbconvert_exporter": "python",
   "pygments_lexer": "ipython3",
   "version": "3.9.13"
  },
  "orig_nbformat": 4
 },
 "nbformat": 4,
 "nbformat_minor": 2
}
