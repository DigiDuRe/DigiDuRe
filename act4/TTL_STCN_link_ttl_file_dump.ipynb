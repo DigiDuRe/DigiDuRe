{
 "cells": [
  {
   "cell_type": "code",
   "execution_count": 20,
   "metadata": {},
   "outputs": [],
   "source": [
    "from rdflib import ConjunctiveGraph\n",
    "import pandas as pd"
   ]
  },
  {
   "cell_type": "code",
   "execution_count": 21,
   "metadata": {},
   "outputs": [],
   "source": [
    "folderlink = '..//data//'\n",
    "input_folder = 'input//'\n",
    "STCN_ttl = folderlink+input_folder+'stcn_20220429.ttl'\n",
    "folder_output = 'output//'\n",
    "output_file = folderlink+folder_output+'output_csv.csv'\n"
   ]
  },
  {
   "cell_type": "code",
   "execution_count": 26,
   "metadata": {},
   "outputs": [],
   "source": [
    "data = []\n",
    "\n",
    "def process_triple(triple):\n",
    "    subject, predicate, obj = triple\n",
    "    # Perform any necessary processing or filtering\n",
    "    # Example: Extract desired information from the triple\n",
    "    # and append it to the data list\n",
    "\n",
    "    if predicate.endswith('PersonName'):\n",
    "        name = str(obj)\n",
    "        # Assuming the object is a literal value\n",
    "        # Append the extracted information to the data list\n",
    "        data.append({\n",
    "            'PersonName': name\n",
    "        })\n",
    "\n",
    "graph = ConjunctiveGraph()\n",
    "graph.open(STCN_ttl, create=False)\n",
    "\n",
    "for triple in graph:\n",
    "    process_triple(triple)\n",
    "\n",
    "df = pd.DataFrame(data)"
   ]
  },
  {
   "cell_type": "code",
   "execution_count": 27,
   "metadata": {},
   "outputs": [],
   "source": [
    "with open(output_file, 'w') as f:\n",
    "    for item in data:\n",
    "        f.write(','.join(item) + '\\n')"
   ]
  }
 ],
 "metadata": {
  "kernelspec": {
   "display_name": "digidure",
   "language": "python",
   "name": "python3"
  },
  "language_info": {
   "codemirror_mode": {
    "name": "ipython",
    "version": 3
   },
   "file_extension": ".py",
   "mimetype": "text/x-python",
   "name": "python",
   "nbconvert_exporter": "python",
   "pygments_lexer": "ipython3",
   "version": "3.11.3"
  },
  "orig_nbformat": 4
 },
 "nbformat": 4,
 "nbformat_minor": 2
}
