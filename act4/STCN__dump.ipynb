{
 "cells": [
  {
   "cell_type": "code",
   "execution_count": 143,
   "metadata": {},
   "outputs": [],
   "source": [
    "# Import the various libraries\n",
    "import pandas as pd\n",
    "import os\n",
    "from SPARQLWrapper import SPARQLWrapper, JSON"
   ]
  },
  {
   "cell_type": "code",
   "execution_count": 144,
   "metadata": {},
   "outputs": [],
   "source": [
    "# Settings for files\n",
    "folderlink = '..//data//'\n",
    "input_folder = 'input//'\n",
    "folder_output = 'output//'"
   ]
  },
  {
   "cell_type": "code",
   "execution_count": 145,
   "metadata": {},
   "outputs": [],
   "source": [
    "# Add sparql endpoint\n",
    "sparql_endpoint = \"http://data.bibliotheken.nl/sparql\""
   ]
  },
  {
   "cell_type": "code",
   "execution_count": 146,
   "metadata": {},
   "outputs": [],
   "source": [
    "# We have an old datadump from the STCN dataset with the following fields. Since in the meantime more titles have been added to the STCN dataset we want to generate a new dataset based with the same field based on the SPARQL endpoint.\n",
    "# Since we want to be able to rerun it in the future this script can be rerun once more data has been added.\n",
    "# A mapping of the fields in the original file is provided above. Since there are multiple 1 to many relationships we generate a table for every entry. We make sure that all have a recordnumber so it can be linked.\n",
    "\n",
    "# recordnummer - recornumber\n",
    "# q2 taal - schema:inLanguage \n",
    "# q3 jaar - schema:publication/schema:startDate \n",
    "# q4 land - schema:publication/schema:location\n",
    "# q1 titelprimair - schema:name\n",
    "# q5 titelsecundair - schema:alternateName\n",
    "# q5 titelextra - schema:alternateName\n",
    "# q6 auteurpersoon - schema:author/schema:name\n",
    "# q7 auteursecundair - schema:contributor/schema:name\n",
    "# q8 drukkervermelding - schema:publication/schema:description\n",
    "# q9 drukkerpersoon - schema:publication/schema:publishedBy/schema:name\n",
    "# q10 formaat - <http://data.bibliotheken.nl/def#bibliographicFormat> \n",
    "# aantekening - ?\n",
    "# q11 trefwoord - schema:about/skos:label\n",
    "# opmerking - ?\n",
    "# signatuur - ?\n",
    "# weblink - is \"http://data.bibliotheken.nl/doc/nbt/p\"+recordnumber"
   ]
  },
  {
   "cell_type": "code",
   "execution_count": 147,
   "metadata": {},
   "outputs": [],
   "source": [
    "# Get a list with all the records and a title\n",
    "primary_key = \"\"\"\n",
    "select ?title_id ?title where {\n",
    "  ?p schema:mainEntityOfPage/owl:sameAs ?title_id .\n",
    "  ?p schema:name ?title .\n",
    "  ?p schema:mainEntityOfPage/schema:isPartOf <http://data.bibliotheken.nl/id/dataset/stcn> .\n",
    "} LIMIT 100\n",
    "\"\"\""
   ]
  },
  {
   "cell_type": "code",
   "execution_count": 148,
   "metadata": {},
   "outputs": [],
   "source": [
    "sparql = SPARQLWrapper(sparql_endpoint)\n",
    "sparql.setQuery(primary_key)\n",
    "sparql.setReturnFormat(JSON)\n",
    "results = sparql.query().convert()\n",
    "bindings = results[\"results\"][\"bindings\"]\n",
    "data = []\n",
    "for item in bindings:\n",
    "    row = {}\n",
    "    for key in item:\n",
    "        row[key] = item[key][\"value\"]\n",
    "    data.append(row)\n",
    "df = pd.DataFrame(data)"
   ]
  },
  {
   "cell_type": "code",
   "execution_count": 149,
   "metadata": {},
   "outputs": [],
   "source": [
    "# Get a list with all the records and languages if present (can be more then one per item)\n",
    "query2 = {\"language\":\n",
    "\"\"\"\n",
    "select ?title_id ?language where {\n",
    "  ?p schema:mainEntityOfPage/owl:sameAs ?title_id .\n",
    "  ?p schema:inLanguage ?language .\n",
    "  ?p schema:mainEntityOfPage/schema:isPartOf <http://data.bibliotheken.nl/id/dataset/stcn> .\n",
    "} LIMIT 100\n",
    "\"\"\"}"
   ]
  },
  {
   "cell_type": "code",
   "execution_count": 150,
   "metadata": {},
   "outputs": [],
   "source": [
    "# Get a list with all the records and a title and the year of publication if present\n",
    "query3 = {\"pub_year\":\n",
    "\"\"\"\n",
    "select ?title_id ?pub_year where {\n",
    "  ?p schema:mainEntityOfPage/owl:sameAs ?title_id .\n",
    "  ?p schema:publication/schema:startDate ?pub_year .\n",
    "  ?p schema:mainEntityOfPage/schema:isPartOf <http://data.bibliotheken.nl/id/dataset/stcn> .\n",
    "} LIMIT 100\n",
    "\"\"\"}"
   ]
  },
  {
   "cell_type": "code",
   "execution_count": 151,
   "metadata": {},
   "outputs": [],
   "source": [
    "# Get a list with all the records and a title and the publication location if present\n",
    "query4 = {\"pub_location\":\n",
    "\"\"\"\n",
    "select ?title_id ?pub_location {\n",
    "  ?p schema:mainEntityOfPage/owl:sameAs ?title_id .\n",
    "  ?p schema:publication/schema:location ?pub_location .\n",
    "  ?p schema:mainEntityOfPage/schema:isPartOf <http://data.bibliotheken.nl/id/dataset/stcn> .\n",
    "} LIMIT 100 \n",
    "\"\"\"}"
   ]
  },
  {
   "cell_type": "code",
   "execution_count": 152,
   "metadata": {},
   "outputs": [],
   "source": [
    "# Get a list with all the records and an alternative title if present\n",
    "query5 = {\"alt_title\":\n",
    "\"\"\"\n",
    "select ?title_id ?alt_title where {\n",
    "  ?p schema:mainEntityOfPage/owl:sameAs ?title_id .\n",
    "  ?p schema:alternateName ?alt_title .\n",
    "  ?p schema:mainEntityOfPage/schema:isPartOf <http://data.bibliotheken.nl/id/dataset/stcn> .\n",
    "} LIMIT 100\n",
    "\"\"\"}"
   ]
  },
  {
   "cell_type": "code",
   "execution_count": 153,
   "metadata": {},
   "outputs": [],
   "source": [
    "# Get a list with all the records and the main author \n",
    "query6 = {\"author\":\n",
    "\"\"\"\n",
    "select ?title_id ?author ?authorid where {\n",
    "  ?p schema:mainEntityOfPage/owl:sameAs ?title_id .\n",
    "  ?p schema:author/schema:name ?author .\n",
    "  ?p schema:mainEntityOfPage/schema:isPartOf <http://data.bibliotheken.nl/id/dataset/stcn> .\n",
    "} LIMIT 100\n",
    "\"\"\"}"
   ]
  },
  {
   "cell_type": "code",
   "execution_count": 154,
   "metadata": {},
   "outputs": [],
   "source": [
    "# Get a list with all the records and if present the co author(s)\n",
    "query7 = {\"co_author\":\n",
    "\"\"\"\n",
    "select ?title_id ?co_author where {\n",
    "  ?p schema:mainEntityOfPage/owl:sameAs ?title_id .\n",
    "  ?p schema:contributor/schema:name ?co_author.\n",
    "  ?p schema:mainEntityOfPage/schema:isPartOf <http://data.bibliotheken.nl/id/dataset/stcn> .\n",
    "} LIMIT 100\n",
    "\"\"\"}"
   ]
  },
  {
   "cell_type": "code",
   "execution_count": 155,
   "metadata": {},
   "outputs": [],
   "source": [
    "# Get a list with all the records and additional infor about the publishing entity\n",
    "query8 = {\"pub_description\":\n",
    "\"\"\"\n",
    "select ?title_id ?pub_description where {\n",
    "  ?p schema:mainEntityOfPage/owl:sameAs ?title_id .\n",
    "  ?p schema:publication/schema:description ?pub_description .\n",
    "  ?p schema:mainEntityOfPage/schema:isPartOf <http://data.bibliotheken.nl/id/dataset/stcn> .\n",
    "} LIMIT 100\n",
    "\"\"\"}"
   ]
  },
  {
   "cell_type": "code",
   "execution_count": 156,
   "metadata": {},
   "outputs": [],
   "source": [
    "# Get a list with all the records and the name of the publisher\n",
    "query9 = {\"publisher_name\":\n",
    "\"\"\"\n",
    "select ?title_id ?publisher_name where {\n",
    "  ?p schema:mainEntityOfPage/owl:sameAs ?title_id .\n",
    "  ?p schema:publication/schema:publishedBy/schema:name ?publisher_name .\n",
    "  ?p schema:mainEntityOfPage/schema:isPartOf <http://data.bibliotheken.nl/id/dataset/stcn> .\n",
    "} LIMIT 100\n",
    "\"\"\"}"
   ]
  },
  {
   "cell_type": "code",
   "execution_count": 157,
   "metadata": {},
   "outputs": [],
   "source": [
    "# Get a list with all the records and the format of the publication\n",
    "query10 = {\"format\":\n",
    "\"\"\"\n",
    "select ?title_id ?format where {\n",
    "  ?p schema:mainEntityOfPage/owl:sameAs ?title_id .\n",
    "  ?p <http://data.bibliotheken.nl/def#bibliographicFormat> ?format .\n",
    "  ?p schema:mainEntityOfPage/schema:isPartOf <http://data.bibliotheken.nl/id/dataset/stcn> .\n",
    "} LIMIT 100\n",
    "\"\"\"}"
   ]
  },
  {
   "cell_type": "code",
   "execution_count": 158,
   "metadata": {},
   "outputs": [],
   "source": [
    "# Get a list with all the records and the keywords that are assigned to them. \n",
    "query11 = {\"keywords\":\n",
    "\"\"\"\n",
    "select ?title_id ?keywords where {\n",
    "  ?p schema:mainEntityOfPage/owl:sameAs ?title_id .\n",
    "  ?p schema:about/skos:label ?keywords .\n",
    "  ?p schema:mainEntityOfPage/schema:isPartOf <http://data.bibliotheken.nl/id/dataset/stcn> .\n",
    "} LIMIT 100\n",
    "\"\"\"}"
   ]
  },
  {
   "cell_type": "code",
   "execution_count": 159,
   "metadata": {},
   "outputs": [],
   "source": [
    "query_dict = {**query2, **query3, **query4, **query5, **query6, **query7, **query8, **query9, **query10, **query11}"
   ]
  },
  {
   "cell_type": "code",
   "execution_count": 160,
   "metadata": {},
   "outputs": [],
   "source": [
    "for name, query in query_dict.items():\n",
    "    sparql = SPARQLWrapper(sparql_endpoint)\n",
    "    sparql.setQuery(query)\n",
    "    sparql.setReturnFormat(JSON)\n",
    "    results = sparql.query().convert()\n",
    "    bindings = results[\"results\"][\"bindings\"]\n",
    "    data = []\n",
    "    for item in bindings:\n",
    "        row = {}\n",
    "        for key in item:\n",
    "            row[key] = item[key][\"value\"]\n",
    "        data.append(row)\n",
    "\n",
    "    df_data = pd.DataFrame(data)\n",
    "    result = df_data.groupby('title_id')[name].apply('; '.join).reset_index()\n",
    "    df_join = pd.merge(df, result, left_on='title_id', right_on='title_id', how='left')\n",
    "    df = df_join\n",
    "    "
   ]
  },
  {
   "cell_type": "code",
   "execution_count": 161,
   "metadata": {},
   "outputs": [],
   "source": [
    "# Panda settings for showing data\n",
    "pd.set_option('display.max_columns', None)\n",
    "pd.set_option('display.max_rows', None)\n",
    "pd.set_option('display.max_colwidth', None)"
   ]
  },
  {
   "cell_type": "code",
   "execution_count": 167,
   "metadata": {},
   "outputs": [],
   "source": [
    "# Now I want to join it with the excelsheet that we got\n",
    "\n",
    "# Path to the excel file\n",
    "file_path = folderlink+input_folder+\"STCNtotaalVERRIJKT.xlsx\"\n",
    "\n",
    "# Load the Excel sheet into a DataFrame\n",
    "STCN_old = pd.read_excel(file_path, engine='openpyxl')"
   ]
  },
  {
   "cell_type": "code",
   "execution_count": 181,
   "metadata": {},
   "outputs": [],
   "source": [
    "STCN_old['short_title_id'] = STCN_old['recordnummer'].str.replace(\")\",\"\")\n",
    "STCN_old['title_id'] = STCN_old['short_title_id'].str.replace(\"(0: \", \"http://data.bibliotheken.nl/doc/nbt/p\")"
   ]
  },
  {
   "cell_type": "code",
   "execution_count": 184,
   "metadata": {},
   "outputs": [],
   "source": [
    "STCN_extra_data = STCN_old[['title_id','aantFred','confessie','genre','thema']]"
   ]
  },
  {
   "cell_type": "code",
   "execution_count": 189,
   "metadata": {},
   "outputs": [],
   "source": [
    "STCN_joined = pd.merge(df_join, STCN_extra_data, left_on='title_id', right_on='title_id', how='left')"
   ]
  },
  {
   "cell_type": "code",
   "execution_count": 163,
   "metadata": {},
   "outputs": [],
   "source": [
    "df_join.to_csv(folderlink+folder_output+\"STCN_Dump.csv\", sep=';', encoding='utf-8', index=False)"
   ]
  },
  {
   "cell_type": "code",
   "execution_count": 190,
   "metadata": {},
   "outputs": [],
   "source": [
    "STCN_joined.to_csv(folderlink+folder_output+\"STCN_Dump_extra.csv\", sep=';', encoding='utf-8', index=False)"
   ]
  },
  {
   "cell_type": "code",
   "execution_count": 191,
   "metadata": {},
   "outputs": [],
   "source": [
    "excel_STCN = folderlink+folder_output+\"excel_STCN.xlsx\"\n",
    "df_join.to_excel(excel_STCN, index=False, engine='openpyxl')\n",
    "\n",
    "excel_STCN_extra = folderlink+folder_output+\"excel_STCN_extra.xlsx\"\n",
    "STCN_joined.to_excel(excel_STCN_extra, index=False, engine='openpyxl')"
   ]
  }
 ],
 "metadata": {
  "kernelspec": {
   "display_name": "Python 3",
   "language": "python",
   "name": "python3"
  },
  "language_info": {
   "codemirror_mode": {
    "name": "ipython",
    "version": 3
   },
   "file_extension": ".py",
   "mimetype": "text/x-python",
   "name": "python",
   "nbconvert_exporter": "python",
   "pygments_lexer": "ipython3",
   "version": "3.11.4"
  }
 },
 "nbformat": 4,
 "nbformat_minor": 2
}
