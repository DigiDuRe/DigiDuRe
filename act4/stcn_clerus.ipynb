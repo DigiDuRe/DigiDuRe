{
 "cells": [
  {
   "cell_type": "code",
   "execution_count": null,
   "metadata": {},
   "outputs": [],
   "source": [
    "# import the required libraries\n",
    "import os\n",
    "import re\n",
    "import csv\n",
    "import pandas as pd\n",
    "import numpy as np\n",
    "import matplotlib.pyplot as plt"
   ]
  },
  {
   "cell_type": "code",
   "execution_count": null,
   "metadata": {},
   "outputs": [],
   "source": [
    "# Set variables for the project (i.e. the input location of the file to be processed and the output location) )\n",
    "\n",
    "folderlink = '..//data//'\n",
    "folder_input = 'input//'\n",
    "folder_output = 'output//'\n",
    "input_file_parent = folderlink+folder_output+\"parent_data.csv\"\n",
    "input_stcn = folderlink+folder_output+\"stcn_q8.csv\""
   ]
  },
  {
   "cell_type": "code",
   "execution_count": null,
   "metadata": {},
   "outputs": [],
   "source": [
    "# Panda settings for showing data\n",
    "pd.set_option('display.max_columns', None)\n",
    "pd.set_option('display.max_rows', None)\n",
    "pd.set_option('display.max_colwidth', None)"
   ]
  },
  {
   "cell_type": "code",
   "execution_count": null,
   "metadata": {},
   "outputs": [],
   "source": [
    "stcn_authors = pd.read_csv(input_stcn, sep=';', encoding='utf-8')"
   ]
  },
  {
   "cell_type": "code",
   "execution_count": null,
   "metadata": {},
   "outputs": [],
   "source": [
    "stcn_authors.head()"
   ]
  },
  {
   "cell_type": "code",
   "execution_count": null,
   "metadata": {},
   "outputs": [],
   "source": [
    "stcn_authors['birth_year'] = stcn_authors['author_birthDate'].str.extract(r'(\\d{4})')"
   ]
  },
  {
   "cell_type": "code",
   "execution_count": null,
   "metadata": {},
   "outputs": [],
   "source": [
    "stcn_authors['first_letter'] = stcn_authors['author_givenName'].astype(str).apply(lambda x: x[0])"
   ]
  },
  {
   "cell_type": "code",
   "execution_count": null,
   "metadata": {},
   "outputs": [],
   "source": [
    "stcn_authors.head()"
   ]
  },
  {
   "cell_type": "code",
   "execution_count": null,
   "metadata": {},
   "outputs": [],
   "source": [
    "stcn_authors['surname'] = stcn_authors['author_familyName'].str.replace(' ', '')"
   ]
  },
  {
   "cell_type": "code",
   "execution_count": null,
   "metadata": {},
   "outputs": [],
   "source": [
    "stcn_authors['stcn_name_surname_year'] = (stcn_authors['first_letter'].astype(str)  + '_' + stcn_authors['surname'].astype(str) + '_' + np.where(stcn_authors['birth_year'].isna(), '', stcn_authors['birth_year'].astype(str)))"
   ]
  },
  {
   "cell_type": "code",
   "execution_count": null,
   "metadata": {},
   "outputs": [],
   "source": [
    "stcn_authors = stcn_authors[~stcn_authors['birth_year'].isna()]"
   ]
  },
  {
   "cell_type": "code",
   "execution_count": null,
   "metadata": {},
   "outputs": [],
   "source": [
    "stcn_authors.head()"
   ]
  },
  {
   "cell_type": "code",
   "execution_count": null,
   "metadata": {},
   "outputs": [],
   "source": [
    "year_int = {'year_birth': pd.Int64Dtype(),\n",
    "            'year_death': pd.Int64Dtype(),\n",
    "            'year_baptized': pd.Int64Dtype(), \n",
    "            'year_pastoor': pd.Int64Dtype(), \n",
    "            'year_garnizoenspredikant': pd.Int64Dtype(),\n",
    "            'year_emeritus_status': pd.Int64Dtype(),\n",
    "            'year_burried': pd.Int64Dtype(),\n",
    "            'year_conrector': pd.Int64Dtype(),\n",
    "            'year_rector': pd.Int64Dtype(),\n",
    "            'year_monnik': pd.Int64Dtype(),\n",
    "            'year_schoolmeester': pd.Int64Dtype(),\n",
    "            'year_hoogleraar': pd.Int64Dtype(),\n",
    "            'year_chirurgijn': pd.Int64Dtype(),\n",
    "            'year_praeceptor': pd.Int64Dtype(),\n",
    "            'year_ziekentrooster': pd.Int64Dtype(),\n",
    "            'year_vlootpredikant': pd.Int64Dtype(),\n",
    "            'year_ambassadepredikant': pd.Int64Dtype()}\n"
   ]
  },
  {
   "cell_type": "code",
   "execution_count": null,
   "metadata": {},
   "outputs": [],
   "source": [
    "parent = pd.read_csv(input_file_parent, sep=';', dtype=year_int , encoding='utf-8')"
   ]
  },
  {
   "cell_type": "code",
   "execution_count": null,
   "metadata": {},
   "outputs": [],
   "source": [
    "parent['first_letter'] = parent['name'].astype(str).apply(lambda x: x[1])"
   ]
  },
  {
   "cell_type": "code",
   "execution_count": null,
   "metadata": {},
   "outputs": [],
   "source": [
    "parent = parent[~parent['year_birth'].isna()]"
   ]
  },
  {
   "cell_type": "code",
   "execution_count": null,
   "metadata": {},
   "outputs": [],
   "source": [
    "\n",
    "parent['year_birth'] = parent['year_birth'].astype(str)"
   ]
  },
  {
   "cell_type": "code",
   "execution_count": null,
   "metadata": {},
   "outputs": [],
   "source": [
    "parent['year_birth']= parent['year_birth'].str.extract(r'(\\d{4})')"
   ]
  },
  {
   "cell_type": "code",
   "execution_count": null,
   "metadata": {},
   "outputs": [],
   "source": [
    "parent.head()"
   ]
  },
  {
   "cell_type": "code",
   "execution_count": null,
   "metadata": {},
   "outputs": [],
   "source": [
    "parent['infix'] = parent['infix'].str.replace(' ', '')"
   ]
  },
  {
   "cell_type": "code",
   "execution_count": null,
   "metadata": {},
   "outputs": [],
   "source": [
    "parent['par_name_surname_year'] = (parent['first_letter'].astype(str) + '_' + np.where(parent['infix'].isna(), '', parent['infix'].astype(str)) + '' + parent['surname'].astype(str) + '_' + parent['year_birth'].astype(str))"
   ]
  },
  {
   "cell_type": "code",
   "execution_count": null,
   "metadata": {},
   "outputs": [],
   "source": [
    "parent.head()"
   ]
  },
  {
   "cell_type": "code",
   "execution_count": null,
   "metadata": {},
   "outputs": [],
   "source": [
    "clerus_stcn = pd.merge(parent, stcn_authors, left_on='par_name_surname_year', right_on='stcn_name_surname_year', how='inner')"
   ]
  },
  {
   "cell_type": "code",
   "execution_count": null,
   "metadata": {},
   "outputs": [],
   "source": [
    "clerus_stcn.head()"
   ]
  },
  {
   "cell_type": "code",
   "execution_count": null,
   "metadata": {},
   "outputs": [],
   "source": [
    "clerus_stcn.describe()"
   ]
  },
  {
   "cell_type": "code",
   "execution_count": null,
   "metadata": {},
   "outputs": [],
   "source": [
    "clerus_stcn = clerus_stcn.drop(['baptized','legerpredikant',\t'pastoor',\t'garnizoenspredikant',\t'emeritus_status',\t'burried',\t'conrector',\t'rector',\t'monnik',\t'schoolmeester',\t'hoogleraar',\t'chirurgijn',\t'praeceptor',\t'ziekentrooster',\t'vlootpredikant',\t'ambassadepredikant', 'year_baptized', 'year_pastoor', 'year_garnizoenspredikant', 'year_emeritus_status', 'year_burried', 'year_conrector', 'year_rector', 'year_monnik','year_schoolmeester',\n",
    "'year_hoogleraar', 'year_chirurgijn', 'year_praeceptor', 'year_ziekentrooster', 'year_vlootpredikant', 'year_ambassadepredikant', 'year_legerpredikant','accu_year_birth','accu_year_death','accu_year_baptized','accu_year_legerpredikant','accu_year_pastoor','accu_year_garnizoenspredikant','accu_year_emeritus_status','accu_year_burried','accu_year_conrector','accu_year_rector','accu_year_monnik','accu_year_schoolmeester','accu_year_hoogleraar','accu_year_chirurgijn','accu_year_praeceptor','accu_year_ziekentrooster','accu_year_vlootpredikant','accu_year_ambassadepredikant','join_name'], axis=1)"
   ]
  },
  {
   "cell_type": "code",
   "execution_count": null,
   "metadata": {},
   "outputs": [],
   "source": [
    "clerus_stcn.to_csv(folderlink+folder_output+'clerus_stcn_inner.csv', sep=';', encoding='utf-8', index=False)"
   ]
  },
  {
   "cell_type": "code",
   "execution_count": null,
   "metadata": {},
   "outputs": [],
   "source": [
    "unique_ids = clerus_stcn['clerus_id'].nunique()\n",
    "print(\"Number of unique IDs:\", unique_ids)"
   ]
  },
  {
   "cell_type": "code",
   "execution_count": null,
   "metadata": {},
   "outputs": [],
   "source": [
    "clerus_stcn.head()"
   ]
  },
  {
   "cell_type": "code",
   "execution_count": null,
   "metadata": {},
   "outputs": [],
   "source": [
    "clerus_stcn['year_birth'] = clerus_stcn['year_birth'].astype(int)\n",
    "\n",
    "# Calculate the bins for every 20 years\n",
    "min_year = clerus_stcn['year_birth'].min()\n",
    "max_year = clerus_stcn['year_birth'].max()\n",
    "bin_width = 1\n",
    "bins = range(min_year, max_year + bin_width, bin_width)\n",
    "\n",
    "# Plotting the histogram\n",
    "plt.hist(clerus_stcn['year_birth'], bins=bins)\n",
    "\n",
    "# Customize the plot\n",
    "plt.title(\"Quantities per Year\")\n",
    "plt.xlabel(\"Year of birth\")\n",
    "plt.ylabel(\"Quantity\")\n",
    "\n",
    "# Show the plot\n",
    "plt.show()"
   ]
  }
 ],
 "metadata": {
  "kernelspec": {
   "display_name": "base",
   "language": "python",
   "name": "python3"
  },
  "language_info": {
   "codemirror_mode": {
    "name": "ipython",
    "version": 3
   },
   "file_extension": ".py",
   "mimetype": "text/x-python",
   "name": "python",
   "nbconvert_exporter": "python",
   "pygments_lexer": "ipython3",
   "version": "3.9.13"
  },
  "orig_nbformat": 4
 },
 "nbformat": 4,
 "nbformat_minor": 2
}
