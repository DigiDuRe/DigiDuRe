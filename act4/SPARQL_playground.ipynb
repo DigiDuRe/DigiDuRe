{
 "cells": [
  {
   "cell_type": "code",
   "execution_count": 11,
   "metadata": {},
   "outputs": [],
   "source": [
    "import pandas as pd\n",
    "import os\n",
    "from SPARQLWrapper import SPARQLWrapper, JSON\n",
    "import sparql_pandas"
   ]
  },
  {
   "cell_type": "code",
   "execution_count": 12,
   "metadata": {},
   "outputs": [],
   "source": [
    "folderlink = '..//data//'\n",
    "input_folder = 'input//'\n",
    "folder_output = 'output//'\n",
    "ddrc_file = 'parent_data.csv'\n",
    "input_file = os.path.join(folderlink+folder_output, ddrc_file)"
   ]
  },
  {
   "cell_type": "code",
   "execution_count": 13,
   "metadata": {},
   "outputs": [],
   "source": [
    "sparql_endpoint = \"http://data.bibliotheken.nl/sparql\""
   ]
  },
  {
   "cell_type": "code",
   "execution_count": 14,
   "metadata": {},
   "outputs": [],
   "source": [
    "# query to get all persons from kb endpoint\n",
    "sparql_query = \"\"\"\n",
    "select ?per ?name where {\n",
    "  ?per a schema:Person .\n",
    "  ?per schema:name ?author .   \n",
    "  }\n",
    "limit 100\n",
    "\"\"\""
   ]
  },
  {
   "cell_type": "code",
   "execution_count": 15,
   "metadata": {},
   "outputs": [
    {
     "ename": "NameError",
     "evalue": "name 'SPARQLWrapper' is not defined",
     "output_type": "error",
     "traceback": [
      "\u001b[1;31m---------------------------------------------------------------------------\u001b[0m",
      "\u001b[1;31mNameError\u001b[0m                                 Traceback (most recent call last)",
      "Cell \u001b[1;32mIn[15], line 1\u001b[0m\n\u001b[1;32m----> 1\u001b[0m result_dataframe \u001b[39m=\u001b[39m sparql_pandas\u001b[39m.\u001b[39msparql_to_dataframe(sparql_endpoint, sparql_query)\n",
      "File \u001b[1;32mm:\\GITHUB\\DigiDuRe\\act4\\sparql_pandas.py:5\u001b[0m, in \u001b[0;36msparql_to_dataframe\u001b[1;34m(sparql_endpoint, sparql_query)\u001b[0m\n\u001b[0;32m      4\u001b[0m \u001b[39mdef\u001b[39;00m \u001b[39msparql_to_dataframe\u001b[39m(sparql_endpoint, sparql_query):\n\u001b[1;32m----> 5\u001b[0m     sparql \u001b[39m=\u001b[39m SPARQLWrapper(sparql_endpoint)\n\u001b[0;32m      6\u001b[0m     sparql\u001b[39m.\u001b[39msetQuery(sparql_query)\n\u001b[0;32m      7\u001b[0m     sparql\u001b[39m.\u001b[39msetReturnFormat(JSON)\n",
      "\u001b[1;31mNameError\u001b[0m: name 'SPARQLWrapper' is not defined"
     ]
    }
   ],
   "source": [
    "result_dataframe = sparql_pandas.sparql_to_dataframe(sparql_endpoint, sparql_query)"
   ]
  },
  {
   "cell_type": "code",
   "execution_count": null,
   "metadata": {},
   "outputs": [],
   "source": [
    "output_file = folderlink+folder_output+\"output25071.csv\"\n",
    "result_dataframe.to_csv(output_file, sep=';', encoding='utf-8', index=False)\n"
   ]
  },
  {
   "cell_type": "code",
   "execution_count": null,
   "metadata": {},
   "outputs": [],
   "source": [
    "result_dataframe.describe()"
   ]
  },
  {
   "cell_type": "code",
   "execution_count": null,
   "metadata": {},
   "outputs": [],
   "source": [
    "result_dataframe.head()"
   ]
  }
 ],
 "metadata": {
  "kernelspec": {
   "display_name": "base",
   "language": "python",
   "name": "python3"
  },
  "language_info": {
   "codemirror_mode": {
    "name": "ipython",
    "version": 3
   },
   "file_extension": ".py",
   "mimetype": "text/x-python",
   "name": "python",
   "nbconvert_exporter": "python",
   "pygments_lexer": "ipython3",
   "version": "3.11.4"
  },
  "orig_nbformat": 4
 },
 "nbformat": 4,
 "nbformat_minor": 2
}
