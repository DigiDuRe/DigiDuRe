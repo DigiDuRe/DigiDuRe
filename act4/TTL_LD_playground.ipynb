{
 "cells": [
  {
   "cell_type": "code",
   "execution_count": 6,
   "metadata": {},
   "outputs": [],
   "source": [
    "import csv\n",
    "from rdflib import ConjunctiveGraph, Literal, URIRef\n",
    "import pandas as pd\n"
   ]
  },
  {
   "cell_type": "code",
   "execution_count": 7,
   "metadata": {},
   "outputs": [],
   "source": [
    "folderlink = '..//data//'\n",
    "ld_playground = 'ld_playground//'\n",
    "books_ttl = folderlink+ld_playground+'books.ttl'\n",
    "output_file = folderlink+ld_playground+'output_csv.csv'\n"
   ]
  },
  {
   "cell_type": "code",
   "execution_count": 8,
   "metadata": {},
   "outputs": [],
   "source": [
    "data = []\n",
    "\n",
    "def process_triple(triple):\n",
    "    subject, predicate, obj = triple\n",
    "    if predicate.endswith('title'):\n",
    "        title = str(obj)\n",
    "        # Append the extracted information to the data list\n",
    "        data.append({\n",
    "            'Title': title\n",
    "        })\n",
    "\n",
    "graph = ConjunctiveGraph()\n",
    "graph.parse(books_ttl, format='turtle')\n",
    "\n",
    "for triple in graph:\n",
    "    process_triple(triple)\n",
    "\n",
    "df = pd.DataFrame(data)\n",
    "\n",
    "# Save the DataFrame to a CSV file\n",
    "df.to_csv(output_file, index=False)"
   ]
  }
 ],
 "metadata": {
  "kernelspec": {
   "display_name": "digidure",
   "language": "python",
   "name": "python3"
  },
  "language_info": {
   "codemirror_mode": {
    "name": "ipython",
    "version": 3
   },
   "file_extension": ".py",
   "mimetype": "text/x-python",
   "name": "python",
   "nbconvert_exporter": "python",
   "pygments_lexer": "ipython3",
   "version": "3.11.3"
  },
  "orig_nbformat": 4
 },
 "nbformat": 4,
 "nbformat_minor": 2
}
