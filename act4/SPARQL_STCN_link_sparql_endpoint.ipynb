{
 "cells": [
  {
   "cell_type": "code",
   "execution_count": 129,
   "metadata": {},
   "outputs": [],
   "source": [
    "import pandas as pd\n",
    "import os\n",
    "from SPARQLWrapper import SPARQLWrapper, JSON"
   ]
  },
  {
   "cell_type": "code",
   "execution_count": 130,
   "metadata": {},
   "outputs": [],
   "source": [
    "folderlink = '..//data//'\n",
    "input_folder = 'input//'\n",
    "folder_output = 'output//'\n",
    "ddrc_file = 'parent_data.csv'\n",
    "input_file = os.path.join(folderlink+folder_output, ddrc_file)\n"
   ]
  },
  {
   "cell_type": "code",
   "execution_count": 131,
   "metadata": {},
   "outputs": [],
   "source": [
    "sparql_endpoint = \"http://data.bibliotheken.nl/sparql\"\n"
   ]
  },
  {
   "cell_type": "code",
   "execution_count": 146,
   "metadata": {},
   "outputs": [],
   "source": [
    "sparql_query = \"\"\"\n",
    "select ?title_id ?title ?author_id ?author ?contributor ?contributor_id ?startdate where {\n",
    "  ?publicatie schema:mainEntityOfPage/owl:sameAs ?title_id .\n",
    "  ?publicatie schema:name ?title .\n",
    "  ?publicatie schema:publication/schema:startDate ?startdate .\n",
    "  ?publicatie schema:author/schema:author ?author_id .\n",
    "  ?publicatie schema:author/schema:name ?author .\n",
    "  ?publicatie schema:contributor/schema:contributor ?contributor_id .\n",
    "  ?publicatie schema:contributor/schema:name ?contributor .\n",
    "  ?publicatie schema:mainEntityOfPage/schema:isPartOf <http://data.bibliotheken.nl/id/dataset/stcn> .\n",
    "} \n",
    "\"\"\""
   ]
  },
  {
   "cell_type": "code",
   "execution_count": 167,
   "metadata": {},
   "outputs": [],
   "source": [
    "sparql_query = \"\"\"\n",
    "SELECT ?title_id ?title ?author_id ?author (DISTINCT ?contributor) ?contributor_id ?startdate WHERE {\n",
    "  ?publicatie schema:mainEntityOfPage/owl:sameAs ?title_id .\n",
    "  ?publicatie schema:name ?title .\n",
    "  OPTIONAL {\n",
    "    ?publicatie schema:contributor/schema:contributor ?contributor_id .\n",
    "    ?publicatie schema:contributor/schema:name ?contributor .\n",
    "    ?publicatie schema:publication/schema:startDate ?startdate .\n",
    "    ?publicatie schema:author/schema:author ?author_id .\n",
    "    ?publicatie schema:author/schema:name ?author .\n",
    "  }\n",
    "  ?publicatie schema:mainEntityOfPage/schema:isPartOf <http://data.bibliotheken.nl/id/dataset/stcn> .\n",
    "}\n",
    "\"\"\"\n",
    "\n"
   ]
  },
  {
   "cell_type": "code",
   "execution_count": 169,
   "metadata": {},
   "outputs": [],
   "source": [
    "sparql_query = \"\"\"\n",
    "SELECT ?title_id ?title ?author_id ?author (SAMPLE(?contributor) as ?distinct_contributor) ?contributor_id ?startdate WHERE {\n",
    "  ?publicatie schema:mainEntityOfPage/owl:sameAs ?title_id .\n",
    "  ?publicatie schema:name ?title .\n",
    "  ?publicatie schema:publication/schema:startDate ?startdate .\n",
    "  ?publicatie schema:author/schema:author ?author_id .\n",
    "  ?publicatie schema:author/schema:name ?author .\n",
    "  OPTIONAL {\n",
    "    ?publicatie schema:contributor/schema:contributor ?contributor_id .\n",
    "    ?publicatie schema:contributor/schema:name ?contributor .\n",
    "  }\n",
    "  ?publicatie schema:mainEntityOfPage/schema:isPartOf <http://data.bibliotheken.nl/id/dataset/stcn> .\n",
    "}\n",
    "GROUP BY ?title_id ?title ?author_id ?author ?contributor_id ?startdate\n",
    "\"\"\""
   ]
  },
  {
   "cell_type": "code",
   "execution_count": 170,
   "metadata": {},
   "outputs": [],
   "source": [
    "sparql = SPARQLWrapper(sparql_endpoint)\n",
    "sparql.setQuery(sparql_query)\n",
    "sparql.setReturnFormat(JSON)\n",
    "\n",
    "results = sparql.query().convert()\n",
    "\n",
    "bindings = results[\"results\"][\"bindings\"]\n",
    "data = []\n",
    "\n",
    "for item in bindings:\n",
    "    row = {}\n",
    "    for key in item:\n",
    "        row[key] = item[key][\"value\"]\n",
    "    data.append(row)\n",
    "\n",
    "df = pd.DataFrame(data)\n",
    "\n",
    "# Panda settings for showing data\n",
    "pd.set_option('display.max_columns', None)\n",
    "pd.set_option('display.max_rows', None)\n",
    "pd.set_option('display.max_colwidth', None)\n",
    "\n",
    "#df.head(500)"
   ]
  },
  {
   "cell_type": "code",
   "execution_count": 171,
   "metadata": {},
   "outputs": [
    {
     "data": {
      "text/html": [
       "<div>\n",
       "<style scoped>\n",
       "    .dataframe tbody tr th:only-of-type {\n",
       "        vertical-align: middle;\n",
       "    }\n",
       "\n",
       "    .dataframe tbody tr th {\n",
       "        vertical-align: top;\n",
       "    }\n",
       "\n",
       "    .dataframe thead th {\n",
       "        text-align: right;\n",
       "    }\n",
       "</style>\n",
       "<table border=\"1\" class=\"dataframe\">\n",
       "  <thead>\n",
       "    <tr style=\"text-align: right;\">\n",
       "      <th></th>\n",
       "      <th>title_id</th>\n",
       "      <th>title</th>\n",
       "      <th>author_id</th>\n",
       "      <th>author</th>\n",
       "      <th>distinct_contributor</th>\n",
       "      <th>contributor_id</th>\n",
       "      <th>startdate</th>\n",
       "    </tr>\n",
       "  </thead>\n",
       "  <tbody>\n",
       "    <tr>\n",
       "      <th>count</th>\n",
       "      <td>121013</td>\n",
       "      <td>121013</td>\n",
       "      <td>121013</td>\n",
       "      <td>121013</td>\n",
       "      <td>28729</td>\n",
       "      <td>28729</td>\n",
       "      <td>121013</td>\n",
       "    </tr>\n",
       "    <tr>\n",
       "      <th>unique</th>\n",
       "      <td>117939</td>\n",
       "      <td>92223</td>\n",
       "      <td>37898</td>\n",
       "      <td>51287</td>\n",
       "      <td>8514</td>\n",
       "      <td>6878</td>\n",
       "      <td>380</td>\n",
       "    </tr>\n",
       "    <tr>\n",
       "      <th>top</th>\n",
       "      <td>http://data.bibliotheken.nl/doc/nbt/p303809205</td>\n",
       "      <td>Theses juridicae inaugurales.</td>\n",
       "      <td>http://data.bibliotheken.nl/id/thes/p068423667</td>\n",
       "      <td>De Voltaire</td>\n",
       "      <td>Johannes à Marck</td>\n",
       "      <td>http://data.bibliotheken.nl/id/thes/p06914852X</td>\n",
       "      <td>17XX</td>\n",
       "    </tr>\n",
       "    <tr>\n",
       "      <th>freq</th>\n",
       "      <td>9</td>\n",
       "      <td>496</td>\n",
       "      <td>444</td>\n",
       "      <td>195</td>\n",
       "      <td>366</td>\n",
       "      <td>374</td>\n",
       "      <td>2429</td>\n",
       "    </tr>\n",
       "  </tbody>\n",
       "</table>\n",
       "</div>"
      ],
      "text/plain": [
       "                                              title_id   \n",
       "count                                           121013  \\\n",
       "unique                                          117939   \n",
       "top     http://data.bibliotheken.nl/doc/nbt/p303809205   \n",
       "freq                                                 9   \n",
       "\n",
       "                                title   \n",
       "count                          121013  \\\n",
       "unique                          92223   \n",
       "top     Theses juridicae inaugurales.   \n",
       "freq                              496   \n",
       "\n",
       "                                             author_id       author   \n",
       "count                                           121013       121013  \\\n",
       "unique                                           37898        51287   \n",
       "top     http://data.bibliotheken.nl/id/thes/p068423667  De Voltaire   \n",
       "freq                                               444          195   \n",
       "\n",
       "       distinct_contributor                                  contributor_id   \n",
       "count                 28729                                           28729  \\\n",
       "unique                 8514                                            6878   \n",
       "top       Johannes à Marck  http://data.bibliotheken.nl/id/thes/p06914852X   \n",
       "freq                    366                                             374   \n",
       "\n",
       "       startdate  \n",
       "count     121013  \n",
       "unique       380  \n",
       "top         17XX  \n",
       "freq        2429  "
      ]
     },
     "execution_count": 171,
     "metadata": {},
     "output_type": "execute_result"
    }
   ],
   "source": [
    "df.describe()"
   ]
  },
  {
   "cell_type": "code",
   "execution_count": 172,
   "metadata": {},
   "outputs": [],
   "source": [
    "output_file = folderlink+folder_output+\"stcn.csv\"\n",
    "df.to_csv(output_file, sep=';', encoding='utf-8', index=False)"
   ]
  },
  {
   "cell_type": "code",
   "execution_count": null,
   "metadata": {},
   "outputs": [],
   "source": [
    "df_duplicates = df[df.duplicated('title_id', keep=False)]"
   ]
  },
  {
   "cell_type": "code",
   "execution_count": null,
   "metadata": {},
   "outputs": [],
   "source": [
    "df_duplicates.head(500)"
   ]
  },
  {
   "cell_type": "code",
   "execution_count": null,
   "metadata": {},
   "outputs": [],
   "source": [
    "df.sort_values('title_id', ascending=False)"
   ]
  }
 ],
 "metadata": {
  "kernelspec": {
   "display_name": "digidure",
   "language": "python",
   "name": "python3"
  },
  "language_info": {
   "codemirror_mode": {
    "name": "ipython",
    "version": 3
   },
   "file_extension": ".py",
   "mimetype": "text/x-python",
   "name": "python",
   "nbconvert_exporter": "python",
   "pygments_lexer": "ipython3",
   "version": "3.11.3"
  },
  "orig_nbformat": 4
 },
 "nbformat": 4,
 "nbformat_minor": 2
}
