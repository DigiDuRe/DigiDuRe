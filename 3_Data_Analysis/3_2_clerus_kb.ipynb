{
 "cells": [
  {
   "cell_type": "markdown",
   "metadata": {},
   "source": [
    "## 3.2 Number of titles published by protestant ministers per year"
   ]
  },
  {
   "cell_type": "markdown",
   "metadata": {},
   "source": [
    "In this notebook a script is provided to get an graph on protestant ministers from CLERUS that published as main or co author over the years. The focus lies on the period until 1817, since we are using CLERUS_v1, yet it could easily be rerun on clerus_v2 once it is curated. The input data from the KB is processed in [2_5_Export_KB_data_nbt_authorinfo](../2_Linking_data/2_5_Export_KB_data_nbt_authorinfo.ipynb). \n",
    "\n",
    "Note that this is an example notebook in showing what the options are. Be aware that this linkage excludes all kind of possible links. For a computational historical analysis a more solid approach is needed with a clear research question."
   ]
  },
  {
   "cell_type": "code",
   "execution_count": 1,
   "metadata": {},
   "outputs": [
    {
     "name": "stderr",
     "output_type": "stream",
     "text": [
      "C:\\Users\\Maurice de Kleijn\\AppData\\Local\\Temp\\ipykernel_18536\\3793384337.py:28: UserWarning: pandas only supports SQLAlchemy connectable (engine/connection) or database string URI or sqlite3 DBAPI2 connection. Other DBAPI2 objects are not tested. Please consider using SQLAlchemy.\n",
      "  df = pd.read_sql(query, conn)\n",
      "C:\\Users\\Maurice de Kleijn\\AppData\\Local\\Temp\\ipykernel_18536\\3793384337.py:28: UserWarning: pandas only supports SQLAlchemy connectable (engine/connection) or database string URI or sqlite3 DBAPI2 connection. Other DBAPI2 objects are not tested. Please consider using SQLAlchemy.\n",
      "  df = pd.read_sql(query, conn)\n",
      "C:\\Users\\Maurice de Kleijn\\AppData\\Local\\Temp\\ipykernel_18536\\3793384337.py:28: UserWarning: pandas only supports SQLAlchemy connectable (engine/connection) or database string URI or sqlite3 DBAPI2 connection. Other DBAPI2 objects are not tested. Please consider using SQLAlchemy.\n",
      "  df = pd.read_sql(query, conn)\n",
      "C:\\Users\\Maurice de Kleijn\\AppData\\Local\\Temp\\ipykernel_18536\\3793384337.py:28: UserWarning: pandas only supports SQLAlchemy connectable (engine/connection) or database string URI or sqlite3 DBAPI2 connection. Other DBAPI2 objects are not tested. Please consider using SQLAlchemy.\n",
      "  df = pd.read_sql(query, conn)\n",
      "C:\\Users\\Maurice de Kleijn\\AppData\\Local\\Temp\\ipykernel_18536\\3793384337.py:28: UserWarning: pandas only supports SQLAlchemy connectable (engine/connection) or database string URI or sqlite3 DBAPI2 connection. Other DBAPI2 objects are not tested. Please consider using SQLAlchemy.\n",
      "  df = pd.read_sql(query, conn)\n",
      "C:\\Users\\Maurice de Kleijn\\AppData\\Local\\Temp\\ipykernel_18536\\3793384337.py:28: UserWarning: pandas only supports SQLAlchemy connectable (engine/connection) or database string URI or sqlite3 DBAPI2 connection. Other DBAPI2 objects are not tested. Please consider using SQLAlchemy.\n",
      "  df = pd.read_sql(query, conn)\n",
      "C:\\Users\\Maurice de Kleijn\\AppData\\Local\\Temp\\ipykernel_18536\\3793384337.py:28: UserWarning: pandas only supports SQLAlchemy connectable (engine/connection) or database string URI or sqlite3 DBAPI2 connection. Other DBAPI2 objects are not tested. Please consider using SQLAlchemy.\n",
      "  df = pd.read_sql(query, conn)\n",
      "C:\\Users\\Maurice de Kleijn\\AppData\\Local\\Temp\\ipykernel_18536\\3793384337.py:28: UserWarning: pandas only supports SQLAlchemy connectable (engine/connection) or database string URI or sqlite3 DBAPI2 connection. Other DBAPI2 objects are not tested. Please consider using SQLAlchemy.\n",
      "  df = pd.read_sql(query, conn)\n"
     ]
    }
   ],
   "source": [
    "# Load CLERUS database\n",
    "\n",
    "import pyodbc\n",
    "import pandas as pd\n",
    "import re\n",
    "import numpy as np\n",
    "import csv\n",
    "import matplotlib.pyplot as plt\n",
    "\n",
    "# Function to load all tables as panda dataframes from an access database\n",
    "def export_access_to_dataframes(database_path):\n",
    "    # Connection string for Access database\n",
    "    conn_str = (\n",
    "        r'DRIVER={Microsoft Access Driver (*.mdb, *.accdb)};'\n",
    "        r'DBQ=' + database_path + ';'\n",
    "    )\n",
    "\n",
    "    # Establish a connection to the Access database\n",
    "    conn = pyodbc.connect(conn_str)\n",
    "    cursor = conn.cursor()\n",
    "\n",
    "    # Get a list of all tables in the database\n",
    "    tables = [row.table_name for row in cursor.tables(tableType='TABLE')]\n",
    "\n",
    "    # Loop through the tables and load each into a DataFrame\n",
    "    for table in tables:\n",
    "        query = f'SELECT * FROM [{table}]'\n",
    "        df = pd.read_sql(query, conn)\n",
    "        globals()[f'tbl_{table}'] = df  # Create a global variable with the table name\n",
    "\n",
    "    # Close the connection\n",
    "    conn.close()\n",
    "\n",
    "# Provided path to CLERUS access database (if needed there is also a .sql dump of the access database) \n",
    "clerus_db = '..\\data\\input\\CLERUS_v1_DRC_07082024.accdb'\n",
    "\n",
    "# load database tables as panda dataframes\n",
    "export_access_to_dataframes(clerus_db)"
   ]
  },
  {
   "cell_type": "code",
   "execution_count": 2,
   "metadata": {},
   "outputs": [],
   "source": [
    "# Load Book title data in pandas dataframe \n",
    "# Make sure to update the name according to the names generated in the output of ..\\2_Linking_data\\2_5_Export_KB_data_nbt_authorinfo.ipynb\n",
    "\n",
    "authors_path = '..\\\\data\\\\output\\\\nbt_books_authors_08082024.csv'\n",
    "authors = pd.read_csv(authors_path, sep=';', encoding='utf-8')\n",
    "\n",
    "co_authors_path = '..\\\\data\\\\output\\\\nbt_books_co_authors_08082024.csv'\n",
    "co_authors = pd.read_csv(co_authors_path, sep=';', encoding='utf-8')\n",
    "\n",
    "book_info_path = '..\\\\data\\\\output\\\\nbt_books_08082024.csv'\n",
    "book_info = pd.read_csv(book_info_path, sep=';', encoding='utf-8')\n"
   ]
  },
  {
   "cell_type": "code",
   "execution_count": 3,
   "metadata": {},
   "outputs": [],
   "source": [
    "# Panda settings for showing data\n",
    "pd.set_option('display.max_columns', None)\n",
    "pd.set_option('display.max_rows', None)\n",
    "pd.set_option('display.max_colwidth', None)"
   ]
  },
  {
   "cell_type": "code",
   "execution_count": 4,
   "metadata": {},
   "outputs": [],
   "source": [
    "def split_name_column(row):\n",
    "    if isinstance(row, str):\n",
    "        try:\n",
    "            surname, rest = row.split(', ')\n",
    "            if ' (' in rest:\n",
    "                first_name, years = rest.split(' (')\n",
    "                first_letter = first_name[0]\n",
    "                birth_year, death_year = years.strip(')').split('-')\n",
    "                return pd.Series([surname, first_name, first_letter, birth_year, death_year])\n",
    "            else:\n",
    "                first_name = rest\n",
    "                first_letter = first_name[0]\n",
    "                return pd.Series([surname, first_name, first_letter, None, None])\n",
    "        except ValueError:\n",
    "            return pd.Series([None, None, None, None, None])\n",
    "    else:\n",
    "        return pd.Series([None, None, None, None, None])"
   ]
  },
  {
   "cell_type": "code",
   "execution_count": 5,
   "metadata": {},
   "outputs": [],
   "source": [
    "authors[['surname', 'first_name', 'first_letter', 'birth_year', 'death_year']] = authors['author'].apply(split_name_column)\n",
    "authors['authorship'] = \"main author\"\n",
    "authors.rename(columns={'author': 'bio'}, inplace=True)\n",
    "\n",
    "co_authors[['surname', 'first_name', 'first_letter', 'birth_year', 'death_year']] = co_authors['co_author'].apply(split_name_column)\n",
    "co_authors.rename(columns={'co_author': 'bio'}, inplace=True)\n",
    "co_authors['authorship'] = \"co author\""
   ]
  },
  {
   "cell_type": "code",
   "execution_count": 6,
   "metadata": {},
   "outputs": [],
   "source": [
    "book_authors = pd.concat([authors, co_authors], ignore_index=True)\n",
    "book_authors['book_join_fld'] = (book_authors['first_letter'].astype(str) + '_' + book_authors['surname'].astype(str) + '_' + np.where(book_authors['birth_year'].isna(), '', book_authors['birth_year'].astype(str)))"
   ]
  },
  {
   "cell_type": "code",
   "execution_count": 7,
   "metadata": {},
   "outputs": [],
   "source": [
    "# Link publication year to authors of books\n",
    "book_pub_year = book_info[['title_id','pub_year']]\n",
    "book_authors_py = pd.merge(book_authors, book_pub_year, left_on='title_id', right_on='title_id', how='left')"
   ]
  },
  {
   "cell_type": "code",
   "execution_count": 8,
   "metadata": {},
   "outputs": [],
   "source": [
    "# For the purpose of this example we map the first letter, surname and year of birth between CLERUS_v1 and the NBT output. \n",
    "# Obviously this will not contain all the matching persons, since CLERUS might in some occasions have a different spelling and the KB as well. \n",
    "# To solve this methods like Levensthein can be applied combined with sampling the data for expert assessment to estimate the reliability of the analysis.\n",
    "# Step 1: create a join string from tbl_01_clerus_bio\n",
    "\n",
    "tbl_01_clerus_bio['first_letter'] = tbl_01_clerus_bio['first_name'].astype(str).apply(lambda x: x[0])\n",
    "tbl_01_clerus_bio['birth_year'] = tbl_01_clerus_bio['birth_year'].astype(str)\n",
    "tbl_01_clerus_bio['birth_year']= tbl_01_clerus_bio['birth_year'].str.extract(r'(\\d{4})')\n",
    "tbl_01_clerus_bio['clerus_join_fld'] = (tbl_01_clerus_bio['first_letter'].astype(str) + '_' + tbl_01_clerus_bio['surname'].astype(str) + '_' + np.where(tbl_01_clerus_bio['birth_year'].isna(), '', tbl_01_clerus_bio['birth_year'].astype(str)))"
   ]
  },
  {
   "cell_type": "code",
   "execution_count": 9,
   "metadata": {},
   "outputs": [],
   "source": [
    "# Here a left join is made between book_authors and tbl_01_clerus_bio. This keeps all book records and adds only clerus ministers that are matched.\n",
    "clerus_books_links = pd.merge(book_authors_py, tbl_01_clerus_bio, left_on='book_join_fld', right_on='clerus_join_fld', how='left')"
   ]
  },
  {
   "cell_type": "code",
   "execution_count": 10,
   "metadata": {},
   "outputs": [],
   "source": [
    "# Now a subselection is made for all books that are linked with a clerus individual\n",
    "clerus_authors = clerus_books_links.dropna(subset=['clerus_join_fld'])\n",
    "\n",
    "# This however does provide a lot of useless links especially when a birth year is unknown. For instance J_Janssen_ matches obiously between the two datasets. It could have been solves by not creating the string above, however some individuals are indeed unique.\n",
    "clerus_authors_by = clerus_authors[clerus_authors['clerus_join_fld'].str.contains(r'\\d{4}', regex=True)]"
   ]
  },
  {
   "cell_type": "code",
   "execution_count": 11,
   "metadata": {},
   "outputs": [
    {
     "name": "stderr",
     "output_type": "stream",
     "text": [
      "C:\\Users\\Maurice de Kleijn\\AppData\\Local\\Temp\\ipykernel_18536\\2221247729.py:2: SettingWithCopyWarning: \n",
      "A value is trying to be set on a copy of a slice from a DataFrame.\n",
      "Try using .loc[row_indexer,col_indexer] = value instead\n",
      "\n",
      "See the caveats in the documentation: https://pandas.pydata.org/pandas-docs/stable/user_guide/indexing.html#returning-a-view-versus-a-copy\n",
      "  clerus_authors_by['pub_year'] = clerus_authors_by['pub_year'].fillna('0').str.replace('X', '0')\n",
      "C:\\Users\\Maurice de Kleijn\\AppData\\Local\\Temp\\ipykernel_18536\\2221247729.py:3: SettingWithCopyWarning: \n",
      "A value is trying to be set on a copy of a slice from a DataFrame.\n",
      "Try using .loc[row_indexer,col_indexer] = value instead\n",
      "\n",
      "See the caveats in the documentation: https://pandas.pydata.org/pandas-docs/stable/user_guide/indexing.html#returning-a-view-versus-a-copy\n",
      "  clerus_authors_by['pub_year_int'] = clerus_authors_by['pub_year'].astype(int)\n"
     ]
    }
   ],
   "source": [
    "# Since the KB dataset used X when publication year is uncertain we decided to replace these for a 0 (an other option would be to exclude them)\n",
    "clerus_authors_by['pub_year'] = clerus_authors_by['pub_year'].fillna('0').str.replace('X', '0')\n",
    "clerus_authors_by['pub_year_int'] = clerus_authors_by['pub_year'].astype(int)"
   ]
  },
  {
   "cell_type": "code",
   "execution_count": 12,
   "metadata": {},
   "outputs": [],
   "source": [
    "# exclude all pub_years that are 0\n",
    "clerus_authors_by = clerus_authors_by[clerus_authors_by['pub_year_int'] != 0]"
   ]
  },
  {
   "cell_type": "code",
   "execution_count": 13,
   "metadata": {},
   "outputs": [],
   "source": [
    "# seperate main and co authors\n",
    "clerus_main_authors = clerus_authors_by[clerus_authors_by['authorship'] == 'main author']['pub_year_int'].value_counts().sort_index()\n",
    "clerus_co_authors = clerus_authors_by[clerus_authors_by['authorship'] == 'co author']['pub_year_int'].value_counts().sort_index()\n",
    "\n",
    "all_years = sorted(set(clerus_main_authors.index).union(set(clerus_co_authors.index)))\n",
    "clerus_main_authors = clerus_main_authors.reindex(all_years, fill_value=0)\n",
    "clerus_co_authors = clerus_co_authors.reindex(all_years, fill_value=0)"
   ]
  },
  {
   "cell_type": "code",
   "execution_count": 16,
   "metadata": {},
   "outputs": [
    {
     "data": {
      "image/png": "[encoded data removed]",
      "text/plain": [
       "<Figure size 1200x600 with 1 Axes>"
      ]
     },
     "metadata": {},
     "output_type": "display_data"
    }
   ],
   "source": [
    "# Plot stacked bars\n",
    "plt.figure(figsize=(12, 6))\n",
    "bar_width = 0.8\n",
    "\n",
    "p1 = plt.bar(clerus_main_authors.index, clerus_main_authors.values, bar_width, label='main authors', color='blue')\n",
    "p2 = plt.bar(clerus_co_authors.index, clerus_co_authors.values, bar_width, bottom=clerus_main_authors.values, label='co authors', color='orange')\n",
    "\n",
    "plt.xlabel('Publication Year')\n",
    "plt.ylabel('Count of Rows')\n",
    "plt.title('Publications of Dutch Protestant ministers by Years and Authorship from NBT dataset KB')\n",
    "plt.xticks(rotation=45)\n",
    "\n",
    "# Set the custom x-axis ticks\n",
    "custom_ticks = list(range(1550, 2000, 50))\n",
    "plt.gca().set_xticks(custom_ticks)\n",
    "\n",
    "plt.legend()\n",
    "plt.grid(axis='y', linestyle='--', alpha=0.7)\n",
    "plt.tight_layout()\n",
    "\n",
    "# Show plot\n",
    "plt.show()"
   ]
  }
 ],
 "metadata": {
  "kernelspec": {
   "display_name": "Python 3",
   "language": "python",
   "name": "python3"
  },
  "language_info": {
   "codemirror_mode": {
    "name": "ipython",
    "version": 3
   },
   "file_extension": ".py",
   "mimetype": "text/x-python",
   "name": "python",
   "nbconvert_exporter": "python",
   "pygments_lexer": "ipython3",
   "version": "3.11.4"
  }
 },
 "nbformat": 4,
 "nbformat_minor": 2
}
