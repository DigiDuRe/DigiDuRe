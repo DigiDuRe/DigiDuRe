{
 "cells": [
  {
   "cell_type": "markdown",
   "metadata": {},
   "source": [
    "# Boekzaallijst\n",
    "\n",
    "The **Boekzaallijst** is created from multiple archival sources that registered the individuals that got the \"proponenten\" status from 1736 to 1816. Being a \"proponent\" meant that someone passed their proponent exam, which was a prerequisite to become a minister. It does however not mean that someone actually became a minister. Yet, without the \"proponent\" status it was not allowed to act as minister. \n",
    "\n",
    "The boekzaallijst is a structured dataset with rows for every individual. It contains the first name, surname, the place (classis region) where the exam was registered and the place of the first parish where one acted as minister. In addition is sometimes contains additional information about the carreer.\n",
    "\n",
    "The boekzaallijst contains individuals that are also present in DRC. However, it also contains individuals that have not become minister in the Netherlands, thus that are not part of DRC, since that list exclusively contains individuals that have become minister. \n",
    "\n",
    "Linking the **Boekzaallijst** with [DRC](1_1_DRC_1555-1816.ipynb) allows to see what share of individuals have become a minister in the Netherlands and also which individuals have acted as minister in the for example the Dutch colonies. With a variety in the spelling of names and different data fields, this is not as staightforward as it seems. The **Boekzaallijst** is less rich compared to the DRC, which for instance also contains information about the date or place of birth or death etc., allowing to distinguish individuals more easily. \n",
    "\n",
    "This notebook is created to aid in the process of linking DRC with the **Boekzaallijst** based on a series of rules and by applying [Levenshtein](https://pypi.org/project/python-Levenshtein/). As for the input DRC dataset a fully curated DRC database stored as MS access .accdb is used. "
   ]
  },
  {
   "cell_type": "code",
   "execution_count": 5,
   "metadata": {},
   "outputs": [],
   "source": [
    "# import the required libraries\n",
    "import os\n",
    "import re\n",
    "import csv\n",
    "import pandas as pd\n",
    "import numpy as np\n",
    "import pyodbc\n",
    "import Levenshtein as lev\n"
   ]
  },
  {
   "cell_type": "code",
   "execution_count": 6,
   "metadata": {},
   "outputs": [],
   "source": [
    "# To link the DRC with the boekzaallijst we decided to follow 6 strategies. \n",
    "\n",
    "# Strategies to link DRC and BZ are: \n",
    "# 1. the first letter of the name, the full surname and the year of the first time someone acted as minister.\n",
    "# 2. the first letter of the name, the full surname and the year of the first time someone acted as minister -1, since there can be a delay in the boekzaallijst registration.\n",
    "# 3. The first 3 of the surname and the year of the first time someone acted as minister.   \n",
    "# 4. The first 3 of the surname and the year of the first time someone acted as minister -1 (see 2).\n",
    "# 5. With the strings created in strategy 1 apply a top 3 matching based on Levenshtein distances\n",
    "\n",
    "# Before we start we load the \"boekzaalijst\" data from a csv file."
   ]
  },
  {
   "cell_type": "code",
   "execution_count": 7,
   "metadata": {},
   "outputs": [],
   "source": [
    "# Set variables for the project (i.e. the input location of the file to be processed and the output location) )\n",
    "\n",
    "folderlink = '..//data//'\n",
    "input_folder = 'input//'\n",
    "input_file = os.path.join(folderlink+input_folder, 'boekzaallijst_27072023.csv')\n",
    "folder_output = 'output//'\n",
    "output_csv = folderlink+folder_output+'clerus_boekzaal.csv'\n",
    "drc_database = 'DRC_05102023_merged.accdb'\n",
    "\n",
    "\n",
    "# Panda settings for showing data\n",
    "pd.set_option('display.max_columns', None)\n",
    "pd.set_option('display.max_rows', None)\n",
    "pd.set_option('display.max_colwidth', None)"
   ]
  },
  {
   "cell_type": "markdown",
   "metadata": {},
   "source": [
    "### STEP 1 Add join fields in Boekzaallijst \n",
    "\n",
    "First we need to add fields in the Boekzaallijst sheet with which the DRC can be joined based on the strategies formulated above. "
   ]
  },
  {
   "cell_type": "code",
   "execution_count": 8,
   "metadata": {},
   "outputs": [],
   "source": [
    "# Load the boekzaallijst dataset from a csv\n",
    "years_to_integers = {'Jaar (Begin) Rol': pd.Int64Dtype(),'Jaar Beroepen': pd.Int64Dtype(), }\n",
    "boekzaallijst = pd.read_csv(input_file, sep=';', dtype=years_to_integers, encoding='utf-8')"
   ]
  },
  {
   "cell_type": "code",
   "execution_count": 9,
   "metadata": {},
   "outputs": [],
   "source": [
    "# To create new fields containing the 'First_Letter' the following function is used\n",
    "def get_first_letter(row, name_column, initial_column):\n",
    "    name_letter = row[name_column][0] if pd.notnull(row[name_column]) else None\n",
    "    initial_letter = row[initial_column][0] if pd.notnull(row[initial_column]) else None\n",
    "    return name_letter or initial_letter"
   ]
  },
  {
   "cell_type": "code",
   "execution_count": 10,
   "metadata": {},
   "outputs": [],
   "source": [
    "# Create the new field containing the 'First_Letter'\n",
    "boekzaallijst['first_letter'] = boekzaallijst.apply(lambda row: get_first_letter(row, 'Voornaam_BZ', 'Voorletter_BZ'), axis=1)"
   ]
  },
  {
   "cell_type": "code",
   "execution_count": 11,
   "metadata": {},
   "outputs": [],
   "source": [
    "fil_boekzaallijst = boekzaallijst.dropna(subset=['Jaar Beroepen'])"
   ]
  },
  {
   "cell_type": "code",
   "execution_count": 12,
   "metadata": {},
   "outputs": [
    {
     "name": "stderr",
     "output_type": "stream",
     "text": [
      "C:\\Users\\Maurice de Kleijn\\AppData\\Local\\Temp\\ipykernel_17228\\848547381.py:2: SettingWithCopyWarning: \n",
      "A value is trying to be set on a copy of a slice from a DataFrame.\n",
      "Try using .loc[row_indexer,col_indexer] = value instead\n",
      "\n",
      "See the caveats in the documentation: https://pandas.pydata.org/pandas-docs/stable/user_guide/indexing.html#returning-a-view-versus-a-copy\n",
      "  fil_boekzaallijst['strat1_boekzaallink'] = fil_boekzaallijst['first_letter'].astype(str) + '_' + fil_boekzaallijst['Achternaam_BZ'].astype(str) + '_' + fil_boekzaallijst['Jaar Beroepen'].astype(str).str.replace(' ', '')\n"
     ]
    }
   ],
   "source": [
    "# Create the link to formulate the connection using strategy 1\n",
    "fil_boekzaallijst['strat1_boekzaallink'] = fil_boekzaallijst['first_letter'].astype(str) + '_' + fil_boekzaallijst['Achternaam_BZ'].astype(str) + '_' + fil_boekzaallijst['Jaar Beroepen'].astype(str).str.replace(' ', '')"
   ]
  },
  {
   "cell_type": "code",
   "execution_count": 13,
   "metadata": {},
   "outputs": [],
   "source": [
    "# Create the link to formulate the connection using strategy 2\n",
    "def lower_one_to_integer(num):\n",
    "    return num - 1"
   ]
  },
  {
   "cell_type": "code",
   "execution_count": 14,
   "metadata": {},
   "outputs": [
    {
     "name": "stderr",
     "output_type": "stream",
     "text": [
      "C:\\Users\\Maurice de Kleijn\\AppData\\Local\\Temp\\ipykernel_17228\\4270696410.py:1: SettingWithCopyWarning: \n",
      "A value is trying to be set on a copy of a slice from a DataFrame.\n",
      "Try using .loc[row_indexer,col_indexer] = value instead\n",
      "\n",
      "See the caveats in the documentation: https://pandas.pydata.org/pandas-docs/stable/user_guide/indexing.html#returning-a-view-versus-a-copy\n",
      "  fil_boekzaallijst['year_min1'] = fil_boekzaallijst['Jaar Beroepen'].apply(lower_one_to_integer)\n"
     ]
    }
   ],
   "source": [
    "fil_boekzaallijst['year_min1'] = fil_boekzaallijst['Jaar Beroepen'].apply(lower_one_to_integer)"
   ]
  },
  {
   "cell_type": "code",
   "execution_count": 15,
   "metadata": {},
   "outputs": [
    {
     "name": "stderr",
     "output_type": "stream",
     "text": [
      "C:\\Users\\Maurice de Kleijn\\AppData\\Local\\Temp\\ipykernel_17228\\2022391221.py:1: SettingWithCopyWarning: \n",
      "A value is trying to be set on a copy of a slice from a DataFrame.\n",
      "Try using .loc[row_indexer,col_indexer] = value instead\n",
      "\n",
      "See the caveats in the documentation: https://pandas.pydata.org/pandas-docs/stable/user_guide/indexing.html#returning-a-view-versus-a-copy\n",
      "  fil_boekzaallijst['strat2_boekzaallink'] = fil_boekzaallijst['first_letter'].astype(str) + '_' + fil_boekzaallijst['Achternaam_BZ'].astype(str) + '_' + fil_boekzaallijst['year_min1'].astype(str).str.replace(' ', '')\n"
     ]
    }
   ],
   "source": [
    "fil_boekzaallijst['strat2_boekzaallink'] = fil_boekzaallijst['first_letter'].astype(str) + '_' + fil_boekzaallijst['Achternaam_BZ'].astype(str) + '_' + fil_boekzaallijst['year_min1'].astype(str).str.replace(' ', '')"
   ]
  },
  {
   "cell_type": "code",
   "execution_count": 16,
   "metadata": {},
   "outputs": [
    {
     "name": "stderr",
     "output_type": "stream",
     "text": [
      "C:\\Users\\Maurice de Kleijn\\AppData\\Local\\Temp\\ipykernel_17228\\2378997072.py:2: SettingWithCopyWarning: \n",
      "A value is trying to be set on a copy of a slice from a DataFrame.\n",
      "Try using .loc[row_indexer,col_indexer] = value instead\n",
      "\n",
      "See the caveats in the documentation: https://pandas.pydata.org/pandas-docs/stable/user_guide/indexing.html#returning-a-view-versus-a-copy\n",
      "  fil_boekzaallijst['strat3_boekzaallink'] =  fil_boekzaallijst['Achternaam_BZ'].str[:3]+ '_' + fil_boekzaallijst['Jaar Beroepen'].astype(str).str.replace(' ', '')\n",
      "C:\\Users\\Maurice de Kleijn\\AppData\\Local\\Temp\\ipykernel_17228\\2378997072.py:3: SettingWithCopyWarning: \n",
      "A value is trying to be set on a copy of a slice from a DataFrame.\n",
      "Try using .loc[row_indexer,col_indexer] = value instead\n",
      "\n",
      "See the caveats in the documentation: https://pandas.pydata.org/pandas-docs/stable/user_guide/indexing.html#returning-a-view-versus-a-copy\n",
      "  fil_boekzaallijst['strat4_boekzaallink'] =  fil_boekzaallijst['Achternaam_BZ'].str[:3]+ '_' + fil_boekzaallijst['year_min1'].astype(str).str.replace(' ', '')\n"
     ]
    }
   ],
   "source": [
    "# Strategy 3 and 4 \n",
    "fil_boekzaallijst['strat3_boekzaallink'] =  fil_boekzaallijst['Achternaam_BZ'].str[:3]+ '_' + fil_boekzaallijst['Jaar Beroepen'].astype(str).str.replace(' ', '')\n",
    "fil_boekzaallijst['strat4_boekzaallink'] =  fil_boekzaallijst['Achternaam_BZ'].str[:3]+ '_' + fil_boekzaallijst['year_min1'].astype(str).str.replace(' ', '')\n"
   ]
  },
  {
   "cell_type": "markdown",
   "metadata": {},
   "source": [
    "### STEP 2 Get DRC data     \n",
    "\n",
    "Next we need to get the data from the DRC database to link it with the **boekzaallijst**."
   ]
  },
  {
   "cell_type": "code",
   "execution_count": 17,
   "metadata": {},
   "outputs": [],
   "source": [
    "conn_str = (\n",
    "    r'DRIVER={Microsoft Access Driver (*.mdb, *.accdb)};'\n",
    "    r'DBQ='+folderlink+input_folder+drc_database+';'\n",
    ")"
   ]
  },
  {
   "cell_type": "code",
   "execution_count": 18,
   "metadata": {},
   "outputs": [
    {
     "name": "stderr",
     "output_type": "stream",
     "text": [
      "C:\\Users\\Maurice de Kleijn\\AppData\\Local\\Temp\\ipykernel_17228\\1759605146.py:6: UserWarning: pandas only supports SQLAlchemy connectable (engine/connection) or database string URI or sqlite3 DBAPI2 connection. Other DBAPI2 objects are not tested. Please consider using SQLAlchemy.\n",
      "  drc_bio = pd.read_sql('SELECT * FROM 01_DRC_BIO', conn)\n",
      "C:\\Users\\Maurice de Kleijn\\AppData\\Local\\Temp\\ipykernel_17228\\1759605146.py:7: UserWarning: pandas only supports SQLAlchemy connectable (engine/connection) or database string URI or sqlite3 DBAPI2 connection. Other DBAPI2 objects are not tested. Please consider using SQLAlchemy.\n",
      "  drc_role = pd.read_sql('SELECT * FROM 12_DRC_roles', conn)\n"
     ]
    }
   ],
   "source": [
    "# Establish the connection\n",
    "conn = pyodbc.connect(conn_str)\n",
    "\n",
    "# Read the table into a pandas DataFrame\n",
    "# Replace 'your_table_name' with the name of the table you want to read.\n",
    "drc_bio = pd.read_sql('SELECT * FROM 01_clerus_bio', conn)\n",
    "drc_role = pd.read_sql('SELECT * FROM 12_clerus_role', conn)\n",
    "\n",
    "# Close the connection\n",
    "conn.close()"
   ]
  },
  {
   "cell_type": "code",
   "execution_count": 19,
   "metadata": {},
   "outputs": [],
   "source": [
    "def double_to_integer(dataframe, field):\n",
    "    dataframe[field] = dataframe[field].astype('Int64')  \n",
    " "
   ]
  },
  {
   "cell_type": "code",
   "execution_count": 20,
   "metadata": {},
   "outputs": [],
   "source": [
    "double_to_integer(drc_role, 'role_start_year')\n",
    "double_to_integer(drc_role, 'role_end_year')\n",
    "double_to_integer(drc_bio, 'birth_year')\n",
    "double_to_integer(drc_bio, 'death_year')\n",
    "double_to_integer(drc_bio, 'baptism_year')\n",
    "double_to_integer(drc_bio, 'burried_year')"
   ]
  },
  {
   "cell_type": "code",
   "execution_count": 21,
   "metadata": {},
   "outputs": [],
   "source": [
    "drc_joined = pd.merge(drc_bio, drc_role, left_on='clerus_id', right_on='clerus_id', how = 'right')\n"
   ]
  },
  {
   "cell_type": "code",
   "execution_count": 22,
   "metadata": {},
   "outputs": [],
   "source": [
    "drc_subset = drc_joined[drc_joined['role_type'] == 'predikant']"
   ]
  },
  {
   "cell_type": "code",
   "execution_count": 23,
   "metadata": {},
   "outputs": [
    {
     "name": "stderr",
     "output_type": "stream",
     "text": [
      "C:\\Users\\Maurice de Kleijn\\AppData\\Local\\Temp\\ipykernel_17228\\3354532571.py:1: SettingWithCopyWarning: \n",
      "A value is trying to be set on a copy of a slice from a DataFrame\n",
      "\n",
      "See the caveats in the documentation: https://pandas.pydata.org/pandas-docs/stable/user_guide/indexing.html#returning-a-view-versus-a-copy\n",
      "  drc_subset.dropna(subset=['role_start_year'], inplace=True)\n"
     ]
    }
   ],
   "source": [
    "drc_subset.dropna(subset=['role_start_year'], inplace=True)"
   ]
  },
  {
   "cell_type": "code",
   "execution_count": 24,
   "metadata": {},
   "outputs": [],
   "source": [
    "first_minister_subset = drc_subset.loc[drc_subset.groupby('clerus_id')['role_start_year'].idxmin()]"
   ]
  },
  {
   "cell_type": "code",
   "execution_count": 25,
   "metadata": {},
   "outputs": [],
   "source": [
    "# Creating the linking field for strategy 1 and strategy 2\n",
    "\n",
    "first_minister_subset['strat12_drc_link'] = first_minister_subset['first_letter'].astype(str) + '_' +first_minister_subset['surname'].astype(str) + '_' + first_minister_subset['role_start_year'].astype(str).str.replace(' ', '')"
   ]
  },
  {
   "cell_type": "code",
   "execution_count": 26,
   "metadata": {},
   "outputs": [],
   "source": [
    "# Creating the linking field for strategy 3 and strategy 4\n",
    "first_minister_subset['strat34_drc_link'] = first_minister_subset['surname'].str[:3] + '_' + first_minister_subset['role_start_year'].astype(str).str.replace(' ', '')\n"
   ]
  },
  {
   "cell_type": "code",
   "execution_count": 27,
   "metadata": {},
   "outputs": [],
   "source": [
    "light_drc = first_minister_subset[['clerus_id','original_input','role_place','strat34_drc_link','strat12_drc_link']]\n"
   ]
  },
  {
   "cell_type": "code",
   "execution_count": 28,
   "metadata": {},
   "outputs": [],
   "source": [
    "light_bz = fil_boekzaallijst[['Nr_BZ','strat1_boekzaallink','strat2_boekzaallink','strat3_boekzaallink','strat4_boekzaallink']]"
   ]
  },
  {
   "cell_type": "code",
   "execution_count": 29,
   "metadata": {},
   "outputs": [],
   "source": [
    "# In order to distinguish the possible links, all the results of the strategies are accompanied with an id of the strategy applied. \n",
    "\n",
    "strategy1 = pd.merge(light_bz, light_drc, left_on='strat1_boekzaallink', right_on='strat12_drc_link', how='inner')\n",
    "strategy1['strategy'] = 1\n",
    "strategy2 = pd.merge(light_bz, light_drc, left_on='strat2_boekzaallink', right_on='strat12_drc_link', how='inner')\n",
    "strategy2['strategy'] = 2\n",
    "strategy3 = pd.merge(light_bz, light_drc, left_on='strat3_boekzaallink', right_on='strat34_drc_link', how='inner')\n",
    "strategy3['strategy'] = 3\n",
    "strategy4 = pd.merge(light_bz, light_drc, left_on='strat4_boekzaallink', right_on='strat34_drc_link', how='inner')\n",
    "strategy4['strategy'] = 4"
   ]
  },
  {
   "cell_type": "code",
   "execution_count": 30,
   "metadata": {},
   "outputs": [],
   "source": [
    "appended_strategies = pd.concat([strategy1, strategy2, strategy3, strategy4], ignore_index=True)\n"
   ]
  },
  {
   "cell_type": "code",
   "execution_count": 31,
   "metadata": {},
   "outputs": [
    {
     "name": "stderr",
     "output_type": "stream",
     "text": [
      "C:\\Users\\Maurice de Kleijn\\AppData\\Local\\Temp\\ipykernel_17228\\2758606541.py:3: SettingWithCopyWarning: \n",
      "A value is trying to be set on a copy of a slice from a DataFrame.\n",
      "Try using .loc[row_indexer,col_indexer] = value instead\n",
      "\n",
      "See the caveats in the documentation: https://pandas.pydata.org/pandas-docs/stable/user_guide/indexing.html#returning-a-view-versus-a-copy\n",
      "  light_bz['key'] = 1\n",
      "C:\\Users\\Maurice de Kleijn\\AppData\\Local\\Temp\\ipykernel_17228\\2758606541.py:4: SettingWithCopyWarning: \n",
      "A value is trying to be set on a copy of a slice from a DataFrame.\n",
      "Try using .loc[row_indexer,col_indexer] = value instead\n",
      "\n",
      "See the caveats in the documentation: https://pandas.pydata.org/pandas-docs/stable/user_guide/indexing.html#returning-a-view-versus-a-copy\n",
      "  light_drc['key'] = 1\n"
     ]
    }
   ],
   "source": [
    "# Apply Levenshtein distance \n",
    "# Compute a cross join\n",
    "light_bz['key'] = 1\n",
    "light_drc['key'] = 1\n",
    "cross_df = light_bz.merge(light_drc, on='key').drop('key', axis=1)\n",
    "string1 = 'strat1_boekzaallink'\n",
    "string2 = 'strat12_drc_link'\n",
    "cross_df['lev_ratio'] = cross_df.apply(lambda row: lev.ratio(row[string1], row[string2]), axis=1)"
   ]
  },
  {
   "cell_type": "code",
   "execution_count": 32,
   "metadata": {},
   "outputs": [],
   "source": [
    "cross_df = cross_df.sort_values(by='lev_ratio', ascending=False)"
   ]
  },
  {
   "cell_type": "code",
   "execution_count": 33,
   "metadata": {},
   "outputs": [],
   "source": [
    "# Set the top 3 of matches. By changing the variable n it can be set to a higher score in the levensthein ratio. \n",
    "def top_n_matches(group, n=3):\n",
    "    return group.nlargest(n, 'lev_ratio')"
   ]
  },
  {
   "cell_type": "code",
   "execution_count": 34,
   "metadata": {},
   "outputs": [],
   "source": [
    "strategy5 = cross_df.groupby('Nr_BZ').apply(top_n_matches).reset_index(drop=True)"
   ]
  },
  {
   "cell_type": "code",
   "execution_count": 35,
   "metadata": {},
   "outputs": [],
   "source": [
    "# Here, the strategy 5 id is assed as well \n",
    "strategy5['strategy'] = 5"
   ]
  },
  {
   "cell_type": "code",
   "execution_count": 36,
   "metadata": {},
   "outputs": [],
   "source": [
    "appended_strategies_lev = pd.concat([appended_strategies, strategy5], ignore_index=True)\n"
   ]
  },
  {
   "cell_type": "code",
   "execution_count": 37,
   "metadata": {},
   "outputs": [],
   "source": [
    "# The output of the linkage is stored in a csv which can be joined Nr_BZ .\n",
    "appended_strategies_lev.to_csv(folderlink+folder_output+'possible_links_drc_bz_strat1-5.csv', sep=';', encoding='utf-8', index=False)"
   ]
  }
 ],
 "metadata": {
  "kernelspec": {
   "display_name": "base",
   "language": "python",
   "name": "python3"
  },
  "language_info": {
   "codemirror_mode": {
    "name": "ipython",
    "version": 3
   },
   "file_extension": ".py",
   "mimetype": "text/x-python",
   "name": "python",
   "nbconvert_exporter": "python",
   "pygments_lexer": "ipython3",
   "version": "3.11.4"
  },
  "orig_nbformat": 4
 },
 "nbformat": 4,
 "nbformat_minor": 2
}
