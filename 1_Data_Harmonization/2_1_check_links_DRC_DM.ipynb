{
 "cells": [
  {
   "cell_type": "markdown",
   "metadata": {},
   "source": [
    "# Integrate Dutch Ministers (DM) in CLERUS\n",
    "\n",
    "The process of integrating the DRC dataset into CLERUS has been extensively described in [1_1_DRC_1555-1816.ipynb](1_1_DRC_1555-1816.ipynb). In this notebook it has also been described that for the final integration of DRC into CLERUS a curation steps was made. In [1_2_DM_1572-2004.ipynb](1_2_DM_1572-2004.ipynb) the process is presented how to extract individuals from the DM dataset can be extracted. In this notebook these individuals are connected with the individuals from the curated DRC dataset. \n",
    "\n",
    "For this, the strategy is to extend the DM dataset with the clerus_id for those fields that are present in the drc dataset. By doing this in this way, the DM dataset stays as much intact as possible. Once the DM is extended with the clerus_id for records that match, the DM dataset will be parsed to clerus.\n"
   ]
  },
  {
   "cell_type": "code",
   "execution_count": 18,
   "metadata": {},
   "outputs": [],
   "source": [
    "# import the required libraries\n",
    "import pandas as pd"
   ]
  },
  {
   "cell_type": "code",
   "execution_count": 2,
   "metadata": {},
   "outputs": [],
   "source": [
    "# Panda settings for showing data\n",
    "pd.set_option('display.max_columns', None)\n",
    "pd.set_option('display.max_rows', None)\n",
    "pd.set_option('display.max_colwidth', None)"
   ]
  },
  {
   "cell_type": "code",
   "execution_count": 3,
   "metadata": {},
   "outputs": [],
   "source": [
    "# Set variables for the project (i.e. the input location of the file to be processed and the output location) )\n",
    "folderlink = '..//data//'\n",
    "input_folder = 'input//'\n",
    "output_folder = 'output//'\n"
   ]
  },
  {
   "cell_type": "code",
   "execution_count": 19,
   "metadata": {},
   "outputs": [],
   "source": [
    "# Set links to the files\n",
    "d1_csv = folderlink+input_folder+\"01_clerus_bio_curated.csv\" \n",
    "d11_csv = folderlink+input_folder+\"12_clerus_role_curated.csv\"\n",
    "d22_csv = folderlink+output_folder+\"12_roles_dm.csv\""
   ]
  },
  {
   "cell_type": "code",
   "execution_count": 20,
   "metadata": {},
   "outputs": [],
   "source": [
    "# Import the csvs as dataframes\n",
    "d1 = pd.read_csv(d1_csv, sep=';', encoding='utf-8')\n",
    "\n",
    "d11_col_data_type = {'clerus_id': pd.Int64Dtype(), 'role_start_year': pd.Int64Dtype(), 'role_end_year': pd.Int64Dtype()}\n",
    "d11 = pd.read_csv(d11_csv, sep=';', dtype=d11_col_data_type, encoding='utf-8')\n",
    "\n",
    "d22_data_types = {'jaar vertrek': pd.Int64Dtype(), 'ind_id': pd.Int64Dtype(),'dag intrede': pd.Int64Dtype(), 'dag vertrek': pd.Int64Dtype() }\n",
    "d22 = pd.read_csv(d22_csv, dtype=d22_data_types)\n"
   ]
  },
  {
   "cell_type": "code",
   "execution_count": 98,
   "metadata": {},
   "outputs": [],
   "source": [
    "# from the 01_clerus_bio table we only require the name of the individual to be linked with DM \n",
    "d1_name = d1[['clerus_id', 'first_name', 'infix', 'surname']]\n",
    "d1_d11_merge = pd.merge(d1_name, d11, on='clerus_id', how='inner')"
   ]
  },
  {
   "cell_type": "code",
   "execution_count": 104,
   "metadata": {},
   "outputs": [],
   "source": [
    "# filter out all role_type that are not minister (predikant)\n",
    "d1_d11_merge['role_type'] = d1_d11_merge['role_type'].fillna('')\n",
    "d1_d11 = d1_d11_merge[d1_d11_merge['role_type'].str.contains('pred', case=False)]\n"
   ]
  },
  {
   "cell_type": "code",
   "execution_count": 105,
   "metadata": {},
   "outputs": [
    {
     "name": "stderr",
     "output_type": "stream",
     "text": [
      "C:\\Users\\Maurice de Kleijn\\AppData\\Local\\Temp\\ipykernel_9840\\347723106.py:3: SettingWithCopyWarning: \n",
      "A value is trying to be set on a copy of a slice from a DataFrame.\n",
      "Try using .loc[row_indexer,col_indexer] = value instead\n",
      "\n",
      "See the caveats in the documentation: https://pandas.pydata.org/pandas-docs/stable/user_guide/indexing.html#returning-a-view-versus-a-copy\n",
      "  d1_d11['surname'] = d1_d11['surname'].fillna('')\n",
      "C:\\Users\\Maurice de Kleijn\\AppData\\Local\\Temp\\ipykernel_9840\\347723106.py:4: SettingWithCopyWarning: \n",
      "A value is trying to be set on a copy of a slice from a DataFrame.\n",
      "Try using .loc[row_indexer,col_indexer] = value instead\n",
      "\n",
      "See the caveats in the documentation: https://pandas.pydata.org/pandas-docs/stable/user_guide/indexing.html#returning-a-view-versus-a-copy\n",
      "  d1_d11['first_name'] = d1_d11['first_name'].fillna('')\n",
      "C:\\Users\\Maurice de Kleijn\\AppData\\Local\\Temp\\ipykernel_9840\\347723106.py:5: SettingWithCopyWarning: \n",
      "A value is trying to be set on a copy of a slice from a DataFrame.\n",
      "Try using .loc[row_indexer,col_indexer] = value instead\n",
      "\n",
      "See the caveats in the documentation: https://pandas.pydata.org/pandas-docs/stable/user_guide/indexing.html#returning-a-view-versus-a-copy\n",
      "  d1_d11['infix'] = d1_d11['infix'].fillna('')\n",
      "C:\\Users\\Maurice de Kleijn\\AppData\\Local\\Temp\\ipykernel_9840\\347723106.py:6: SettingWithCopyWarning: \n",
      "A value is trying to be set on a copy of a slice from a DataFrame.\n",
      "Try using .loc[row_indexer,col_indexer] = value instead\n",
      "\n",
      "See the caveats in the documentation: https://pandas.pydata.org/pandas-docs/stable/user_guide/indexing.html#returning-a-view-versus-a-copy\n",
      "  d1_d11['join_name'] = d1_d11['surname']+d1_d11['first_name']+d1_d11['infix']\n"
     ]
    }
   ],
   "source": [
    "# The first stategy to link DM with DRC is to link them based on the names. In DM the name is stored in one field (i.e. predikant). Since that field uses multiple methods to distinguish the first name, inifix and surname (e.g. . and ; etc.) we decided to map DRC to DM and remove all spaces and seperating characters to create a field that can be linked.\n",
    "\n",
    "d1_d11['surname'] = d1_d11['surname'].fillna('')\n",
    "d1_d11['first_name'] = d1_d11['first_name'].fillna('')\n",
    "d1_d11['infix'] = d1_d11['infix'].fillna('')\n",
    "d1_d11['join_name'] = d1_d11['surname']+d1_d11['first_name']+d1_d11['infix']\n"
   ]
  },
  {
   "cell_type": "code",
   "execution_count": 106,
   "metadata": {},
   "outputs": [],
   "source": [
    "# Here we clean the names of the ministers from DM from spaces and seperating characters\n",
    "d22['d22join_name'] = d22['predikant'].str.replace(\";\",\"\").str.replace(\" \",\"\").str.replace(\"  \",\"\").str.replace(\".\",\"\")\n",
    "# We select the first string in the placename\n",
    "d22['d22gemeente'] = d22['gemeente'].str.split().str[0]\n",
    "# Add the start year\n",
    "d22['d22jaar intrede'] = d22['jaar intrede'].astype(str).str.replace(\";\",\"\").str.replace(\"\",\"\").str.replace(\"  \",\"\")"
   ]
  },
  {
   "cell_type": "code",
   "execution_count": 107,
   "metadata": {},
   "outputs": [
    {
     "data": {
      "text/html": [
       "<div>\n",
       "<style scoped>\n",
       "    .dataframe tbody tr th:only-of-type {\n",
       "        vertical-align: middle;\n",
       "    }\n",
       "\n",
       "    .dataframe tbody tr th {\n",
       "        vertical-align: top;\n",
       "    }\n",
       "\n",
       "    .dataframe thead th {\n",
       "        text-align: right;\n",
       "    }\n",
       "</style>\n",
       "<table border=\"1\" class=\"dataframe\">\n",
       "  <thead>\n",
       "    <tr style=\"text-align: right;\">\n",
       "      <th></th>\n",
       "      <th>clerus_id</th>\n",
       "      <th>role_place_id</th>\n",
       "      <th>role_classis_code</th>\n",
       "      <th>role_classis</th>\n",
       "      <th>role_parish</th>\n",
       "      <th>role_province</th>\n",
       "      <th>role_region</th>\n",
       "      <th>role_start_year</th>\n",
       "      <th>role_start_date_exact</th>\n",
       "      <th>role_end_year</th>\n",
       "      <th>role_end_date_exact</th>\n",
       "      <th>role_residence_place</th>\n",
       "      <th>role_residence_place_id</th>\n",
       "      <th>d11_count</th>\n",
       "    </tr>\n",
       "  </thead>\n",
       "  <tbody>\n",
       "    <tr>\n",
       "      <th>count</th>\n",
       "      <td>27070.000000</td>\n",
       "      <td>0.0</td>\n",
       "      <td>0.0</td>\n",
       "      <td>0.0</td>\n",
       "      <td>0.0</td>\n",
       "      <td>0.0</td>\n",
       "      <td>0.0</td>\n",
       "      <td>26698.0</td>\n",
       "      <td>0.0</td>\n",
       "      <td>2340.0</td>\n",
       "      <td>0.0</td>\n",
       "      <td>0.0</td>\n",
       "      <td>0.0</td>\n",
       "      <td>27070.0</td>\n",
       "    </tr>\n",
       "    <tr>\n",
       "      <th>mean</th>\n",
       "      <td>7348.413890</td>\n",
       "      <td>NaN</td>\n",
       "      <td>NaN</td>\n",
       "      <td>NaN</td>\n",
       "      <td>NaN</td>\n",
       "      <td>NaN</td>\n",
       "      <td>NaN</td>\n",
       "      <td>1701.256611</td>\n",
       "      <td>NaN</td>\n",
       "      <td>1614.584188</td>\n",
       "      <td>NaN</td>\n",
       "      <td>NaN</td>\n",
       "      <td>NaN</td>\n",
       "      <td>3.267196</td>\n",
       "    </tr>\n",
       "    <tr>\n",
       "      <th>std</th>\n",
       "      <td>5697.450009</td>\n",
       "      <td>NaN</td>\n",
       "      <td>NaN</td>\n",
       "      <td>NaN</td>\n",
       "      <td>NaN</td>\n",
       "      <td>NaN</td>\n",
       "      <td>NaN</td>\n",
       "      <td>72.774512</td>\n",
       "      <td>NaN</td>\n",
       "      <td>293.357603</td>\n",
       "      <td>NaN</td>\n",
       "      <td>NaN</td>\n",
       "      <td>NaN</td>\n",
       "      <td>1.812118</td>\n",
       "    </tr>\n",
       "    <tr>\n",
       "      <th>min</th>\n",
       "      <td>1.000000</td>\n",
       "      <td>NaN</td>\n",
       "      <td>NaN</td>\n",
       "      <td>NaN</td>\n",
       "      <td>NaN</td>\n",
       "      <td>NaN</td>\n",
       "      <td>NaN</td>\n",
       "      <td>1545.0</td>\n",
       "      <td>NaN</td>\n",
       "      <td>0.0</td>\n",
       "      <td>NaN</td>\n",
       "      <td>NaN</td>\n",
       "      <td>NaN</td>\n",
       "      <td>1.0</td>\n",
       "    </tr>\n",
       "    <tr>\n",
       "      <th>25%</th>\n",
       "      <td>3191.000000</td>\n",
       "      <td>NaN</td>\n",
       "      <td>NaN</td>\n",
       "      <td>NaN</td>\n",
       "      <td>NaN</td>\n",
       "      <td>NaN</td>\n",
       "      <td>NaN</td>\n",
       "      <td>1639.0</td>\n",
       "      <td>NaN</td>\n",
       "      <td>1601.0</td>\n",
       "      <td>NaN</td>\n",
       "      <td>NaN</td>\n",
       "      <td>NaN</td>\n",
       "      <td>2.0</td>\n",
       "    </tr>\n",
       "    <tr>\n",
       "      <th>50%</th>\n",
       "      <td>6362.000000</td>\n",
       "      <td>NaN</td>\n",
       "      <td>NaN</td>\n",
       "      <td>NaN</td>\n",
       "      <td>NaN</td>\n",
       "      <td>NaN</td>\n",
       "      <td>NaN</td>\n",
       "      <td>1700.0</td>\n",
       "      <td>NaN</td>\n",
       "      <td>1629.0</td>\n",
       "      <td>NaN</td>\n",
       "      <td>NaN</td>\n",
       "      <td>NaN</td>\n",
       "      <td>3.0</td>\n",
       "    </tr>\n",
       "    <tr>\n",
       "      <th>75%</th>\n",
       "      <td>9498.000000</td>\n",
       "      <td>NaN</td>\n",
       "      <td>NaN</td>\n",
       "      <td>NaN</td>\n",
       "      <td>NaN</td>\n",
       "      <td>NaN</td>\n",
       "      <td>NaN</td>\n",
       "      <td>1768.0</td>\n",
       "      <td>NaN</td>\n",
       "      <td>1720.25</td>\n",
       "      <td>NaN</td>\n",
       "      <td>NaN</td>\n",
       "      <td>NaN</td>\n",
       "      <td>4.0</td>\n",
       "    </tr>\n",
       "    <tr>\n",
       "      <th>max</th>\n",
       "      <td>30025.000000</td>\n",
       "      <td>NaN</td>\n",
       "      <td>NaN</td>\n",
       "      <td>NaN</td>\n",
       "      <td>NaN</td>\n",
       "      <td>NaN</td>\n",
       "      <td>NaN</td>\n",
       "      <td>1856.0</td>\n",
       "      <td>NaN</td>\n",
       "      <td>1865.0</td>\n",
       "      <td>NaN</td>\n",
       "      <td>NaN</td>\n",
       "      <td>NaN</td>\n",
       "      <td>15.0</td>\n",
       "    </tr>\n",
       "  </tbody>\n",
       "</table>\n",
       "</div>"
      ],
      "text/plain": [
       "          clerus_id  role_place_id  role_classis_code  role_classis  \\\n",
       "count  27070.000000            0.0                0.0           0.0   \n",
       "mean    7348.413890            NaN                NaN           NaN   \n",
       "std     5697.450009            NaN                NaN           NaN   \n",
       "min        1.000000            NaN                NaN           NaN   \n",
       "25%     3191.000000            NaN                NaN           NaN   \n",
       "50%     6362.000000            NaN                NaN           NaN   \n",
       "75%     9498.000000            NaN                NaN           NaN   \n",
       "max    30025.000000            NaN                NaN           NaN   \n",
       "\n",
       "       role_parish  role_province  role_region  role_start_year  \\\n",
       "count          0.0            0.0          0.0          26698.0   \n",
       "mean           NaN            NaN          NaN      1701.256611   \n",
       "std            NaN            NaN          NaN        72.774512   \n",
       "min            NaN            NaN          NaN           1545.0   \n",
       "25%            NaN            NaN          NaN           1639.0   \n",
       "50%            NaN            NaN          NaN           1700.0   \n",
       "75%            NaN            NaN          NaN           1768.0   \n",
       "max            NaN            NaN          NaN           1856.0   \n",
       "\n",
       "       role_start_date_exact  role_end_year  role_end_date_exact  \\\n",
       "count                    0.0         2340.0                  0.0   \n",
       "mean                     NaN    1614.584188                  NaN   \n",
       "std                      NaN     293.357603                  NaN   \n",
       "min                      NaN            0.0                  NaN   \n",
       "25%                      NaN         1601.0                  NaN   \n",
       "50%                      NaN         1629.0                  NaN   \n",
       "75%                      NaN        1720.25                  NaN   \n",
       "max                      NaN         1865.0                  NaN   \n",
       "\n",
       "       role_residence_place  role_residence_place_id  d11_count  \n",
       "count                   0.0                      0.0    27070.0  \n",
       "mean                    NaN                      NaN   3.267196  \n",
       "std                     NaN                      NaN   1.812118  \n",
       "min                     NaN                      NaN        1.0  \n",
       "25%                     NaN                      NaN        2.0  \n",
       "50%                     NaN                      NaN        3.0  \n",
       "75%                     NaN                      NaN        4.0  \n",
       "max                     NaN                      NaN       15.0  "
      ]
     },
     "execution_count": 107,
     "metadata": {},
     "output_type": "execute_result"
    }
   ],
   "source": [
    "d1_d11.describe()"
   ]
  },
  {
   "cell_type": "code",
   "execution_count": 108,
   "metadata": {},
   "outputs": [
    {
     "name": "stderr",
     "output_type": "stream",
     "text": [
      "C:\\Users\\Maurice de Kleijn\\AppData\\Local\\Temp\\ipykernel_9840\\3221726576.py:2: SettingWithCopyWarning: \n",
      "A value is trying to be set on a copy of a slice from a DataFrame.\n",
      "Try using .loc[row_indexer,col_indexer] = value instead\n",
      "\n",
      "See the caveats in the documentation: https://pandas.pydata.org/pandas-docs/stable/user_guide/indexing.html#returning-a-view-versus-a-copy\n",
      "  d1_d11['d11join_name'] = d1_d11['join_name'].str.replace(\";\",\"\").str.replace(\" \",\"\").str.replace(\"  \",\"\")\n",
      "C:\\Users\\Maurice de Kleijn\\AppData\\Local\\Temp\\ipykernel_9840\\3221726576.py:5: SettingWithCopyWarning: \n",
      "A value is trying to be set on a copy of a slice from a DataFrame.\n",
      "Try using .loc[row_indexer,col_indexer] = value instead\n",
      "\n",
      "See the caveats in the documentation: https://pandas.pydata.org/pandas-docs/stable/user_guide/indexing.html#returning-a-view-versus-a-copy\n",
      "  d1_d11['d11_role_place']= d1_d11['role_place'].str.split().str[0]\n"
     ]
    }
   ],
   "source": [
    "# Here we clean the joined names of the ministers from DRC from spaces and seperating characters\n",
    "d1_d11['d11join_name'] = d1_d11['join_name'].str.replace(\";\",\"\").str.replace(\" \",\"\").str.replace(\"  \",\"\")\n",
    "\n",
    "# We select the first word form the placename, since sometimes alternative names are included between brackets\n",
    "d1_d11['d11_role_place']= d1_d11['role_place'].str.split().str[0]"
   ]
  },
  {
   "cell_type": "code",
   "execution_count": 109,
   "metadata": {},
   "outputs": [
    {
     "name": "stderr",
     "output_type": "stream",
     "text": [
      "C:\\Users\\Maurice de Kleijn\\AppData\\Local\\Temp\\ipykernel_9840\\1443844824.py:2: SettingWithCopyWarning: \n",
      "A value is trying to be set on a copy of a slice from a DataFrame.\n",
      "Try using .loc[row_indexer,col_indexer] = value instead\n",
      "\n",
      "See the caveats in the documentation: https://pandas.pydata.org/pandas-docs/stable/user_guide/indexing.html#returning-a-view-versus-a-copy\n",
      "  d1_d11['d11j_place_year']=d1_d11['d11join_name'].astype(str)+\"_\"+d1_d11['d11_role_place'].astype(str)+\"_\"+d1_d11['role_start_year'].astype(str)\n"
     ]
    }
   ],
   "source": [
    "# We create a joining field, which is a combination between the name, placename and start year\n",
    "d1_d11['d11j_place_year']=d1_d11['d11join_name'].astype(str)+\"_\"+d1_d11['d11_role_place'].astype(str)+\"_\"+d1_d11['role_start_year'].astype(str)"
   ]
  },
  {
   "cell_type": "code",
   "execution_count": 110,
   "metadata": {},
   "outputs": [],
   "source": [
    "# For dm a join field is created in a similar way after which the two are joined\n",
    "d22['d22j_place_year']=d22['d22join_name'].astype(str)+\"_\"+d22['d22gemeente'].astype(str)+\"_\"+d22['d22jaar intrede'].astype(str)\n",
    "d11_d22 = pd.merge(d1_d11, d22, left_on='d11j_place_year', right_on='d22j_place_year', how='inner')"
   ]
  },
  {
   "cell_type": "code",
   "execution_count": 111,
   "metadata": {},
   "outputs": [],
   "source": [
    "# For dm a join field is created in a similar way after which the two are joined\n",
    "id_counts_d11 = d1_d11['clerus_id'].value_counts()"
   ]
  },
  {
   "cell_type": "code",
   "execution_count": 112,
   "metadata": {},
   "outputs": [
    {
     "name": "stderr",
     "output_type": "stream",
     "text": [
      "C:\\Users\\Maurice de Kleijn\\AppData\\Local\\Temp\\ipykernel_9840\\1653471264.py:2: SettingWithCopyWarning: \n",
      "A value is trying to be set on a copy of a slice from a DataFrame.\n",
      "Try using .loc[row_indexer,col_indexer] = value instead\n",
      "\n",
      "See the caveats in the documentation: https://pandas.pydata.org/pandas-docs/stable/user_guide/indexing.html#returning-a-view-versus-a-copy\n",
      "  d1_d11['d11_count'] = d1_d11['clerus_id'].map(id_counts_d11)\n"
     ]
    }
   ],
   "source": [
    "# Since an individual form drc could have more minister roles in dm we are going to check for that. In d1_d11 the number of times an individual was minister is counted.\n",
    "d1_d11['d11_count'] = d1_d11['clerus_id'].map(id_counts_d11)"
   ]
  },
  {
   "cell_type": "code",
   "execution_count": 113,
   "metadata": {},
   "outputs": [
    {
     "name": "stderr",
     "output_type": "stream",
     "text": [
      "C:\\Users\\Maurice de Kleijn\\AppData\\Local\\Temp\\ipykernel_9840\\2161369368.py:2: SettingWithCopyWarning: \n",
      "A value is trying to be set on a copy of a slice from a DataFrame.\n",
      "Try using .loc[row_indexer,col_indexer] = value instead\n",
      "\n",
      "See the caveats in the documentation: https://pandas.pydata.org/pandas-docs/stable/user_guide/indexing.html#returning-a-view-versus-a-copy\n",
      "  d1_d11['d11_count_unique'] = d1_d11['clerus_id'].astype(str)+\"__\"+d1_d11['d11_count'].astype(str)\n"
     ]
    }
   ],
   "source": [
    "# Next, a string is created combined with the clerus id. For DM we will do the same lateron\n",
    "d1_d11['d11_count_unique'] = d1_d11['clerus_id'].astype(str)+\"__\"+d1_d11['d11_count'].astype(str)"
   ]
  },
  {
   "cell_type": "code",
   "execution_count": 114,
   "metadata": {},
   "outputs": [],
   "source": [
    "# The number of times the clerus_id is present in the joined tables \n",
    "id_counts_d22_d11 = d11_d22['clerus_id'].value_counts()\n",
    "d11_d22['d11_d22_count'] = d11_d22['clerus_id'].map(id_counts_d22_d11)"
   ]
  },
  {
   "cell_type": "code",
   "execution_count": 115,
   "metadata": {},
   "outputs": [],
   "source": [
    "d11_d22['d11_d22_count_unique']= d11_d22['clerus_id'].astype(str)+\"__\"+d11_d22['d11_d22_count'].astype(str)"
   ]
  },
  {
   "cell_type": "code",
   "execution_count": 116,
   "metadata": {},
   "outputs": [],
   "source": [
    "# join the two do see which ones are the same\n",
    "countd11_countd11_d22 = pd.merge(d1_d11, d11_d22, left_on='d11_count_unique', right_on='d11_d22_count_unique', how='inner')"
   ]
  },
  {
   "cell_type": "code",
   "execution_count": 118,
   "metadata": {},
   "outputs": [],
   "source": [
    "output_table = countd11_countd11_d22[['clerus_id_x','d11_count_unique','d11_d22_count_unique']].copy()"
   ]
  },
  {
   "cell_type": "code",
   "execution_count": 120,
   "metadata": {},
   "outputs": [],
   "source": [
    "# remove duplicates\n",
    "output_without_duplicates = output_table.drop_duplicates()"
   ]
  },
  {
   "cell_type": "code",
   "execution_count": 121,
   "metadata": {},
   "outputs": [
    {
     "data": {
      "text/html": [
       "<div>\n",
       "<style scoped>\n",
       "    .dataframe tbody tr th:only-of-type {\n",
       "        vertical-align: middle;\n",
       "    }\n",
       "\n",
       "    .dataframe tbody tr th {\n",
       "        vertical-align: top;\n",
       "    }\n",
       "\n",
       "    .dataframe thead th {\n",
       "        text-align: right;\n",
       "    }\n",
       "</style>\n",
       "<table border=\"1\" class=\"dataframe\">\n",
       "  <thead>\n",
       "    <tr style=\"text-align: right;\">\n",
       "      <th></th>\n",
       "      <th>clerus_id_x</th>\n",
       "    </tr>\n",
       "  </thead>\n",
       "  <tbody>\n",
       "    <tr>\n",
       "      <th>count</th>\n",
       "      <td>7798.000000</td>\n",
       "    </tr>\n",
       "    <tr>\n",
       "      <th>mean</th>\n",
       "      <td>6605.392280</td>\n",
       "    </tr>\n",
       "    <tr>\n",
       "      <th>std</th>\n",
       "      <td>4941.647551</td>\n",
       "    </tr>\n",
       "    <tr>\n",
       "      <th>min</th>\n",
       "      <td>1.000000</td>\n",
       "    </tr>\n",
       "    <tr>\n",
       "      <th>25%</th>\n",
       "      <td>2957.250000</td>\n",
       "    </tr>\n",
       "    <tr>\n",
       "      <th>50%</th>\n",
       "      <td>5926.500000</td>\n",
       "    </tr>\n",
       "    <tr>\n",
       "      <th>75%</th>\n",
       "      <td>9035.750000</td>\n",
       "    </tr>\n",
       "    <tr>\n",
       "      <th>max</th>\n",
       "      <td>30020.000000</td>\n",
       "    </tr>\n",
       "  </tbody>\n",
       "</table>\n",
       "</div>"
      ],
      "text/plain": [
       "        clerus_id_x\n",
       "count   7798.000000\n",
       "mean    6605.392280\n",
       "std     4941.647551\n",
       "min        1.000000\n",
       "25%     2957.250000\n",
       "50%     5926.500000\n",
       "75%     9035.750000\n",
       "max    30020.000000"
      ]
     },
     "execution_count": 121,
     "metadata": {},
     "output_type": "execute_result"
    }
   ],
   "source": [
    "output_without_duplicates.describe()"
   ]
  },
  {
   "cell_type": "code",
   "execution_count": 122,
   "metadata": {},
   "outputs": [],
   "source": [
    "output_without_duplicates.to_csv(folderlink+output_folder+'ouput_nodup_first_word.csv', sep=';', encoding='utf-8', index=False)"
   ]
  }
 ],
 "metadata": {
  "kernelspec": {
   "display_name": "base",
   "language": "python",
   "name": "python3"
  },
  "language_info": {
   "codemirror_mode": {
    "name": "ipython",
    "version": 3
   },
   "file_extension": ".py",
   "mimetype": "text/x-python",
   "name": "python",
   "nbconvert_exporter": "python",
   "pygments_lexer": "ipython3",
   "version": "3.11.4"
  },
  "orig_nbformat": 4
 },
 "nbformat": 4,
 "nbformat_minor": 2
}
