{
 "cells": [
  {
   "cell_type": "code",
   "execution_count": 96,
   "metadata": {},
   "outputs": [
    {
     "name": "stderr",
     "output_type": "stream",
     "text": [
      "C:\\Users\\Maurice de Kleijn\\AppData\\Local\\Temp\\ipykernel_16956\\1786582672.py:28: UserWarning: pandas only supports SQLAlchemy connectable (engine/connection) or database string URI or sqlite3 DBAPI2 connection. Other DBAPI2 objects are not tested. Please consider using SQLAlchemy.\n",
      "  df = pd.read_sql(query, conn)\n",
      "C:\\Users\\Maurice de Kleijn\\AppData\\Local\\Temp\\ipykernel_16956\\1786582672.py:28: UserWarning: pandas only supports SQLAlchemy connectable (engine/connection) or database string URI or sqlite3 DBAPI2 connection. Other DBAPI2 objects are not tested. Please consider using SQLAlchemy.\n",
      "  df = pd.read_sql(query, conn)\n",
      "C:\\Users\\Maurice de Kleijn\\AppData\\Local\\Temp\\ipykernel_16956\\1786582672.py:28: UserWarning: pandas only supports SQLAlchemy connectable (engine/connection) or database string URI or sqlite3 DBAPI2 connection. Other DBAPI2 objects are not tested. Please consider using SQLAlchemy.\n",
      "  df = pd.read_sql(query, conn)\n",
      "C:\\Users\\Maurice de Kleijn\\AppData\\Local\\Temp\\ipykernel_16956\\1786582672.py:28: UserWarning: pandas only supports SQLAlchemy connectable (engine/connection) or database string URI or sqlite3 DBAPI2 connection. Other DBAPI2 objects are not tested. Please consider using SQLAlchemy.\n",
      "  df = pd.read_sql(query, conn)\n",
      "C:\\Users\\Maurice de Kleijn\\AppData\\Local\\Temp\\ipykernel_16956\\1786582672.py:28: UserWarning: pandas only supports SQLAlchemy connectable (engine/connection) or database string URI or sqlite3 DBAPI2 connection. Other DBAPI2 objects are not tested. Please consider using SQLAlchemy.\n",
      "  df = pd.read_sql(query, conn)\n",
      "C:\\Users\\Maurice de Kleijn\\AppData\\Local\\Temp\\ipykernel_16956\\1786582672.py:28: UserWarning: pandas only supports SQLAlchemy connectable (engine/connection) or database string URI or sqlite3 DBAPI2 connection. Other DBAPI2 objects are not tested. Please consider using SQLAlchemy.\n",
      "  df = pd.read_sql(query, conn)\n",
      "C:\\Users\\Maurice de Kleijn\\AppData\\Local\\Temp\\ipykernel_16956\\1786582672.py:28: UserWarning: pandas only supports SQLAlchemy connectable (engine/connection) or database string URI or sqlite3 DBAPI2 connection. Other DBAPI2 objects are not tested. Please consider using SQLAlchemy.\n",
      "  df = pd.read_sql(query, conn)\n",
      "C:\\Users\\Maurice de Kleijn\\AppData\\Local\\Temp\\ipykernel_16956\\1786582672.py:28: UserWarning: pandas only supports SQLAlchemy connectable (engine/connection) or database string URI or sqlite3 DBAPI2 connection. Other DBAPI2 objects are not tested. Please consider using SQLAlchemy.\n",
      "  df = pd.read_sql(query, conn)\n"
     ]
    }
   ],
   "source": [
    "import pyodbc\n",
    "import pandas as pd\n",
    "import shutil\n",
    "import re\n",
    "import numpy as np\n",
    "\n",
    "\n",
    "def copy_database(original_path, temp_path):\n",
    "    shutil.copyfile(original_path, temp_path)\n",
    "\n",
    "def export_access_to_dataframes(database_path):\n",
    "    # Connection string for Access database\n",
    "    conn_str = (\n",
    "        r'DRIVER={Microsoft Access Driver (*.mdb, *.accdb)};'\n",
    "        r'DBQ=' + database_path + ';'\n",
    "    )\n",
    "\n",
    "    # Establish a connection to the Access database\n",
    "    conn = pyodbc.connect(conn_str)\n",
    "    cursor = conn.cursor()\n",
    "\n",
    "    # Get a list of all tables in the database\n",
    "    tables = [row.table_name for row in cursor.tables(tableType='TABLE')]\n",
    "\n",
    "    # Loop through the tables and load each into a DataFrame\n",
    "    for table in tables:\n",
    "        query = f'SELECT * FROM [{table}]'\n",
    "        df = pd.read_sql(query, conn)\n",
    "        globals()[f'tbl_{table}'] = df  # Create a global variable with the table name\n",
    "\n",
    "    # Close the connection\n",
    "    conn.close()\n",
    "\n",
    "def update_access_table(database_path, table_name, df):\n",
    "    # Connection string for Access database\n",
    "    conn_str = (\n",
    "        r'DRIVER={Microsoft Access Driver (*.mdb, *.accdb)};'\n",
    "        r'DBQ=' + database_path + ';'\n",
    "    )\n",
    "\n",
    "    # Establish a connection to the Access database\n",
    "    conn = pyodbc.connect(conn_str)\n",
    "    cursor = conn.cursor()\n",
    "\n",
    "    # Clear the existing table\n",
    "    cursor.execute(f'DELETE FROM [{table_name}]')\n",
    "    conn.commit()\n",
    "\n",
    "    # Insert the updated data\n",
    "    for index, row in df.iterrows():\n",
    "        columns = ', '.join(row.index)\n",
    "        placeholders = ', '.join(['?' for _ in row])\n",
    "        values = tuple(row)\n",
    "        sql = f'INSERT INTO [{table_name}] ({columns}) VALUES ({placeholders})'\n",
    "        cursor.execute(sql, values)\n",
    "    conn.commit()\n",
    "\n",
    "    # Close the connection\n",
    "    conn.close()\n",
    "\n",
    "# Paths\n",
    "original_database_path = 'E:\\\\digidure\\\\CLERUS_v2_06082024.accdb'\n",
    "temp_database_path = 'E:\\\\digidure\\\\CLERUS_v3_06082024.accdb'\n",
    "\n",
    "# Copy the database\n",
    "copy_database(original_database_path, temp_database_path)\n",
    "\n",
    "# Export data from the copied database\n",
    "export_access_to_dataframes(temp_database_path)"
   ]
  },
  {
   "cell_type": "code",
   "execution_count": 97,
   "metadata": {},
   "outputs": [],
   "source": [
    "# Function to append the data to access database\n",
    "def append_to_access_table(df, database_path, table_name):\n",
    "    \"\"\"\n",
    "    Appends a DataFrame to a table in an Access database.\n",
    "\n",
    "    Parameters:\n",
    "    df (pandas.DataFrame): The DataFrame to append.\n",
    "    database_path (str): The path to the Access database file.\n",
    "    table_name (str): The name of the table to append the data to.\n",
    "    \"\"\"\n",
    "    # Connection string for Access database\n",
    "    connection_string = (\n",
    "        r'DRIVER={Microsoft Access Driver (*.mdb, *.accdb)};'\n",
    "        r'DBQ=' + database_path + ';'\n",
    "    )\n",
    "\n",
    "    # Connect to the Access database\n",
    "    conn = pyodbc.connect(connection_string)\n",
    "    cursor = conn.cursor()\n",
    "\n",
    "    # Append DataFrame to the Access table\n",
    "    for index, row in df.iterrows():\n",
    "        columns = ', '.join(row.index)\n",
    "        values = ', '.join(['?' for _ in row])\n",
    "        sql = f'INSERT INTO {table_name} ({columns}) VALUES ({values})'\n",
    "        cursor.execute(sql, tuple(row))\n",
    "\n",
    "    conn.commit()\n",
    "    cursor.close()\n",
    "    conn.close()"
   ]
  },
  {
   "cell_type": "code",
   "execution_count": 98,
   "metadata": {},
   "outputs": [],
   "source": [
    "# Panda settings for showing data (this is foremost done to more easily explore the data while processing it)\n",
    "pd.set_option('display.max_columns', None)\n",
    "pd.set_option('display.max_rows', None)\n",
    "pd.set_option('display.max_colwidth', None)"
   ]
  },
  {
   "cell_type": "code",
   "execution_count": 99,
   "metadata": {},
   "outputs": [],
   "source": [
    "# All the individuals that could be matched with DRC are already curated and processed. The next step is to extract individuals from DM that are not in DRC.\n",
    "# When a link between DM and DRC was found, a value for clerus_id or new_clerus_id was produced. Thus to isolate those that have not been matched we create\n",
    "# a subselection existing of rows where these fields are empty.\n",
    "filtered_only_DM = tbl_999_Dm_all_drc_match[tbl_999_Dm_all_drc_match['clerus_id'].isna() & tbl_999_Dm_all_drc_match['new_clerus_id'].isna()]\n"
   ]
  },
  {
   "cell_type": "code",
   "execution_count": 100,
   "metadata": {},
   "outputs": [
    {
     "name": "stderr",
     "output_type": "stream",
     "text": [
      "C:\\Users\\Maurice de Kleijn\\AppData\\Local\\Temp\\ipykernel_16956\\3862527704.py:2: SettingWithCopyWarning: \n",
      "A value is trying to be set on a copy of a slice from a DataFrame.\n",
      "Try using .loc[row_indexer,col_indexer] = value instead\n",
      "\n",
      "See the caveats in the documentation: https://pandas.pydata.org/pandas-docs/stable/user_guide/indexing.html#returning-a-view-versus-a-copy\n",
      "  filtered_only_DM[\"individual_id\"] = filtered_only_DM[\"individual_id\"] + 9000000\n"
     ]
    }
   ],
   "source": [
    "# Since we want to link the individuals to clerus we want to use the individual_id lateron as a new clerus_id. To avoid overlap in numbers we added 9000000 to every id. The individual ids have been created through 2_1_check_links_DRC_DM.ipynb\n",
    "filtered_only_DM[\"individual_id\"] = filtered_only_DM[\"individual_id\"] + 9000000"
   ]
  },
  {
   "cell_type": "code",
   "execution_count": 101,
   "metadata": {},
   "outputs": [],
   "source": [
    "#From this dataset we will be extracting all kind of information to align with the Clerus database structure."
   ]
  },
  {
   "cell_type": "code",
   "execution_count": 102,
   "metadata": {},
   "outputs": [],
   "source": [
    "#First we extract information for every individual which we use to fill in the table 01_clerus_bio. These are the names of the individual, the year of death and remarks (Bijzonderheden).\n",
    "# since we are not interested in all the other fields we make a subselection\n",
    "\n",
    "DM_tbl_bio_1 = filtered_only_DM[['pid', 'predikant', \"vertrek naar of vanwege\", \"jaar vertrek\", \"Bijzonderheden\", \"individual_id\"]]"
   ]
  },
  {
   "cell_type": "code",
   "execution_count": 103,
   "metadata": {},
   "outputs": [
    {
     "name": "stderr",
     "output_type": "stream",
     "text": [
      "C:\\Users\\Maurice de Kleijn\\AppData\\Local\\Temp\\ipykernel_16956\\2993844103.py:13: SettingWithCopyWarning: \n",
      "A value is trying to be set on a copy of a slice from a DataFrame.\n",
      "Try using .loc[row_indexer,col_indexer] = value instead\n",
      "\n",
      "See the caveats in the documentation: https://pandas.pydata.org/pandas-docs/stable/user_guide/indexing.html#returning-a-view-versus-a-copy\n",
      "  DM_tbl_bio_1['death_year'] = DM_tbl_bio_1['Bijzonderheden'].apply(extract_year)\n",
      "C:\\Users\\Maurice de Kleijn\\AppData\\Local\\Temp\\ipykernel_16956\\2993844103.py:16: SettingWithCopyWarning: \n",
      "A value is trying to be set on a copy of a slice from a DataFrame.\n",
      "Try using .loc[row_indexer,col_indexer] = value instead\n",
      "\n",
      "See the caveats in the documentation: https://pandas.pydata.org/pandas-docs/stable/user_guide/indexing.html#returning-a-view-versus-a-copy\n",
      "  DM_tbl_bio_1['death_year'] = DM_tbl_bio_1.apply(\n"
     ]
    }
   ],
   "source": [
    "# Extract Year of Death\n",
    "# After analysing the data in DM it appears that information about someone's year of death can be found in the field \"Bijzonderheden\", but also in the field \"vertrek naar of vanwege\".\n",
    "# To extract this information and to save it in a new field is done in two steps.\n",
    "\n",
    "# first we extract year from Bijzonderheden where it contains the string \"overl.\" or \"overleden\"\n",
    "def extract_year(bijzonderheden):\n",
    "    if isinstance(bijzonderheden, str):\n",
    "        match = re.search(r'(overleden|overl\\.)\\s*(\\d{4})', bijzonderheden, re.IGNORECASE)\n",
    "        if match:\n",
    "            return int(match.group(2))\n",
    "    return None\n",
    "\n",
    "DM_tbl_bio_1['death_year'] = DM_tbl_bio_1['Bijzonderheden'].apply(extract_year)\n",
    "\n",
    "# Second we update 'death_year' where it is None, using 'jaar_vertrek' if 'vertrek_naar_of_vanwege' contains 'overleden' or 'overl.'\n",
    "DM_tbl_bio_1['death_year'] = DM_tbl_bio_1.apply(\n",
    "    lambda row: row['jaar vertrek']\n",
    "    if pd.isnull(row['death_year']) and\n",
    "       isinstance(row['vertrek naar of vanwege'], str) and\n",
    "       ('overleden' in row['vertrek naar of vanwege'].lower() or 'overl.' in row['vertrek naar of vanwege'].lower())\n",
    "    else row['death_year'],\n",
    "    axis=1\n",
    ")"
   ]
  },
  {
   "cell_type": "code",
   "execution_count": 104,
   "metadata": {},
   "outputs": [],
   "source": [
    "# Next we need to make another subselection of the data to get only the name, clerus_id, year of death and remarks.\n",
    "DM_tbl_bio_2 = DM_tbl_bio_1[['predikant', \"Bijzonderheden\", \"individual_id\", \"death_year\"]]"
   ]
  },
  {
   "cell_type": "code",
   "execution_count": 105,
   "metadata": {},
   "outputs": [
    {
     "name": "stderr",
     "output_type": "stream",
     "text": [
      "C:\\Users\\Maurice de Kleijn\\AppData\\Local\\Temp\\ipykernel_16956\\2695056478.py:1: SettingWithCopyWarning: \n",
      "A value is trying to be set on a copy of a slice from a DataFrame.\n",
      "Try using .loc[row_indexer,col_indexer] = value instead\n",
      "\n",
      "See the caveats in the documentation: https://pandas.pydata.org/pandas-docs/stable/user_guide/indexing.html#returning-a-view-versus-a-copy\n",
      "  DM_tbl_bio_2['death_year'] = DM_tbl_bio_2['death_year'].fillna(0).astype(int)\n"
     ]
    }
   ],
   "source": [
    "DM_tbl_bio_2['death_year'] = DM_tbl_bio_2['death_year'].fillna(0).astype(int)"
   ]
  },
  {
   "cell_type": "code",
   "execution_count": 106,
   "metadata": {},
   "outputs": [],
   "source": [
    "# Now we remove all duplicates that remain based on the inidivual_id and prioritize on whether \"year_death\" has a value.\n",
    "DM_tbl_bio_2 = DM_tbl_bio_2.sort_values(by='death_year', ascending=False, na_position='last')"
   ]
  },
  {
   "cell_type": "code",
   "execution_count": 107,
   "metadata": {},
   "outputs": [],
   "source": [
    "# Drop duplicates based on 'individual_id', keeping the first occurrence\n",
    "DM_tbl_bio_unique = DM_tbl_bio_2.drop_duplicates(subset='individual_id', keep='first')"
   ]
  },
  {
   "cell_type": "code",
   "execution_count": 108,
   "metadata": {},
   "outputs": [
    {
     "name": "stderr",
     "output_type": "stream",
     "text": [
      "C:\\Users\\Maurice de Kleijn\\AppData\\Local\\Temp\\ipykernel_16956\\550979927.py:1: SettingWithCopyWarning: \n",
      "A value is trying to be set on a copy of a slice from a DataFrame.\n",
      "Try using .loc[row_indexer,col_indexer] = value instead\n",
      "\n",
      "See the caveats in the documentation: https://pandas.pydata.org/pandas-docs/stable/user_guide/indexing.html#returning-a-view-versus-a-copy\n",
      "  DM_tbl_bio_unique[['surname', 'first_name']] = DM_tbl_bio_unique['predikant'].str.split(';', expand=True)\n",
      "C:\\Users\\Maurice de Kleijn\\AppData\\Local\\Temp\\ipykernel_16956\\550979927.py:1: SettingWithCopyWarning: \n",
      "A value is trying to be set on a copy of a slice from a DataFrame.\n",
      "Try using .loc[row_indexer,col_indexer] = value instead\n",
      "\n",
      "See the caveats in the documentation: https://pandas.pydata.org/pandas-docs/stable/user_guide/indexing.html#returning-a-view-versus-a-copy\n",
      "  DM_tbl_bio_unique[['surname', 'first_name']] = DM_tbl_bio_unique['predikant'].str.split(';', expand=True)\n",
      "C:\\Users\\Maurice de Kleijn\\AppData\\Local\\Temp\\ipykernel_16956\\550979927.py:2: SettingWithCopyWarning: \n",
      "A value is trying to be set on a copy of a slice from a DataFrame\n",
      "\n",
      "See the caveats in the documentation: https://pandas.pydata.org/pandas-docs/stable/user_guide/indexing.html#returning-a-view-versus-a-copy\n",
      "  DM_tbl_bio_unique.drop(columns=['predikant'], inplace=True)\n"
     ]
    }
   ],
   "source": [
    "DM_tbl_bio_unique[['surname', 'first_name']] = DM_tbl_bio_unique['predikant'].str.split(';', expand=True)\n",
    "DM_tbl_bio_unique.drop(columns=['predikant'], inplace=True)"
   ]
  },
  {
   "cell_type": "code",
   "execution_count": 109,
   "metadata": {},
   "outputs": [
    {
     "name": "stderr",
     "output_type": "stream",
     "text": [
      "C:\\Users\\Maurice de Kleijn\\AppData\\Local\\Temp\\ipykernel_16956\\2943604984.py:1: SettingWithCopyWarning: \n",
      "A value is trying to be set on a copy of a slice from a DataFrame\n",
      "\n",
      "See the caveats in the documentation: https://pandas.pydata.org/pandas-docs/stable/user_guide/indexing.html#returning-a-view-versus-a-copy\n",
      "  DM_tbl_bio_unique.rename(columns={'Bijzonderheden': 'remarks', 'individual_id': 'clerus_id'}, inplace=True)\n"
     ]
    }
   ],
   "source": [
    "DM_tbl_bio_unique.rename(columns={'Bijzonderheden': 'remarks', 'individual_id': 'clerus_id'}, inplace=True)"
   ]
  },
  {
   "cell_type": "code",
   "execution_count": 110,
   "metadata": {},
   "outputs": [
    {
     "data": {
      "text/html": [
       "<div>\n",
       "<style scoped>\n",
       "    .dataframe tbody tr th:only-of-type {\n",
       "        vertical-align: middle;\n",
       "    }\n",
       "\n",
       "    .dataframe tbody tr th {\n",
       "        vertical-align: top;\n",
       "    }\n",
       "\n",
       "    .dataframe thead th {\n",
       "        text-align: right;\n",
       "    }\n",
       "</style>\n",
       "<table border=\"1\" class=\"dataframe\">\n",
       "  <thead>\n",
       "    <tr style=\"text-align: right;\">\n",
       "      <th></th>\n",
       "      <th>remarks</th>\n",
       "      <th>clerus_id</th>\n",
       "      <th>death_year</th>\n",
       "      <th>surname</th>\n",
       "      <th>first_name</th>\n",
       "    </tr>\n",
       "  </thead>\n",
       "  <tbody>\n",
       "    <tr>\n",
       "      <th>785</th>\n",
       "      <td>None</td>\n",
       "      <td>9014158</td>\n",
       "      <td>2005</td>\n",
       "      <td>Alma</td>\n",
       "      <td>G.S.</td>\n",
       "    </tr>\n",
       "    <tr>\n",
       "      <th>49910</th>\n",
       "      <td>None</td>\n",
       "      <td>9030309</td>\n",
       "      <td>2000</td>\n",
       "      <td>Vrijlandt</td>\n",
       "      <td>M.A.</td>\n",
       "    </tr>\n",
       "    <tr>\n",
       "      <th>44667</th>\n",
       "      <td>Parttime</td>\n",
       "      <td>9028633</td>\n",
       "      <td>1999</td>\n",
       "      <td>Storm</td>\n",
       "      <td>G. van der</td>\n",
       "    </tr>\n",
       "    <tr>\n",
       "      <th>29816</th>\n",
       "      <td>None</td>\n",
       "      <td>9023861</td>\n",
       "      <td>1998</td>\n",
       "      <td>Magedans</td>\n",
       "      <td>F.C.</td>\n",
       "    </tr>\n",
       "    <tr>\n",
       "      <th>13378</th>\n",
       "      <td>None</td>\n",
       "      <td>9018125</td>\n",
       "      <td>1996</td>\n",
       "      <td>Emmen</td>\n",
       "      <td>L.E.</td>\n",
       "    </tr>\n",
       "    <tr>\n",
       "      <th>26048</th>\n",
       "      <td>None</td>\n",
       "      <td>9022453</td>\n",
       "      <td>1995</td>\n",
       "      <td>Korporaaj</td>\n",
       "      <td>G.K.</td>\n",
       "    </tr>\n",
       "    <tr>\n",
       "      <th>48862</th>\n",
       "      <td>None</td>\n",
       "      <td>9029961</td>\n",
       "      <td>1994</td>\n",
       "      <td>Vlastuin</td>\n",
       "      <td>J.</td>\n",
       "    </tr>\n",
       "    <tr>\n",
       "      <th>49838</th>\n",
       "      <td>(overleden1994)</td>\n",
       "      <td>9030294</td>\n",
       "      <td>1994</td>\n",
       "      <td>Vries</td>\n",
       "      <td>W. de</td>\n",
       "    </tr>\n",
       "    <tr>\n",
       "      <th>48851</th>\n",
       "      <td>None</td>\n",
       "      <td>9029960</td>\n",
       "      <td>1994</td>\n",
       "      <td>Vlasblom</td>\n",
       "      <td>W.A.</td>\n",
       "    </tr>\n",
       "    <tr>\n",
       "      <th>22683</th>\n",
       "      <td>None</td>\n",
       "      <td>9021135</td>\n",
       "      <td>1994</td>\n",
       "      <td>Jansen</td>\n",
       "      <td>M.</td>\n",
       "    </tr>\n",
       "  </tbody>\n",
       "</table>\n",
       "</div>"
      ],
      "text/plain": [
       "               remarks  clerus_id  death_year    surname   first_name\n",
       "785               None    9014158        2005       Alma         G.S.\n",
       "49910             None    9030309        2000  Vrijlandt         M.A.\n",
       "44667         Parttime    9028633        1999      Storm   G. van der\n",
       "29816             None    9023861        1998   Magedans         F.C.\n",
       "13378             None    9018125        1996      Emmen         L.E.\n",
       "26048             None    9022453        1995  Korporaaj         G.K.\n",
       "48862             None    9029961        1994   Vlastuin           J.\n",
       "49838  (overleden1994)    9030294        1994      Vries        W. de\n",
       "48851             None    9029960        1994   Vlasblom         W.A.\n",
       "22683             None    9021135        1994     Jansen           M."
      ]
     },
     "execution_count": 110,
     "metadata": {},
     "output_type": "execute_result"
    }
   ],
   "source": [
    "DM_tbl_bio_unique.head(10)"
   ]
  },
  {
   "cell_type": "code",
   "execution_count": 111,
   "metadata": {},
   "outputs": [],
   "source": [
    "#Add information about the sex to the individual in DM. All are male except when the name contains \"mevr\" or \"mevrouw\"\n",
    "\n",
    "def determine_sex(first_name):\n",
    "    if first_name and 'mevr' in first_name.lower():\n",
    "        return 'female'\n",
    "    else:\n",
    "        return 'male'"
   ]
  },
  {
   "cell_type": "code",
   "execution_count": 112,
   "metadata": {},
   "outputs": [
    {
     "name": "stderr",
     "output_type": "stream",
     "text": [
      "C:\\Users\\Maurice de Kleijn\\AppData\\Local\\Temp\\ipykernel_16956\\3563976949.py:1: SettingWithCopyWarning: \n",
      "A value is trying to be set on a copy of a slice from a DataFrame.\n",
      "Try using .loc[row_indexer,col_indexer] = value instead\n",
      "\n",
      "See the caveats in the documentation: https://pandas.pydata.org/pandas-docs/stable/user_guide/indexing.html#returning-a-view-versus-a-copy\n",
      "  DM_tbl_bio_unique['sex'] = DM_tbl_bio_unique['first_name'].apply(determine_sex)\n"
     ]
    }
   ],
   "source": [
    "DM_tbl_bio_unique['sex'] = DM_tbl_bio_unique['first_name'].apply(determine_sex)"
   ]
  },
  {
   "cell_type": "code",
   "execution_count": 113,
   "metadata": {},
   "outputs": [
    {
     "data": {
      "text/html": [
       "<div>\n",
       "<style scoped>\n",
       "    .dataframe tbody tr th:only-of-type {\n",
       "        vertical-align: middle;\n",
       "    }\n",
       "\n",
       "    .dataframe tbody tr th {\n",
       "        vertical-align: top;\n",
       "    }\n",
       "\n",
       "    .dataframe thead th {\n",
       "        text-align: right;\n",
       "    }\n",
       "</style>\n",
       "<table border=\"1\" class=\"dataframe\">\n",
       "  <thead>\n",
       "    <tr style=\"text-align: right;\">\n",
       "      <th></th>\n",
       "      <th>remarks</th>\n",
       "      <th>clerus_id</th>\n",
       "      <th>death_year</th>\n",
       "      <th>surname</th>\n",
       "      <th>first_name</th>\n",
       "      <th>sex</th>\n",
       "    </tr>\n",
       "  </thead>\n",
       "  <tbody>\n",
       "    <tr>\n",
       "      <th>19567</th>\n",
       "      <td>None</td>\n",
       "      <td>9020100</td>\n",
       "      <td>0</td>\n",
       "      <td>Hertog</td>\n",
       "      <td>M.M. den</td>\n",
       "      <td>male</td>\n",
       "    </tr>\n",
       "    <tr>\n",
       "      <th>19560</th>\n",
       "      <td>None</td>\n",
       "      <td>9020096</td>\n",
       "      <td>0</td>\n",
       "      <td>Herson</td>\n",
       "      <td>dr. A. van</td>\n",
       "      <td>male</td>\n",
       "    </tr>\n",
       "    <tr>\n",
       "      <th>19559</th>\n",
       "      <td>None</td>\n",
       "      <td>9020093</td>\n",
       "      <td>0</td>\n",
       "      <td>Herpen</td>\n",
       "      <td>W. van</td>\n",
       "      <td>male</td>\n",
       "    </tr>\n",
       "    <tr>\n",
       "      <th>19557</th>\n",
       "      <td>None</td>\n",
       "      <td>9020094</td>\n",
       "      <td>0</td>\n",
       "      <td>Herpen</td>\n",
       "      <td>W. van</td>\n",
       "      <td>male</td>\n",
       "    </tr>\n",
       "    <tr>\n",
       "      <th>19556</th>\n",
       "      <td>None</td>\n",
       "      <td>9020095</td>\n",
       "      <td>0</td>\n",
       "      <td>Herpen</td>\n",
       "      <td>W. van</td>\n",
       "      <td>male</td>\n",
       "    </tr>\n",
       "  </tbody>\n",
       "</table>\n",
       "</div>"
      ],
      "text/plain": [
       "      remarks  clerus_id  death_year surname   first_name   sex\n",
       "19567    None    9020100           0  Hertog     M.M. den  male\n",
       "19560    None    9020096           0  Herson   dr. A. van  male\n",
       "19559    None    9020093           0  Herpen       W. van  male\n",
       "19557    None    9020094           0  Herpen       W. van  male\n",
       "19556    None    9020095           0  Herpen       W. van  male"
      ]
     },
     "execution_count": 113,
     "metadata": {},
     "output_type": "execute_result"
    }
   ],
   "source": [
    "DM_tbl_bio_unique.tail()\n"
   ]
  },
  {
   "cell_type": "code",
   "execution_count": 114,
   "metadata": {},
   "outputs": [],
   "source": [
    "# Append data to database\n",
    "table_name = '01_clerus_bio'\n",
    "append_to_access_table(DM_tbl_bio_unique, temp_database_path, table_name)"
   ]
  },
  {
   "cell_type": "code",
   "execution_count": 115,
   "metadata": {},
   "outputs": [
    {
     "data": {
      "text/html": [
       "<div>\n",
       "<style scoped>\n",
       "    .dataframe tbody tr th:only-of-type {\n",
       "        vertical-align: middle;\n",
       "    }\n",
       "\n",
       "    .dataframe tbody tr th {\n",
       "        vertical-align: top;\n",
       "    }\n",
       "\n",
       "    .dataframe thead th {\n",
       "        text-align: right;\n",
       "    }\n",
       "</style>\n",
       "<table border=\"1\" class=\"dataframe\">\n",
       "  <thead>\n",
       "    <tr style=\"text-align: right;\">\n",
       "      <th></th>\n",
       "      <th>pid</th>\n",
       "      <th>ind_id</th>\n",
       "      <th>provincie</th>\n",
       "      <th>classis</th>\n",
       "      <th>gemeente</th>\n",
       "      <th>wijk</th>\n",
       "      <th>predikant</th>\n",
       "      <th>Herkomst</th>\n",
       "      <th>dag intrede</th>\n",
       "      <th>maand intrede</th>\n",
       "      <th>jaar intrede</th>\n",
       "      <th>vertrek naar of vanwege</th>\n",
       "      <th>dag vertrek</th>\n",
       "      <th>maand vertrek</th>\n",
       "      <th>jaar vertrek</th>\n",
       "      <th>Bijzonderheden</th>\n",
       "      <th>individual_id</th>\n",
       "      <th>clerus_id</th>\n",
       "      <th>new_clerus_id</th>\n",
       "    </tr>\n",
       "  </thead>\n",
       "  <tbody>\n",
       "    <tr>\n",
       "      <th>0</th>\n",
       "      <td>35651</td>\n",
       "      <td>1</td>\n",
       "      <td>ZH</td>\n",
       "      <td>None</td>\n",
       "      <td>Oudewater</td>\n",
       "      <td>None</td>\n",
       "      <td>(Hekendorp) Brunner; L.</td>\n",
       "      <td>hulppredikant Oirschot</td>\n",
       "      <td>None</td>\n",
       "      <td>None</td>\n",
       "      <td>1867</td>\n",
       "      <td>Lobith</td>\n",
       "      <td>None</td>\n",
       "      <td>None</td>\n",
       "      <td>1868</td>\n",
       "      <td>None</td>\n",
       "      <td>9013955</td>\n",
       "      <td>NaN</td>\n",
       "      <td>NaN</td>\n",
       "    </tr>\n",
       "    <tr>\n",
       "      <th>1</th>\n",
       "      <td>45546</td>\n",
       "      <td>2</td>\n",
       "      <td>GE</td>\n",
       "      <td>None</td>\n",
       "      <td>Velp</td>\n",
       "      <td>2. Oude Jan</td>\n",
       "      <td>(Hilten van-)Matthijsen;mevrouw L.</td>\n",
       "      <td>kandidaat</td>\n",
       "      <td>2</td>\n",
       "      <td>maart</td>\n",
       "      <td>1986</td>\n",
       "      <td>Apeldoorn</td>\n",
       "      <td>23</td>\n",
       "      <td>oktober</td>\n",
       "      <td>1994</td>\n",
       "      <td>None</td>\n",
       "      <td>9013956</td>\n",
       "      <td>NaN</td>\n",
       "      <td>NaN</td>\n",
       "    </tr>\n",
       "    <tr>\n",
       "      <th>2</th>\n",
       "      <td>7179</td>\n",
       "      <td>3</td>\n",
       "      <td>NB</td>\n",
       "      <td>None</td>\n",
       "      <td>Breda</td>\n",
       "      <td>None</td>\n",
       "      <td>Aa; dr Pieter Jan Baptist Karel Simon van der</td>\n",
       "      <td>Winterswijk</td>\n",
       "      <td>26</td>\n",
       "      <td>februari</td>\n",
       "      <td>1893</td>\n",
       "      <td>emeritaat</td>\n",
       "      <td>1</td>\n",
       "      <td>mei</td>\n",
       "      <td>1904</td>\n",
       "      <td>None</td>\n",
       "      <td>9013962</td>\n",
       "      <td>NaN</td>\n",
       "      <td>NaN</td>\n",
       "    </tr>\n",
       "    <tr>\n",
       "      <th>3</th>\n",
       "      <td>21505</td>\n",
       "      <td>3</td>\n",
       "      <td>GR</td>\n",
       "      <td>None</td>\n",
       "      <td>Hornhuizen</td>\n",
       "      <td>None</td>\n",
       "      <td>Aa; dr. P.J.B.K. Simon van der</td>\n",
       "      <td>kandidaat</td>\n",
       "      <td>None</td>\n",
       "      <td>None</td>\n",
       "      <td>1862</td>\n",
       "      <td>Goutum</td>\n",
       "      <td>None</td>\n",
       "      <td>None</td>\n",
       "      <td>1866</td>\n",
       "      <td>None</td>\n",
       "      <td>9013959</td>\n",
       "      <td>NaN</td>\n",
       "      <td>NaN</td>\n",
       "    </tr>\n",
       "    <tr>\n",
       "      <th>4</th>\n",
       "      <td>36887</td>\n",
       "      <td>3</td>\n",
       "      <td>NH</td>\n",
       "      <td>None</td>\n",
       "      <td>Purmerend</td>\n",
       "      <td>None</td>\n",
       "      <td>Aa; dr. P.J.B.K. Simon van der</td>\n",
       "      <td>Goutum</td>\n",
       "      <td>None</td>\n",
       "      <td>None</td>\n",
       "      <td>1886</td>\n",
       "      <td>Winterswijk</td>\n",
       "      <td>None</td>\n",
       "      <td>None</td>\n",
       "      <td>1892</td>\n",
       "      <td>None</td>\n",
       "      <td>9013960</td>\n",
       "      <td>NaN</td>\n",
       "      <td>NaN</td>\n",
       "    </tr>\n",
       "  </tbody>\n",
       "</table>\n",
       "</div>"
      ],
      "text/plain": [
       "     pid ind_id provincie classis    gemeente         wijk  \\\n",
       "0  35651      1        ZH    None   Oudewater         None   \n",
       "1  45546      2        GE    None        Velp  2. Oude Jan   \n",
       "2   7179      3        NB    None       Breda         None   \n",
       "3  21505      3        GR    None  Hornhuizen         None   \n",
       "4  36887      3        NH    None   Purmerend         None   \n",
       "\n",
       "                                       predikant                Herkomst  \\\n",
       "0                        (Hekendorp) Brunner; L.  hulppredikant Oirschot   \n",
       "1             (Hilten van-)Matthijsen;mevrouw L.               kandidaat   \n",
       "2  Aa; dr Pieter Jan Baptist Karel Simon van der             Winterswijk   \n",
       "3                 Aa; dr. P.J.B.K. Simon van der               kandidaat   \n",
       "4                 Aa; dr. P.J.B.K. Simon van der                  Goutum   \n",
       "\n",
       "  dag intrede maand intrede  jaar intrede vertrek naar of vanwege dag vertrek  \\\n",
       "0        None          None          1867                  Lobith        None   \n",
       "1           2         maart          1986               Apeldoorn          23   \n",
       "2          26      februari          1893               emeritaat           1   \n",
       "3        None          None          1862                  Goutum        None   \n",
       "4        None          None          1886             Winterswijk        None   \n",
       "\n",
       "  maand vertrek jaar vertrek Bijzonderheden  individual_id  clerus_id  \\\n",
       "0          None         1868           None        9013955        NaN   \n",
       "1       oktober         1994           None        9013956        NaN   \n",
       "2           mei         1904           None        9013962        NaN   \n",
       "3          None         1866           None        9013959        NaN   \n",
       "4          None         1892           None        9013960        NaN   \n",
       "\n",
       "   new_clerus_id  \n",
       "0            NaN  \n",
       "1            NaN  \n",
       "2            NaN  \n",
       "3            NaN  \n",
       "4            NaN  "
      ]
     },
     "execution_count": 115,
     "metadata": {},
     "output_type": "execute_result"
    }
   ],
   "source": [
    "# Get roles seperate out of the dataframe where roles from individuals that are only present in DM are used. (i.e. filtered_only_DM)\n",
    "# Provincie [role_province], Classis [role_classis], Gemeente [role_place], clerus_id, pid(as backup), jaar intrede [year_start], jaar vertrek [year_end], dag intrede - maand intrede - jaar intrede [role_start_accuracy], dag vertrek - maand vertrek - jaar vertrek [role_end_accuracy]\n",
    "\n",
    "filtered_only_DM.head()"
   ]
  },
  {
   "cell_type": "code",
   "execution_count": 116,
   "metadata": {},
   "outputs": [],
   "source": [
    "\n",
    "role_dm = filtered_only_DM"
   ]
  },
  {
   "cell_type": "code",
   "execution_count": 117,
   "metadata": {},
   "outputs": [
    {
     "name": "stderr",
     "output_type": "stream",
     "text": [
      "C:\\Users\\Maurice de Kleijn\\AppData\\Local\\Temp\\ipykernel_16956\\2938618824.py:2: SettingWithCopyWarning: \n",
      "A value is trying to be set on a copy of a slice from a DataFrame.\n",
      "Try using .loc[row_indexer,col_indexer] = value instead\n",
      "\n",
      "See the caveats in the documentation: https://pandas.pydata.org/pandas-docs/stable/user_guide/indexing.html#returning-a-view-versus-a-copy\n",
      "  role_dm['role_start_date_exact'] = role_dm['dag intrede'].astype(str) + \" \" + role_dm['maand intrede'] + \" \" + role_dm['jaar intrede'].astype(str)\n",
      "C:\\Users\\Maurice de Kleijn\\AppData\\Local\\Temp\\ipykernel_16956\\2938618824.py:3: SettingWithCopyWarning: \n",
      "A value is trying to be set on a copy of a slice from a DataFrame.\n",
      "Try using .loc[row_indexer,col_indexer] = value instead\n",
      "\n",
      "See the caveats in the documentation: https://pandas.pydata.org/pandas-docs/stable/user_guide/indexing.html#returning-a-view-versus-a-copy\n",
      "  role_dm['role_end_date_exact'] = role_dm['dag vertrek'].astype(str) + \" \" + role_dm['maand vertrek'] + \" \" + role_dm['jaar vertrek'].astype(str)\n"
     ]
    }
   ],
   "source": [
    "# from the day, month and year create a date field which we will fill in to start_date_accuracy and end_date_accuracy\n",
    "role_dm['role_start_date_exact'] = role_dm['dag intrede'].astype(str) + \" \" + role_dm['maand intrede'] + \" \" + role_dm['jaar intrede'].astype(str)\n",
    "role_dm['role_end_date_exact'] = role_dm['dag vertrek'].astype(str) + \" \" + role_dm['maand vertrek'] + \" \" + role_dm['jaar vertrek'].astype(str)"
   ]
  },
  {
   "cell_type": "code",
   "execution_count": 118,
   "metadata": {},
   "outputs": [
    {
     "name": "stderr",
     "output_type": "stream",
     "text": [
      "C:\\Users\\Maurice de Kleijn\\AppData\\Local\\Temp\\ipykernel_16956\\1719675852.py:1: SettingWithCopyWarning: \n",
      "A value is trying to be set on a copy of a slice from a DataFrame\n",
      "\n",
      "See the caveats in the documentation: https://pandas.pydata.org/pandas-docs/stable/user_guide/indexing.html#returning-a-view-versus-a-copy\n",
      "  role_dm.drop(columns=['ind_id','clerus_id', 'new_clerus_id', 'dag vertrek', 'maand vertrek', 'dag intrede', 'maand intrede', 'vertrek naar of vanwege', 'Herkomst', 'predikant'], inplace=True)\n"
     ]
    }
   ],
   "source": [
    "role_dm.drop(columns=['ind_id','clerus_id', 'new_clerus_id', 'dag vertrek', 'maand vertrek', 'dag intrede', 'maand intrede', 'vertrek naar of vanwege', 'Herkomst', 'predikant'], inplace=True)"
   ]
  },
  {
   "cell_type": "code",
   "execution_count": 119,
   "metadata": {},
   "outputs": [
    {
     "name": "stderr",
     "output_type": "stream",
     "text": [
      "C:\\Users\\Maurice de Kleijn\\AppData\\Local\\Temp\\ipykernel_16956\\2292036883.py:1: SettingWithCopyWarning: \n",
      "A value is trying to be set on a copy of a slice from a DataFrame\n",
      "\n",
      "See the caveats in the documentation: https://pandas.pydata.org/pandas-docs/stable/user_guide/indexing.html#returning-a-view-versus-a-copy\n",
      "  role_dm.rename(columns={'Bijzonderheden': 'role_remarks',\n"
     ]
    }
   ],
   "source": [
    "role_dm.rename(columns={'Bijzonderheden': 'role_remarks',\n",
    "                        'individual_id': 'clerus_id',\n",
    "                        'pid':'role_source_id',\n",
    "                        'provincie': 'role_province',\n",
    "                        'classis': 'role_classis',\n",
    "                        'gemeente': 'role_place',\n",
    "                        'wijk': 'role_parish',\n",
    "                        'jaar intrede': 'role_start_year',\n",
    "                        'jaar vertrek': 'role_end_year'\t}, inplace=True)"
   ]
  },
  {
   "cell_type": "code",
   "execution_count": 120,
   "metadata": {},
   "outputs": [
    {
     "name": "stderr",
     "output_type": "stream",
     "text": [
      "C:\\Users\\Maurice de Kleijn\\AppData\\Local\\Temp\\ipykernel_16956\\4156152313.py:1: SettingWithCopyWarning: \n",
      "A value is trying to be set on a copy of a slice from a DataFrame.\n",
      "Try using .loc[row_indexer,col_indexer] = value instead\n",
      "\n",
      "See the caveats in the documentation: https://pandas.pydata.org/pandas-docs/stable/user_guide/indexing.html#returning-a-view-versus-a-copy\n",
      "  role_dm['role_type'] = \"predikant\"\n",
      "C:\\Users\\Maurice de Kleijn\\AppData\\Local\\Temp\\ipykernel_16956\\4156152313.py:2: SettingWithCopyWarning: \n",
      "A value is trying to be set on a copy of a slice from a DataFrame.\n",
      "Try using .loc[row_indexer,col_indexer] = value instead\n",
      "\n",
      "See the caveats in the documentation: https://pandas.pydata.org/pandas-docs/stable/user_guide/indexing.html#returning-a-view-versus-a-copy\n",
      "  role_dm['role_remarks_source'] = \"DM\"\n"
     ]
    }
   ],
   "source": [
    "role_dm['role_type'] = \"predikant\"\n",
    "role_dm['role_remarks_source'] = \"DM\"\n",
    "\n"
   ]
  },
  {
   "cell_type": "code",
   "execution_count": 121,
   "metadata": {},
   "outputs": [
    {
     "name": "stderr",
     "output_type": "stream",
     "text": [
      "C:\\Users\\Maurice de Kleijn\\AppData\\Local\\Temp\\ipykernel_16956\\2373603986.py:1: SettingWithCopyWarning: \n",
      "A value is trying to be set on a copy of a slice from a DataFrame.\n",
      "Try using .loc[row_indexer,col_indexer] = value instead\n",
      "\n",
      "See the caveats in the documentation: https://pandas.pydata.org/pandas-docs/stable/user_guide/indexing.html#returning-a-view-versus-a-copy\n",
      "  role_dm['role_end_year'] = role_dm['role_end_year'].fillna(0).astype(int)\n"
     ]
    }
   ],
   "source": [
    "role_dm['role_end_year'] = role_dm['role_end_year'].fillna(0).astype(int)"
   ]
  },
  {
   "cell_type": "code",
   "execution_count": 122,
   "metadata": {},
   "outputs": [],
   "source": [
    "role_dm = role_dm.replace({np.nan: ''})"
   ]
  },
  {
   "cell_type": "code",
   "execution_count": 124,
   "metadata": {},
   "outputs": [],
   "source": [
    "table_name = '12_clerus_role'\n",
    "append_to_access_table(role_dm, temp_database_path, table_name)"
   ]
  }
 ],
 "metadata": {
  "kernelspec": {
   "display_name": "Python 3",
   "language": "python",
   "name": "python3"
  },
  "language_info": {
   "codemirror_mode": {
    "name": "ipython",
    "version": 3
   },
   "file_extension": ".py",
   "mimetype": "text/x-python",
   "name": "python",
   "nbconvert_exporter": "python",
   "pygments_lexer": "ipython3",
   "version": "3.11.4"
  }
 },
 "nbformat": 4,
 "nbformat_minor": 2
}
