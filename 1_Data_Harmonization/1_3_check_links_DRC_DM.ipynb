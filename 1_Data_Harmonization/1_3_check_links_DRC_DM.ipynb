{
 "cells": [
  {
   "cell_type": "markdown",
   "metadata": {},
   "source": [
    "# Integrate Dutch Ministers (DM) in CLERUS\n",
    "\n",
    "The process of integrating the DRC dataset into CLERUS has been extensively described in [1_1_DRC_1555-1816.ipynb](1_1_DRC_1555-1816.ipynb). In [1_2_DM_1572-2004.ipynb](1_2_DM_1572-2004.ipynb) the process is presented how to extract individuals from the DM dataset can be extracted. In this notebook these individuals are connected with the individuals from the (manually) curated DRC dataset. \n",
    "\n",
    "For this, the strategy is to extend the DM dataset with the clerus_id for those fields that are present in the drc dataset. By doing this in this way, the DM dataset stays as much intact as possible. Once the DM is extended with the clerus_id for records that match, the DM dataset will be parsed to clerus.\n"
   ]
  },
  {
   "cell_type": "code",
   "execution_count": 78,
   "metadata": {},
   "outputs": [],
   "source": [
    "# import the required libraries\n",
    "import pandas as pd"
   ]
  },
  {
   "cell_type": "code",
   "execution_count": 79,
   "metadata": {},
   "outputs": [],
   "source": [
    "# Panda settings for showing data\n",
    "pd.set_option('display.max_columns', None)\n",
    "pd.set_option('display.max_rows', None)\n",
    "pd.set_option('display.max_colwidth', None)"
   ]
  },
  {
   "cell_type": "code",
   "execution_count": 80,
   "metadata": {},
   "outputs": [],
   "source": [
    "# Set variables for the project (i.e. the input location of the file to be processed and the output location) )\n",
    "folderlink = '..//data//'\n",
    "input_folder = 'input//'\n",
    "output_folder = 'output//'\n"
   ]
  },
  {
   "cell_type": "code",
   "execution_count": 81,
   "metadata": {},
   "outputs": [],
   "source": [
    "# Set links to the files\n",
    "d1_csv = folderlink+input_folder+\"01_clerus_bio_curated.csv\" \n",
    "d11_csv = folderlink+input_folder+\"12_clerus_role_curated.csv\"\n",
    "d22_csv = folderlink+output_folder+\"12_roles_dm.csv\""
   ]
  },
  {
   "cell_type": "code",
   "execution_count": 82,
   "metadata": {},
   "outputs": [],
   "source": [
    "# Import the csvs as dataframes\n",
    "d1 = pd.read_csv(d1_csv, sep=';', encoding='utf-8')\n",
    "\n",
    "d11_col_data_type = {'clerus_id': pd.Int64Dtype(), 'role_start_year': pd.Int64Dtype(), 'role_end_year': pd.Int64Dtype()}\n",
    "d11 = pd.read_csv(d11_csv, sep=';', dtype=d11_col_data_type, encoding='utf-8')\n",
    "\n",
    "d22_data_types = {'jaar intrede': pd.Int64Dtype(), 'jaar vertrek': pd.Int64Dtype(), 'ind_id': pd.Int64Dtype(),'dag intrede': pd.Int64Dtype(), 'dag vertrek': pd.Int64Dtype() }\n",
    "d22 = pd.read_csv(d22_csv, dtype=d22_data_types)\n"
   ]
  },
  {
   "cell_type": "code",
   "execution_count": 83,
   "metadata": {},
   "outputs": [],
   "source": [
    "# from the 01_clerus_bio table we only require the name of the individual to be linked with DM \n",
    "d1_name = d1[['clerus_id', 'first_name', 'infix', 'surname']]\n",
    "d1_d11_merge = pd.merge(d1_name, d11, on='clerus_id', how='inner')"
   ]
  },
  {
   "cell_type": "code",
   "execution_count": 84,
   "metadata": {},
   "outputs": [],
   "source": [
    "# filter out all role_type that are not minister (predikant)\n",
    "d1_d11_merge['role_type'] = d1_d11_merge['role_type'].fillna('')\n",
    "d1_d11 = d1_d11_merge[d1_d11_merge['role_type'].str.contains('pred', case=False)]"
   ]
  },
  {
   "cell_type": "code",
   "execution_count": 85,
   "metadata": {},
   "outputs": [
    {
     "name": "stderr",
     "output_type": "stream",
     "text": [
      "C:\\Users\\Maurice de Kleijn\\AppData\\Local\\Temp\\ipykernel_5284\\514069421.py:2: SettingWithCopyWarning: \n",
      "A value is trying to be set on a copy of a slice from a DataFrame.\n",
      "Try using .loc[row_indexer,col_indexer] = value instead\n",
      "\n",
      "See the caveats in the documentation: https://pandas.pydata.org/pandas-docs/stable/user_guide/indexing.html#returning-a-view-versus-a-copy\n",
      "  d1_d11['role_start_year+1'] = d1_d11['role_start_year']+1\n"
     ]
    }
   ],
   "source": [
    "# it appears that in some cases the start of a role in on of the two datasets is one year later. Therefore, a link is also establised with \"role_start_year+1\" and lateron \"d22jaar intrede+1\"\n",
    "d1_d11['role_start_year+1'] = d1_d11['role_start_year']+1"
   ]
  },
  {
   "cell_type": "code",
   "execution_count": 86,
   "metadata": {},
   "outputs": [
    {
     "name": "stderr",
     "output_type": "stream",
     "text": [
      "C:\\Users\\Maurice de Kleijn\\AppData\\Local\\Temp\\ipykernel_5284\\347723106.py:3: SettingWithCopyWarning: \n",
      "A value is trying to be set on a copy of a slice from a DataFrame.\n",
      "Try using .loc[row_indexer,col_indexer] = value instead\n",
      "\n",
      "See the caveats in the documentation: https://pandas.pydata.org/pandas-docs/stable/user_guide/indexing.html#returning-a-view-versus-a-copy\n",
      "  d1_d11['surname'] = d1_d11['surname'].fillna('')\n",
      "C:\\Users\\Maurice de Kleijn\\AppData\\Local\\Temp\\ipykernel_5284\\347723106.py:4: SettingWithCopyWarning: \n",
      "A value is trying to be set on a copy of a slice from a DataFrame.\n",
      "Try using .loc[row_indexer,col_indexer] = value instead\n",
      "\n",
      "See the caveats in the documentation: https://pandas.pydata.org/pandas-docs/stable/user_guide/indexing.html#returning-a-view-versus-a-copy\n",
      "  d1_d11['first_name'] = d1_d11['first_name'].fillna('')\n",
      "C:\\Users\\Maurice de Kleijn\\AppData\\Local\\Temp\\ipykernel_5284\\347723106.py:5: SettingWithCopyWarning: \n",
      "A value is trying to be set on a copy of a slice from a DataFrame.\n",
      "Try using .loc[row_indexer,col_indexer] = value instead\n",
      "\n",
      "See the caveats in the documentation: https://pandas.pydata.org/pandas-docs/stable/user_guide/indexing.html#returning-a-view-versus-a-copy\n",
      "  d1_d11['infix'] = d1_d11['infix'].fillna('')\n",
      "C:\\Users\\Maurice de Kleijn\\AppData\\Local\\Temp\\ipykernel_5284\\347723106.py:6: SettingWithCopyWarning: \n",
      "A value is trying to be set on a copy of a slice from a DataFrame.\n",
      "Try using .loc[row_indexer,col_indexer] = value instead\n",
      "\n",
      "See the caveats in the documentation: https://pandas.pydata.org/pandas-docs/stable/user_guide/indexing.html#returning-a-view-versus-a-copy\n",
      "  d1_d11['join_name'] = d1_d11['surname']+d1_d11['first_name']+d1_d11['infix']\n"
     ]
    }
   ],
   "source": [
    "# The first stategy to link DM with DRC is to link them based on the names. In DM the name is stored in one field (i.e. predikant). Since that field uses multiple methods to distinguish the first name, inifix and surname (e.g. . and ; etc.) we decided to map DRC to DM and remove all spaces and seperating characters to create a field that can be linked.\n",
    "\n",
    "d1_d11['surname'] = d1_d11['surname'].fillna('')\n",
    "d1_d11['first_name'] = d1_d11['first_name'].fillna('')\n",
    "d1_d11['infix'] = d1_d11['infix'].fillna('')\n",
    "d1_d11['join_name'] = d1_d11['surname']+d1_d11['first_name']+d1_d11['infix']\n"
   ]
  },
  {
   "cell_type": "code",
   "execution_count": 87,
   "metadata": {},
   "outputs": [],
   "source": [
    "# Here we clean the names of the ministers from DM from spaces and seperating characters\n",
    "d22['d22join_name'] = d22['predikant'].str.replace(\";\",\"\").str.replace(\" \",\"\").str.replace(\"  \",\"\").str.replace(\".\",\"\")\n",
    "# We select the first string in the placename\n",
    "d22['d22gemeente'] = d22['gemeente'].str.split().str[0]\n",
    "# Add the start year\n",
    "d22['d22jaar intrede'] = d22['jaar intrede'].astype(str).str.replace(\";\",\"\").str.replace(\"\",\"\").str.replace(\"  \",\"\")"
   ]
  },
  {
   "cell_type": "code",
   "execution_count": 88,
   "metadata": {},
   "outputs": [
    {
     "name": "stderr",
     "output_type": "stream",
     "text": [
      "C:\\Users\\Maurice de Kleijn\\AppData\\Local\\Temp\\ipykernel_5284\\3221726576.py:2: SettingWithCopyWarning: \n",
      "A value is trying to be set on a copy of a slice from a DataFrame.\n",
      "Try using .loc[row_indexer,col_indexer] = value instead\n",
      "\n",
      "See the caveats in the documentation: https://pandas.pydata.org/pandas-docs/stable/user_guide/indexing.html#returning-a-view-versus-a-copy\n",
      "  d1_d11['d11join_name'] = d1_d11['join_name'].str.replace(\";\",\"\").str.replace(\" \",\"\").str.replace(\"  \",\"\")\n",
      "C:\\Users\\Maurice de Kleijn\\AppData\\Local\\Temp\\ipykernel_5284\\3221726576.py:5: SettingWithCopyWarning: \n",
      "A value is trying to be set on a copy of a slice from a DataFrame.\n",
      "Try using .loc[row_indexer,col_indexer] = value instead\n",
      "\n",
      "See the caveats in the documentation: https://pandas.pydata.org/pandas-docs/stable/user_guide/indexing.html#returning-a-view-versus-a-copy\n",
      "  d1_d11['d11_role_place']= d1_d11['role_place'].str.split().str[0]\n"
     ]
    }
   ],
   "source": [
    "# Here we clean the joined names of the ministers from DRC from spaces and seperating characters\n",
    "d1_d11['d11join_name'] = d1_d11['join_name'].str.replace(\";\",\"\").str.replace(\" \",\"\").str.replace(\"  \",\"\")\n",
    "\n",
    "# We select the first word form the placename, since sometimes alternative names are included between brackets\n",
    "d1_d11['d11_role_place']= d1_d11['role_place'].str.split().str[0]"
   ]
  },
  {
   "cell_type": "code",
   "execution_count": 89,
   "metadata": {},
   "outputs": [
    {
     "name": "stderr",
     "output_type": "stream",
     "text": [
      "C:\\Users\\Maurice de Kleijn\\AppData\\Local\\Temp\\ipykernel_5284\\3564451121.py:2: SettingWithCopyWarning: \n",
      "A value is trying to be set on a copy of a slice from a DataFrame.\n",
      "Try using .loc[row_indexer,col_indexer] = value instead\n",
      "\n",
      "See the caveats in the documentation: https://pandas.pydata.org/pandas-docs/stable/user_guide/indexing.html#returning-a-view-versus-a-copy\n",
      "  d1_d11['d11j_place_year']=d1_d11['d11join_name'].astype(str)+\"_\"+d1_d11['d11_role_place'].astype(str)+\"_\"+d1_d11['role_start_year'].astype(str)\n",
      "C:\\Users\\Maurice de Kleijn\\AppData\\Local\\Temp\\ipykernel_5284\\3564451121.py:3: SettingWithCopyWarning: \n",
      "A value is trying to be set on a copy of a slice from a DataFrame.\n",
      "Try using .loc[row_indexer,col_indexer] = value instead\n",
      "\n",
      "See the caveats in the documentation: https://pandas.pydata.org/pandas-docs/stable/user_guide/indexing.html#returning-a-view-versus-a-copy\n",
      "  d1_d11['d11j_place_year+1']=d1_d11['d11join_name'].astype(str)+\"_\"+d1_d11['d11_role_place'].astype(str)+\"_\"+d1_d11['role_start_year+1'].astype(str)\n"
     ]
    }
   ],
   "source": [
    "# We create a joining field, which is a combination between the name, placename and start year\n",
    "d1_d11['d11j_place_year']=d1_d11['d11join_name'].astype(str)+\"_\"+d1_d11['d11_role_place'].astype(str)+\"_\"+d1_d11['role_start_year'].astype(str)\n",
    "d1_d11['d11j_place_year+1']=d1_d11['d11join_name'].astype(str)+\"_\"+d1_d11['d11_role_place'].astype(str)+\"_\"+d1_d11['role_start_year+1'].astype(str)"
   ]
  },
  {
   "cell_type": "code",
   "execution_count": 90,
   "metadata": {},
   "outputs": [],
   "source": [
    "d22['d22jaar intrede+1'] = d22['jaar intrede']+1"
   ]
  },
  {
   "cell_type": "code",
   "execution_count": 91,
   "metadata": {},
   "outputs": [],
   "source": [
    "# For dm a join field is created in a similar way after which the two are joined\n",
    "d22['d22j_place_year']=d22['d22join_name'].astype(str)+\"_\"+d22['d22gemeente'].astype(str)+\"_\"+d22['d22jaar intrede'].astype(str)\n",
    "d22['d22j_place_year+1']=d22['d22join_name'].astype(str)+\"_\"+d22['d22gemeente'].astype(str)+\"_\"+d22['d22jaar intrede+1'].astype(str)\n",
    "d11_d22 = pd.merge(d1_d11, d22, left_on='d11j_place_year', right_on='d22j_place_year', how='inner')"
   ]
  },
  {
   "cell_type": "code",
   "execution_count": 92,
   "metadata": {},
   "outputs": [],
   "source": [
    "#to account for 1 plus year in one or the other dataset two joins are made\n",
    "d11p1_d22 = pd.merge(d1_d11, d22, left_on='d11j_place_year+1', right_on='d22j_place_year', how='inner')\n",
    "d11_d22p1 = pd.merge(d1_d11, d22, left_on='d11j_place_year', right_on='d22j_place_year+1', how='inner')"
   ]
  },
  {
   "cell_type": "code",
   "execution_count": 93,
   "metadata": {},
   "outputs": [],
   "source": [
    "#these additional links are appended to d11_d22\n",
    "d11_d22 = pd.concat([d11_d22, d11p1_d22, d11_d22p1], ignore_index=True)"
   ]
  },
  {
   "cell_type": "code",
   "execution_count": 94,
   "metadata": {},
   "outputs": [],
   "source": [
    "# For dm a join field is created in a similar way after which the two are joined\n",
    "id_counts_d11 = d1_d11['clerus_id'].value_counts()"
   ]
  },
  {
   "cell_type": "code",
   "execution_count": 95,
   "metadata": {},
   "outputs": [
    {
     "name": "stderr",
     "output_type": "stream",
     "text": [
      "C:\\Users\\Maurice de Kleijn\\AppData\\Local\\Temp\\ipykernel_5284\\1249576984.py:2: SettingWithCopyWarning: \n",
      "A value is trying to be set on a copy of a slice from a DataFrame.\n",
      "Try using .loc[row_indexer,col_indexer] = value instead\n",
      "\n",
      "See the caveats in the documentation: https://pandas.pydata.org/pandas-docs/stable/user_guide/indexing.html#returning-a-view-versus-a-copy\n",
      "  d1_d11['d11_count'] = d1_d11['clerus_id'].map(id_counts_d11)\n"
     ]
    }
   ],
   "source": [
    "# Since an individual form drc could have more minister roles in dm we are going to check for that. In d1_d11 the number of times an individual was minister is counted.\n",
    "d1_d11['d11_count'] = d1_d11['clerus_id'].map(id_counts_d11)"
   ]
  },
  {
   "cell_type": "code",
   "execution_count": 96,
   "metadata": {},
   "outputs": [
    {
     "name": "stderr",
     "output_type": "stream",
     "text": [
      "C:\\Users\\Maurice de Kleijn\\AppData\\Local\\Temp\\ipykernel_5284\\2161369368.py:2: SettingWithCopyWarning: \n",
      "A value is trying to be set on a copy of a slice from a DataFrame.\n",
      "Try using .loc[row_indexer,col_indexer] = value instead\n",
      "\n",
      "See the caveats in the documentation: https://pandas.pydata.org/pandas-docs/stable/user_guide/indexing.html#returning-a-view-versus-a-copy\n",
      "  d1_d11['d11_count_unique'] = d1_d11['clerus_id'].astype(str)+\"__\"+d1_d11['d11_count'].astype(str)\n"
     ]
    }
   ],
   "source": [
    "# Next, a string is created combined with the clerus id. For DM we will do the same lateron\n",
    "d1_d11['d11_count_unique'] = d1_d11['clerus_id'].astype(str)+\"__\"+d1_d11['d11_count'].astype(str)"
   ]
  },
  {
   "cell_type": "code",
   "execution_count": 97,
   "metadata": {},
   "outputs": [],
   "source": [
    "# The number of times the clerus_id is present in the joined tables \n",
    "id_counts_d22_d11 = d11_d22['clerus_id'].value_counts()\n",
    "d11_d22['d11_d22_count'] = d11_d22['clerus_id'].map(id_counts_d22_d11)"
   ]
  },
  {
   "cell_type": "code",
   "execution_count": 98,
   "metadata": {},
   "outputs": [],
   "source": [
    "# We combine the clerus id with the numner of times a role is present per individual\n",
    "d11_d22['d11_d22_count_unique']= d11_d22['clerus_id'].astype(str)+\"__\"+d11_d22['d11_d22_count'].astype(str)"
   ]
  },
  {
   "cell_type": "code",
   "execution_count": 99,
   "metadata": {},
   "outputs": [],
   "source": [
    "# Now we join the two. This allows us to see which individuals in both datasets have exactly the same time the same role. These individuals thus completely overlap. \n",
    "countd11_countd11_d22 = pd.merge(d1_d11, d11_d22, left_on='d11_count_unique', right_on='d11_d22_count_unique', how='inner')"
   ]
  },
  {
   "cell_type": "code",
   "execution_count": 100,
   "metadata": {},
   "outputs": [],
   "source": [
    "# getting rid of all the unnecesary fields \n",
    "output_table = countd11_countd11_d22[['clerus_id_x','d11_count_unique','d11_d22_count_unique']].copy()"
   ]
  },
  {
   "cell_type": "code",
   "execution_count": 101,
   "metadata": {},
   "outputs": [],
   "source": [
    "# remove duplicates from the table (since every match produces an additional row)\n",
    "output_without_duplicates = output_table.drop_duplicates()"
   ]
  },
  {
   "cell_type": "code",
   "execution_count": 102,
   "metadata": {},
   "outputs": [],
   "source": [
    "# Join the tables to allow to to get the clerus_ids for rows that in d22 (DM) that are corresponding to the inforation in d1_d11 (DRC)\n",
    "d22_in_d11 = pd.merge(output_without_duplicates, d11_d22, left_on='clerus_id_x', right_on='clerus_id', how='inner')"
   ]
  },
  {
   "cell_type": "code",
   "execution_count": 103,
   "metadata": {},
   "outputs": [],
   "source": [
    "# create df with clerus id that fully match in DM and DRC (thus not need to be checked) \n",
    "d22_in_d11_pid_clerus_id = d22_in_d11[['clerus_id','pid']] "
   ]
  },
  {
   "cell_type": "code",
   "execution_count": 104,
   "metadata": {},
   "outputs": [],
   "source": [
    "# export to csv in order to integrate in the database\n",
    "d22_in_d11_pid_clerus_id.to_csv(folderlink+output_folder+'dm_in_drc_same_frequency.csv', sep='$', encoding='utf-8', index=False)"
   ]
  },
  {
   "cell_type": "code",
   "execution_count": 105,
   "metadata": {},
   "outputs": [],
   "source": [
    "# create a list with all row that match with drc \n",
    "d11_d22_clerus_pid_all = d11_d22[['clerus_id','pid']] "
   ]
  },
  {
   "cell_type": "code",
   "execution_count": 106,
   "metadata": {},
   "outputs": [],
   "source": [
    "# create a list with all row that match with drc and left join it with the table where all matching records are stored, so this information can be used as input for the datacuration.\n",
    "d22_not_d11 = pd.merge(d11_d22_clerus_pid_all, d22_in_d11_pid_clerus_id, left_on='pid', right_on='pid', how='left')\n"
   ]
  },
  {
   "cell_type": "code",
   "execution_count": 107,
   "metadata": {},
   "outputs": [
    {
     "data": {
      "text/html": [
       "<div>\n",
       "<style scoped>\n",
       "    .dataframe tbody tr th:only-of-type {\n",
       "        vertical-align: middle;\n",
       "    }\n",
       "\n",
       "    .dataframe tbody tr th {\n",
       "        vertical-align: top;\n",
       "    }\n",
       "\n",
       "    .dataframe thead th {\n",
       "        text-align: right;\n",
       "    }\n",
       "</style>\n",
       "<table border=\"1\" class=\"dataframe\">\n",
       "  <thead>\n",
       "    <tr style=\"text-align: right;\">\n",
       "      <th></th>\n",
       "      <th>clerus_id_x</th>\n",
       "      <th>pid</th>\n",
       "      <th>clerus_id_y</th>\n",
       "    </tr>\n",
       "  </thead>\n",
       "  <tbody>\n",
       "    <tr>\n",
       "      <th>0</th>\n",
       "      <td>20041</td>\n",
       "      <td>11440</td>\n",
       "      <td>NaN</td>\n",
       "    </tr>\n",
       "    <tr>\n",
       "      <th>1</th>\n",
       "      <td>20041</td>\n",
       "      <td>31861</td>\n",
       "      <td>NaN</td>\n",
       "    </tr>\n",
       "    <tr>\n",
       "      <th>2</th>\n",
       "      <td>20042</td>\n",
       "      <td>14485</td>\n",
       "      <td>20042.0</td>\n",
       "    </tr>\n",
       "    <tr>\n",
       "      <th>3</th>\n",
       "      <td>20043</td>\n",
       "      <td>16388</td>\n",
       "      <td>NaN</td>\n",
       "    </tr>\n",
       "    <tr>\n",
       "      <th>4</th>\n",
       "      <td>20043</td>\n",
       "      <td>36153</td>\n",
       "      <td>NaN</td>\n",
       "    </tr>\n",
       "  </tbody>\n",
       "</table>\n",
       "</div>"
      ],
      "text/plain": [
       "   clerus_id_x    pid  clerus_id_y\n",
       "0        20041  11440          NaN\n",
       "1        20041  31861          NaN\n",
       "2        20042  14485      20042.0\n",
       "3        20043  16388          NaN\n",
       "4        20043  36153          NaN"
      ]
     },
     "execution_count": 107,
     "metadata": {},
     "output_type": "execute_result"
    }
   ],
   "source": [
    "d22_not_d11.head()"
   ]
  },
  {
   "cell_type": "code",
   "execution_count": 108,
   "metadata": {},
   "outputs": [],
   "source": [
    "# create a dataset with clerus id-s (thus being in DRC) and pid that are not matching with the number of time a role occures in DM and DRC. \n",
    "d22_not_same_frequency = d22_not_d11[d22_not_d11['clerus_id_y'].isna()]"
   ]
  },
  {
   "cell_type": "code",
   "execution_count": 109,
   "metadata": {},
   "outputs": [],
   "source": [
    "d22_not_same_frequency_drop = d22_not_same_frequency[['clerus_id_x','pid']] \n",
    "d22_not_same_frequency_drop = d22_not_same_frequency_drop.rename(columns={\"clerus_id_x\": \"clerus_id\"})"
   ]
  },
  {
   "cell_type": "code",
   "execution_count": 110,
   "metadata": {},
   "outputs": [],
   "source": [
    "# Export the file in order for it to be imported in the database\n",
    "d22_not_same_frequency_drop.to_csv(folderlink+output_folder+'dm_in_drc_not_same_frequency.csv', sep='$', encoding='utf-8', index=False)"
   ]
  },
  {
   "cell_type": "code",
   "execution_count": 111,
   "metadata": {},
   "outputs": [],
   "source": [
    "d22_all_d11_match = pd.merge(d22, d11_d22_clerus_pid_all, left_on='pid', right_on='pid', how='left')\n",
    "\n"
   ]
  },
  {
   "cell_type": "code",
   "execution_count": 112,
   "metadata": {},
   "outputs": [],
   "source": [
    "d22_all_d11_match['clerus_id'] = d22_all_d11_match['clerus_id'].astype('Int64')"
   ]
  },
  {
   "cell_type": "code",
   "execution_count": 113,
   "metadata": {},
   "outputs": [],
   "source": [
    "d22_columns_to_drop = ['d22join_name', 'd22gemeente', 'd22jaar intrede', 'd22jaar intrede+1', 'd22j_place_year', 'd22j_place_year+1']\n",
    "\n",
    "d22_all_d11_match= d22_all_d11_match.drop(columns=d22_columns_to_drop) ##\td22gemeente\td22jaar intrede\td22jaar intrede+1\td22j_place_year\td22j_place_year+1"
   ]
  },
  {
   "cell_type": "code",
   "execution_count": 114,
   "metadata": {},
   "outputs": [],
   "source": [
    "# Export the file in order for it to be imported in the database\n",
    "d22_all_d11_match.to_csv(folderlink+output_folder+'dm_all_drc_match.csv', sep='$', encoding='utf-8', index=False)"
   ]
  }
 ],
 "metadata": {
  "kernelspec": {
   "display_name": "base",
   "language": "python",
   "name": "python3"
  },
  "language_info": {
   "codemirror_mode": {
    "name": "ipython",
    "version": 3
   },
   "file_extension": ".py",
   "mimetype": "text/x-python",
   "name": "python",
   "nbconvert_exporter": "python",
   "pygments_lexer": "ipython3",
   "version": "3.11.4"
  },
  "orig_nbformat": 4
 },
 "nbformat": 4,
 "nbformat_minor": 2
}
