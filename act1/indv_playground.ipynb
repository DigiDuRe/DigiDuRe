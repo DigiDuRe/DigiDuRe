{
 "cells": [
  {
   "cell_type": "code",
   "execution_count": 53,
   "metadata": {},
   "outputs": [
    {
     "data": {
      "image/png": "[encoded data removed]",
      "text/plain": [
       "<Figure size 640x480 with 1 Axes>"
      ]
     },
     "metadata": {},
     "output_type": "display_data"
    }
   ],
   "source": [
    "import pandas as pd\n",
    "import networkx as nx\n",
    "import matplotlib.pyplot as plt\n",
    "\n",
    "data = {\n",
    "    'Name': ['harry', 'barry', 'barry', 'harry', 'harry', 'harry', 'barry'],\n",
    "    'Start': [1, 1, 4, 2, 5, 7, 2],\n",
    "    'End': [2, 2, 6, 3, 7, 10, 4]\n",
    "}\n",
    "\n",
    "df = pd.DataFrame(data)\n",
    "\n",
    "df['start_name']= df['Name']+'_'+df['Start'].astype(str)\n",
    "df['end_name']= df['Name']+'_'+df['End'].astype(str)\n",
    "\n",
    "G = nx.DiGraph()\n",
    "\n",
    "for _, row in df.iterrows():\n",
    "    G.add_edge(row['start_name'], row['end_name'], name=row['Name'])\n",
    "\n",
    "\n",
    "# Draw the network graph\n",
    "pos = nx.spring_layout(G)  # Positions of nodes\n",
    "nx.draw(G, pos, with_labels=True, node_size=1000, font_size=8, node_color='lightblue')\n",
    "\n",
    "# Display the plot\n",
    "plt.show()"
   ]
  },
  {
   "cell_type": "code",
   "execution_count": 1,
   "metadata": {},
   "outputs": [
    {
     "ename": "NameError",
     "evalue": "name 'rows' is not defined",
     "output_type": "error",
     "traceback": [
      "\u001b[1;31m---------------------------------------------------------------------------\u001b[0m",
      "\u001b[1;31mNameError\u001b[0m                                 Traceback (most recent call last)",
      "Cell \u001b[1;32mIn[1], line 8\u001b[0m\n\u001b[0;32m      5\u001b[0m start \u001b[39m=\u001b[39m \u001b[39mNone\u001b[39;00m\n\u001b[0;32m      6\u001b[0m previous_end \u001b[39m=\u001b[39m \u001b[39mNone\u001b[39;00m\n\u001b[1;32m----> 8\u001b[0m \u001b[39mfor\u001b[39;00m row \u001b[39min\u001b[39;00m rows:\n\u001b[0;32m      9\u001b[0m     name, start, end \u001b[39m=\u001b[39m row[\u001b[39m\"\u001b[39m\u001b[39mname\u001b[39m\u001b[39m\"\u001b[39m], row[\u001b[39m\"\u001b[39m\u001b[39mstart\u001b[39m\u001b[39m\"\u001b[39m], row[\u001b[39m\"\u001b[39m\u001b[39mend\u001b[39m\u001b[39m\"\u001b[39m] \n\u001b[0;32m     10\u001b[0m     \u001b[39mid\u001b[39m \u001b[39m=\u001b[39m get_id(name, start, end, previous_end, \u001b[39mid\u001b[39m)\n",
      "\u001b[1;31mNameError\u001b[0m: name 'rows' is not defined"
     ]
    }
   ],
   "source": [
    "def get_id(name, start, end, previous_end, previous_id) -> int:\n",
    "    return previous_id if start == previous_end else previous_id + 1\n",
    "\n",
    "id = 0\n",
    "start = None\n",
    "previous_end = None\n",
    "\n",
    "for row in rows:\n",
    "    name, start, end = row[\"name\"], row[\"start\"], row[\"end\"] \n",
    "    id = get_id(name, start, end, previous_end, id)\n",
    "    previous_end = end\n",
    "    row[\"id\"] = id"
   ]
  },
  {
   "cell_type": "code",
   "execution_count": 73,
   "metadata": {},
   "outputs": [
    {
     "name": "stdout",
     "output_type": "stream",
     "text": [
      "Start Node: harry_1, End Node: harry_2, Name: harry\n",
      "Start Node: harry_2, End Node: harry_3, Name: harry\n",
      "Start Node: barry_1, End Node: barry_2, Name: barry\n",
      "Start Node: barry_2, End Node: barry_4, Name: barry\n",
      "Start Node: barry_4, End Node: barry_6, Name: barry\n",
      "Start Node: harry_5, End Node: harry_7, Name: harry\n",
      "Start Node: harry_7, End Node: harry_10, Name: harry\n"
     ]
    }
   ],
   "source": [
    "# Iterate through the edges and print edge information\n",
    "for start_node, end_node, edge_data in G.edges(data=True):\n",
    "    print(f\"Start Node: {start_node}, End Node: {end_node}, Name: {edge_data['name']}\")\n"
   ]
  },
  {
   "cell_type": "code",
   "execution_count": 74,
   "metadata": {},
   "outputs": [
    {
     "name": "stdout",
     "output_type": "stream",
     "text": [
      "Start Node: harry_1, Connected Nodes: ['harry_2']\n",
      "End Node: harry_2, Connected Nodes: ['harry_3']\n",
      "\n",
      "Start Node: harry_2, Connected Nodes: ['harry_3']\n",
      "End Node: harry_3, Connected Nodes: []\n",
      "\n",
      "Start Node: barry_1, Connected Nodes: ['barry_2']\n",
      "End Node: barry_2, Connected Nodes: ['barry_4']\n",
      "\n",
      "Start Node: barry_2, Connected Nodes: ['barry_4']\n",
      "End Node: barry_4, Connected Nodes: ['barry_6']\n",
      "\n",
      "Start Node: barry_4, Connected Nodes: ['barry_6']\n",
      "End Node: barry_6, Connected Nodes: []\n",
      "\n",
      "Start Node: harry_5, Connected Nodes: ['harry_7']\n",
      "End Node: harry_7, Connected Nodes: ['harry_10']\n",
      "\n",
      "Start Node: harry_7, Connected Nodes: ['harry_10']\n",
      "End Node: harry_10, Connected Nodes: []\n",
      "\n"
     ]
    }
   ],
   "source": [
    "# Print connected nodes for each edge\n",
    "for start_node, end_node, edge_data in G.edges(data=True):\n",
    "    neighbors_start = list(G.neighbors(start_node))\n",
    "    neighbors_end = list(G.neighbors(end_node))\n",
    "    print(f\"Start Node: {start_node}, Connected Nodes: {neighbors_start}\")\n",
    "    print(f\"End Node: {end_node}, Connected Nodes: {neighbors_end}\")\n",
    "    print()"
   ]
  },
  {
   "cell_type": "code",
   "execution_count": 75,
   "metadata": {},
   "outputs": [
    {
     "name": "stdout",
     "output_type": "stream",
     "text": [
      "Path 1: Nodes: {'harry_1', 'harry_3', 'harry_2'}\n",
      "Path 2: Nodes: {'barry_6', 'barry_1', 'barry_2', 'barry_4'}\n",
      "Path 3: Nodes: {'harry_5', 'harry_10', 'harry_7'}\n"
     ]
    }
   ],
   "source": [
    "# Group the different paths (connected components)\n",
    "paths = list(nx.connected_components(G.to_undirected()))\n",
    "\n",
    "# Print nodes in each path\n",
    "for i, path_nodes in enumerate(paths):\n",
    "    print(f\"Path {i + 1}: Nodes: {path_nodes}\")\n"
   ]
  },
  {
   "cell_type": "code",
   "execution_count": 77,
   "metadata": {},
   "outputs": [
    {
     "name": "stdout",
     "output_type": "stream",
     "text": [
      "       Node    Path\n",
      "0   harry_1  Path 1\n",
      "1   harry_3  Path 1\n",
      "2   harry_2  Path 1\n",
      "3   barry_1  Path 2\n",
      "4   barry_4  Path 2\n",
      "5   barry_2  Path 2\n",
      "6   barry_6  Path 2\n",
      "7   harry_5  Path 3\n",
      "8  harry_10  Path 3\n",
      "9   harry_7  Path 3\n"
     ]
    }
   ],
   "source": [
    "import pandas as pd\n",
    "\n",
    "# Path data\n",
    "path_data = [\n",
    "    {'Path': 'Path 1', 'Nodes': {'harry_1', 'harry_3', 'harry_2'}},\n",
    "    {'Path': 'Path 2', 'Nodes': {'barry_6', 'barry_1', 'barry_2', 'barry_4'}},\n",
    "    {'Path': 'Path 3', 'Nodes': {'harry_5', 'harry_10', 'harry_7'}}\n",
    "]\n",
    "\n",
    "# Transform path data into DataFrame\n",
    "df = pd.DataFrame(path_data)\n",
    "\n",
    "# Create a new DataFrame to store node-path pairs\n",
    "node_path_df = pd.DataFrame(columns=['Node', 'Path'])\n",
    "\n",
    "# Iterate through each row in the path DataFrame\n",
    "for _, row in df.iterrows():\n",
    "    path_name = row['Path']\n",
    "    nodes = row['Nodes']\n",
    "    for node in nodes:\n",
    "        node_path_df.loc[len(node_path_df)] = [node, path_name]\n",
    "\n",
    "# Display the resulting DataFrame\n",
    "print(node_path_df)\n"
   ]
  },
  {
   "cell_type": "code",
   "execution_count": 72,
   "metadata": {},
   "outputs": [
    {
     "ename": "ValueError",
     "evalue": "max() arg is an empty sequence",
     "output_type": "error",
     "traceback": [
      "\u001b[1;31m---------------------------------------------------------------------------\u001b[0m",
      "\u001b[1;31mValueError\u001b[0m                                Traceback (most recent call last)",
      "Cell \u001b[1;32mIn[72], line 22\u001b[0m\n\u001b[0;32m     19\u001b[0m     G\u001b[39m.\u001b[39madd_edge(row[\u001b[39m'\u001b[39m\u001b[39mstart_name\u001b[39m\u001b[39m'\u001b[39m], row[\u001b[39m'\u001b[39m\u001b[39mend_name\u001b[39m\u001b[39m'\u001b[39m], name\u001b[39m=\u001b[39mrow[\u001b[39m'\u001b[39m\u001b[39mName\u001b[39m\u001b[39m'\u001b[39m])\n\u001b[0;32m     21\u001b[0m \u001b[39m# Find the longest path in the graph\u001b[39;00m\n\u001b[1;32m---> 22\u001b[0m longest_path \u001b[39m=\u001b[39m \u001b[39mmax\u001b[39m(nx\u001b[39m.\u001b[39mall_simple_paths(G, source\u001b[39m=\u001b[39m\u001b[39m'\u001b[39m\u001b[39mharry_1\u001b[39m\u001b[39m'\u001b[39m, target\u001b[39m=\u001b[39m\u001b[39m'\u001b[39m\u001b[39mbarry_4\u001b[39m\u001b[39m'\u001b[39m), key\u001b[39m=\u001b[39m\u001b[39mlen\u001b[39m)\n\u001b[0;32m     24\u001b[0m \u001b[39m# Create a set of nodes in the longest path\u001b[39;00m\n\u001b[0;32m     25\u001b[0m longest_path_nodes \u001b[39m=\u001b[39m \u001b[39mset\u001b[39m(node \u001b[39mfor\u001b[39;00m edge \u001b[39min\u001b[39;00m longest_path \u001b[39mfor\u001b[39;00m node \u001b[39min\u001b[39;00m edge\u001b[39m.\u001b[39msplit(\u001b[39m'\u001b[39m\u001b[39m_\u001b[39m\u001b[39m'\u001b[39m))\n",
      "\u001b[1;31mValueError\u001b[0m: max() arg is an empty sequence"
     ]
    }
   ],
   "source": [
    "import pandas as pd\n",
    "import networkx as nx\n",
    "import matplotlib.pyplot as plt\n",
    "\n",
    "data = {\n",
    "    'Name': ['harry', 'barry', 'barry', 'harry', 'harry', 'harry', 'barry'],\n",
    "    'Start': [1, 1, 4, 2, 5, 7, 2],\n",
    "    'End': [2, 2, 6, 3, 7, 10, 4]\n",
    "}\n",
    "\n",
    "df = pd.DataFrame(data)\n",
    "\n",
    "df['start_name'] = df['Name'] + '_' + df['Start'].astype(str)\n",
    "df['end_name'] = df['Name'] + '_' + df['End'].astype(str)\n",
    "\n",
    "G = nx.DiGraph()\n",
    "\n",
    "for _, row in df.iterrows():\n",
    "    G.add_edge(row['start_name'], row['end_name'], name=row['Name'])\n",
    "\n",
    "# Find the longest path in the graph\n",
    "longest_path = max(nx.all_simple_paths(G, source='harry_1', target='barry_4'), key=len)\n",
    "\n",
    "# Create a set of nodes in the longest path\n",
    "longest_path_nodes = set(node for edge in longest_path for node in edge.split('_'))\n",
    "\n",
    "# Add a boolean column to indicate whether each row's nodes are in the longest path\n",
    "df['in_longest_path'] = df['start_name'].isin(longest_path_nodes) & df['end_name'].isin(longest_path_nodes)\n",
    "\n",
    "# Draw the network graph\n",
    "pos = nx.spring_layout(G)  # Positions of nodes\n",
    "nx.draw(G, pos, with_labels=True, node_size=1000, font_size=8, node_color='lightblue')\n",
    "\n",
    "# Display the plot\n",
    "plt.show()\n",
    "\n",
    "# Display the modified DataFrame 'df'\n",
    "print(\"Modified DataFrame (df):\")\n",
    "print(df)\n"
   ]
  }
 ],
 "metadata": {
  "kernelspec": {
   "display_name": "digidure",
   "language": "python",
   "name": "python3"
  },
  "language_info": {
   "codemirror_mode": {
    "name": "ipython",
    "version": 3
   },
   "file_extension": ".py",
   "mimetype": "text/x-python",
   "name": "python",
   "nbconvert_exporter": "python",
   "pygments_lexer": "ipython3",
   "version": "3.11.3"
  },
  "orig_nbformat": 4
 },
 "nbformat": 4,
 "nbformat_minor": 2
}
