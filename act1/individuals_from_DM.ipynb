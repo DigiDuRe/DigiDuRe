{
 "cells": [
  {
   "cell_type": "code",
   "execution_count": 27,
   "metadata": {},
   "outputs": [
    {
     "name": "stdout",
     "output_type": "stream",
     "text": [
      "    name      start         end  ID\n",
      "0  harry  amsterdam   rotterdam   1\n",
      "1  harry  rotterdam   Eindhoven   1\n",
      "2  harry  Eindhoven  maastricht   1\n",
      "3  barry       elst      rhenen   1\n",
      "4  barry     rhenen       vught   1\n",
      "5  barry      vught   rotterdam   1\n",
      "6  harry       elst        tiel   2\n",
      "7  harry       tiel         oss   2\n",
      "8  harry        oss     haarlem   2\n",
      "9  harry    haarlem      vianen   2\n"
     ]
    }
   ],
   "source": [
    "import pandas as pd\n",
    "\n",
    "def assign_ids(df):\n",
    "    individuals = {}\n",
    "    id_counter = 1\n",
    "\n",
    "    def get_individual_id(name, start, end):\n",
    "        if name in individuals:\n",
    "            if individuals[name]['end'] == start:\n",
    "                individuals[name]['end'] = end\n",
    "                return individuals[name]['ID']\n",
    "            else:\n",
    "                nonlocal id_counter\n",
    "                id_counter += 1\n",
    "                individuals[name] = {'ID': id_counter, 'start': start, 'end': end}\n",
    "                return id_counter\n",
    "        else:\n",
    "            individuals[name] = {'ID': id_counter, 'start': start, 'end': end}\n",
    "            return id_counter\n",
    "\n",
    "    df['ID'] = df.apply(lambda row: get_individual_id(row['name'], row['start'], row['end']), axis=1)\n",
    "    return df\n",
    "\n",
    "# Sample table data as a pandas DataFrame\n",
    "data = {\n",
    "    'name': ['harry', 'harry', 'harry', 'barry', 'barry', 'barry', 'harry', 'harry', 'harry', 'harry'],\n",
    "    'start': ['amsterdam', 'rotterdam', 'Eindhoven', 'elst', 'rhenen', 'vught', 'elst', 'tiel', 'oss', 'haarlem'],\n",
    "    'end': ['rotterdam', 'Eindhoven', 'maastricht', 'rhenen', 'vught', 'rotterdam', 'tiel', 'oss', 'haarlem', 'vianen']\n",
    "}\n",
    "\n",
    "df = pd.DataFrame(data)\n",
    "\n",
    "result_df = assign_ids(df)\n",
    "\n",
    "print(result_df)\n"
   ]
  }
 ],
 "metadata": {
  "kernelspec": {
   "display_name": "base",
   "language": "python",
   "name": "python3"
  },
  "language_info": {
   "codemirror_mode": {
    "name": "ipython",
    "version": 3
   },
   "file_extension": ".py",
   "mimetype": "text/x-python",
   "name": "python",
   "nbconvert_exporter": "python",
   "pygments_lexer": "ipython3",
   "version": "3.9.13"
  },
  "orig_nbformat": 4
 },
 "nbformat": 4,
 "nbformat_minor": 2
}
