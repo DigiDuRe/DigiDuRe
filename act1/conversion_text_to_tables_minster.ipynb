{
 "cells": [
  {
   "cell_type": "code",
   "execution_count": null,
   "id": "125ed42c",
   "metadata": {},
   "outputs": [],
   "source": [
    "# import the required libraries\n",
    "import docx2txt\n",
    "import os\n",
    "import re\n",
    "import csv\n",
    "import pandas as pd\n",
    "import numpy as np\n",
    "import act1"
   ]
  },
  {
   "cell_type": "code",
   "execution_count": null,
   "id": "43138848",
   "metadata": {},
   "outputs": [],
   "source": [
    "# Set variables for the project (i.e. the input location of the file to be processed and the output location) )\n",
    "\n",
    "folderlink = '..//data//'\n",
    "input_folder = 'input//'\n",
    "input_file = os.path.join(folderlink+input_folder, 'Repertoriummetoudepersoonsnummers.docx')\n",
    "folder_output = 'output//'\n",
    "output_txt = folderlink+folder_output+'output.txt'\n",
    "output_csv = folderlink+folder_output+'output_file.csv'"
   ]
  },
  {
   "cell_type": "code",
   "execution_count": null,
   "id": "77e90265",
   "metadata": {},
   "outputs": [],
   "source": [
    "# Panda settings for showing data\n",
    "pd.set_option('display.max_columns', None)\n",
    "pd.set_option('display.max_rows', None)\n",
    "pd.set_option('display.max_colwidth', None)"
   ]
  },
  {
   "cell_type": "code",
   "execution_count": null,
   "id": "93e8c330",
   "metadata": {},
   "outputs": [],
   "source": [
    "# Converting the docx to a text file and remove all unecessary rows.\n",
    "\n",
    "# Use docx2txt library to extract text from .docx file\n",
    "text = docx2txt.process(input_file)\n",
    "\n",
    "# Remove excessive whitespaces\n",
    "data = ' '.join(text.split())"
   ]
  },
  {
   "attachments": {},
   "cell_type": "markdown",
   "id": "f16639df",
   "metadata": {},
   "source": [
    "Manual updates in the dataset:\n",
    "\n",
    "1.  FROM: \"N.N. \"de oude vicarius\">pred. Lichtenvoorde 1602 tot 1615.<20871>\"\n",
    "    TO: \"N.N. \"de oude vicarius\" pred. Lichtenvoorde 1602 tot 1615.<20871>\" \n",
    "    REASON: since it contained the > character which is used to define ID fields. \n",
    " \n",
    "2.  FROM: \"Bosch; Cornelius Geb. Utrecht 1634; pred. Renswoude 16 dec. 1656, Maasland 15 april 1663, Brielle 30 jan. 1667, Alkmaar 1667, 's Gravenhage 5 juli 1676, emer. 1713,;overl. 28 maart 1715.<1185>\"\n",
    "    TO:Bosch; Cornelius\n",
    "Geb. Utrecht 1634; pred. Renswoude 16 dec. 1656, Maasland 15 april 1663, Brielle 30 jan. 1667, Alkmaar 1667, 's Gravenhage 5 juli 1676, emer. 1713, overl. 28 maart 1715.<1185>\n",
    "    REASON: Since it splitted the string based on \",;overl\"\n",
    "\n",
    "3.  FROM: Leeuwen, van, Cornelis [z.v. Cornelis]\n",
    "Geb. Hazerswoude 1611; pred. Boskoop en Middelburg 1637, overl. 1681.<5778>\n",
    "    TO: Leeuwen, van; Cornelis [z.v. Cornelis]\n",
    "Geb. Hazerswoude 1611; pred. Boskoop en Middelburg 1637, overl. 1681.<5778>\n",
    "    REASON: there was no ; between the name and surname (including infix)\n",
    "\n",
    "4.  FROM: Peenen, van, Marcus\n",
    "Gedoopt Leiden 31 aug. 1642; pred. Koudekerk aan den Rijn 2 sept. 1668, Leiden 1680, begraven 1 febr. 1696.<7388>\n",
    "    TO: Peenen, van; Marcus\n",
    "Gedoopt Leiden 31 aug. 1642; pred. Koudekerk aan den Rijn 2 sept. 1668, Leiden 1680, begraven 1 febr. 1696.<7388>\n",
    "    REASON: there was no ; between the name and surname (including infix)\n",
    "\n",
    "5.  FROM: Knuyt, de (Kuntius), Elias\n",
    "Geb. Middelburg yyy; pred. Oude Niedorp en Veenhuizen (NH) mei 1628, Sint Annaland 1630, Westkapelle 7 maart 1641, overl. --of vertrokken?-- 1642.<5381>\n",
    "    TO: Knuyt, de (Kuntius); Elias\n",
    "Geb. Middelburg yyy; pred. Oude Niedorp en Veenhuizen (NH) mei 1628, Sint Annaland 1630, Westkapelle 7 maart 1641, overl. --of vertrokken?-- 1642.<5381>\n",
    "    REASON: there was no ; between the name and surname (including infix)\n",
    "\n",
    "6.  FROM: Leonardis, de, Paulus\n",
    "Geb. Keulen yyy; pred. Bacharach (Pfalz) 16.., Kampen 1620, overl. 1649.<5836>\n",
    "    TO: Leonardis, de; Paulus\n",
    "Geb. Keulen yyy; pred. Bacharach (Pfalz) 16.., Kampen 1620, overl. 1649.<5836>\n",
    "    REASON: there was no ; between the name and surname (including infix)\n",
    "\n",
    "7.  FROM: Tamerus; Henricus\n",
    "Geb. xxx ca. 1540; voorheen Lutheraan;--onwettig pred. Heteren en Randwijk ca. 1600-1602; pred. Eethen en Meeuwen 1606, Doeveren, Gansoyen en Genderen 1610, afgezet als remonstrant 1619; overl. Heusden.<21206>\n",
    "    TO: Tamerus; Henricus\n",
    "Geb. xxx ca. 1540; voorheen Lutheraan; onwettig pred. Heteren en Randwijk ca. 1600-1602; pred. Eethen en Meeuwen 1606, Doeveren, Gansoyen en Genderen 1610, afgezet als remonstrant 1619; overl. Heusden.<21206>\n",
    "    REASON: -- conflicted created a line break. \n",
    "\n",
    "\n"
   ]
  },
  {
   "cell_type": "code",
   "execution_count": null,
   "id": "4f93cd31",
   "metadata": {},
   "outputs": [],
   "source": [
    "data = data.replace('overl. 28 maart 1715.<1185>', ' overl. 28 maart 1715.<1185>').replace('>pred.', ' pred.').replace('Leeuwen, van, Cornelis [z.v. Cornelis]','Leeuwen, van; Cornelis [z.v. Cornelis]',).replace('Peenen, van, Marcus','Peenen, van; Marcus').replace('Knuyt, de (Kuntius), Elias','Knuyt, de (Kuntius); Elias').replace('Leonardis, de, Paulus','Leonardis, de; Paulus').replace('Lutheraan;--onwettig','Lutheraan; onwettig')"
   ]
  },
  {
   "cell_type": "code",
   "execution_count": null,
   "id": "51a65b22",
   "metadata": {},
   "outputs": [],
   "source": [
    "# Replace semicolons with newlines and add semicolons around < and > since these identify the IDs\n",
    "data = data.replace(';', ';\\n').replace(';\\n ', '; ').replace('>', '>;\\n ').replace('<', ';<')\n",
    "lines = data.split('\\n')\n",
    "\n",
    "lines = [line for line in lines if not line.startswith('; ;') and not line.startswith('; ')]\n",
    "data = '\\n'.join(lines)\n",
    "lines = data.strip().split('\\n')\n",
    "data = '\\n'.join([line.lstrip() for line in lines])\n"
   ]
  },
  {
   "cell_type": "code",
   "execution_count": null,
   "id": "c8b3ee54",
   "metadata": {},
   "outputs": [],
   "source": []
  },
  {
   "cell_type": "code",
   "execution_count": null,
   "id": "f5ea12c6",
   "metadata": {},
   "outputs": [],
   "source": [
    "lines = data.split('\\n')\n",
    "\n",
    "with open(output_txt, \"w\", encoding='utf-8') as file:\n",
    "    for line in lines:\n",
    "        result_string = act1.replace_pred_count(line)\n",
    "        file.write(result_string + \"\\n\")"
   ]
  },
  {
   "cell_type": "code",
   "execution_count": null,
   "id": "476f7139",
   "metadata": {},
   "outputs": [],
   "source": [
    "columns = (\"Geb.\", # deze is cruciaal\n",
    " \"0 pred.\",\n",
    " \"1 pred.\",\n",
    " \"2 pred.\",\n",
    " \"3 pred.\",\n",
    " \"4 pred.\",\n",
    " \"overl.\", # deze is cruciaal\n",
    " \"Gedoopt\", # deze is cruciaal\n",
    " \"legerpred.\",\n",
    " \"pastoor\",\n",
    " \"garnizoenspred.\",\n",
    " \"emer.\",\n",
    " \"begraven\",\n",
    " \"conrector\",\n",
    " \" rector\",\n",
    " \"monnik\",           \n",
    " \"schoolmeester\",\n",
    " \"hoogleraar\",\n",
    " \"chirurgijn\",\n",
    " \"praeceptor\",\n",
    " \"ziekentrooster\",\n",
    " \"vlootpred.\",\n",
    " \"legerpred.\",\n",
    " \"ambassadepred.\"           \n",
    ")          \n",
    "    "
   ]
  },
  {
   "cell_type": "code",
   "execution_count": null,
   "id": "82350e93",
   "metadata": {},
   "outputs": [],
   "source": [
    "for column in columns:\n",
    "    with open(output_txt, 'r', encoding='utf-8') as f:\n",
    "        lines = f.readlines()        \n",
    "    with open(output_txt,'w', encoding='utf-8') as f:\n",
    "        for line in lines:\n",
    "            if \"; \"+column in line:\n",
    "                f.write(line)\n",
    "            elif column in line:\n",
    "                line = line.replace(column, \";\"+column)\n",
    "                f.write(line)\n",
    "            else:\n",
    "                f.write(line)"
   ]
  },
  {
   "cell_type": "code",
   "execution_count": null,
   "id": "7518a05b",
   "metadata": {},
   "outputs": [],
   "source": [
    "# Define the headers for the output file\n",
    "headers = ['surname_temp', 'name', 'Field1', 'Field2', 'Field3', 'Field4', 'Field5', 'Field6', 'Field7', 'Field8', 'Field9', 'Field10', 'Field11','Field12','Field13','Field14','Field15','Field16','Field17']\n",
    "\n",
    "with open(output_txt, 'r', encoding='utf-8') as infile, open(output_csv, 'w', newline='', encoding='utf-8' ) as outfile:\n",
    "    reader = csv.reader(infile, delimiter=';')\n",
    "    writer = csv.writer(outfile, delimiter=';')\n",
    "    \n",
    "    # Write the headers to the output file\n",
    "    writer.writerow(headers)\n",
    "\n",
    "    # Loop through each row in the input file and write it to the output file with 12 fields\n",
    "    for row in reader:\n",
    "        # Create a new row with 12 fields by extending the current row with empty values\n",
    "        new_row = row + [''] * (12 - len(row))\n",
    "        writer.writerow(new_row)"
   ]
  },
  {
   "cell_type": "code",
   "execution_count": null,
   "id": "402aee1f",
   "metadata": {},
   "outputs": [],
   "source": [
    "df = pd.read_csv(output_csv, sep=';', encoding='utf-8')"
   ]
  },
  {
   "cell_type": "code",
   "execution_count": null,
   "id": "45810564",
   "metadata": {},
   "outputs": [],
   "source": [
    "#In the file all IDs are stored between < and > therefore \n",
    "for column in df.columns:\n",
    "    # Check if any value in the column contains '<'\n",
    "    if df[column].astype(str).str.contains('<').any():\n",
    "        # Copy the values containing '<' to the 'test' column\n",
    "        df.loc[df[column].astype(str).str.contains('<'), 'clerus_id'] = df[column]\n"
   ]
  },
  {
   "cell_type": "code",
   "execution_count": null,
   "id": "d1670351",
   "metadata": {},
   "outputs": [],
   "source": [
    "df['clerus_id'] = df['clerus_id'].str.replace('>', '').str.replace('<','')"
   ]
  },
  {
   "cell_type": "code",
   "execution_count": null,
   "id": "d000fefc",
   "metadata": {},
   "outputs": [],
   "source": [
    "for column in columns:\n",
    "    df[column] = df.apply(lambda row: row[row.astype(str).str.contains(column)].iloc[0] if any(row.astype(str).str.contains(column)) else '', axis=1)"
   ]
  },
  {
   "cell_type": "code",
   "execution_count": null,
   "id": "fd89d8d5",
   "metadata": {},
   "outputs": [],
   "source": [
    "df['original_input'] = df['surname_temp'].fillna('') + df['name'].fillna('') + df['Field1'].fillna('') + df['Field2'].fillna('')+ df['Field3'].fillna('')+ df['Field4'].fillna('')+ df['Field5'].fillna('')+ df['Field6'].fillna('')+ df['Field7'].fillna('')+ df['Field8'].fillna('')+ df['Field9'].fillna('')+ df['Field10'].fillna('')+ df['Field11'].fillna('')+ df['Field12'].fillna('')+ df['Field13'].fillna('')+ df['Field14'].fillna('')+ df['Field15'].fillna('')+ df['Field16'].fillna('')+ df['Field17'].fillna('')\n",
    "df['original_input'] = df['original_input'].str.replace('0 pred. ', ' pred. ').str.replace('1  pred.',' pred. ').str.replace('2 pred.',' pred. ').str.replace('3  pred.',' pred. ').str.replace('4  pred.',' pred. ')"
   ]
  },
  {
   "cell_type": "code",
   "execution_count": null,
   "id": "1813a6bb",
   "metadata": {},
   "outputs": [],
   "source": [
    "for column in columns:\n",
    "    df[column] = df[column].str.replace(column, '')"
   ]
  },
  {
   "cell_type": "code",
   "execution_count": null,
   "id": "73c43e01",
   "metadata": {},
   "outputs": [],
   "source": [
    "df['name_info_family'] =df['name'] .str.extract(r'\\[(.*?)\\]')\n"
   ]
  },
  {
   "cell_type": "code",
   "execution_count": null,
   "id": "9d320495",
   "metadata": {},
   "outputs": [],
   "source": [
    "df['nickname'] =df['surname_temp'] .str.extract(r'\\((.*?)\\)')\n"
   ]
  },
  {
   "cell_type": "code",
   "execution_count": null,
   "id": "f4fb158e",
   "metadata": {},
   "outputs": [],
   "source": [
    "columns_rename = {\n",
    "    'Geb.': 'birth', \n",
    "    #' pred.': 'minister', \n",
    "    'overl.': 'death', \n",
    "    'Gedoopt':'baptized', \n",
    "    'legerpred.':'legerpredikant',\n",
    "    'pastoor':'pastoor',\n",
    "    'garnizoenspred.':'garnizoenspredikant',\n",
    "    \"emer.\":'emeritus_status',\n",
    "    \"begraven\":'burried',\n",
    "    \"conrector\":'conrector',\n",
    "    \" rector\":'rector',\n",
    "    \"monnik\":'monnik',           \n",
    "    \"schoolmeester\":'schoolmeester',\n",
    "    \"hoogleraar\":'hoogleraar',\n",
    "    \"chirurgijn\":'chirurgijn',\n",
    "    \"praeceptor\":'praeceptor',\n",
    "    \"ziekentrooster\":'ziekentrooster',\n",
    "    \"vlootpred.\":'vlootpredikant',\n",
    "    \"legerpred.\":'legerpredikant',\n",
    "    \"ambassadepred.\":'ambassadepredikant'}"
   ]
  },
  {
   "cell_type": "code",
   "execution_count": null,
   "id": "33ad5aaf",
   "metadata": {},
   "outputs": [],
   "source": [
    "# Rename the columns\n",
    "df = df.rename(columns=columns_rename)\n",
    "new_columns = list(columns_rename.values())\n"
   ]
  },
  {
   "cell_type": "code",
   "execution_count": null,
   "id": "a8cdb02b",
   "metadata": {},
   "outputs": [],
   "source": [
    "df.head()"
   ]
  },
  {
   "cell_type": "code",
   "execution_count": null,
   "id": "f4164a3a",
   "metadata": {},
   "outputs": [],
   "source": [
    "array_drop = [i for i in range(1, 18)]\n",
    "for dropid in array_drop:\n",
    "    column_dropid = 'Field'+str(dropid)\n",
    "    df = df.drop(column_dropid, axis=1)"
   ]
  },
  {
   "cell_type": "code",
   "execution_count": null,
   "id": "8c9fbaba",
   "metadata": {},
   "outputs": [],
   "source": [
    "def extract_year(text):\n",
    "    match = re.search(r'\\d{4}', text)\n",
    "    if match:\n",
    "        return match.group(0)\n",
    "    else:\n",
    "        return None"
   ]
  },
  {
   "cell_type": "code",
   "execution_count": null,
   "id": "a963c29c",
   "metadata": {},
   "outputs": [],
   "source": [
    "df['minister'] = df['0 pred.']+ ','+df['1 pred.']+ ','+df['2 pred.']+ ','+df['3 pred.']+ ','+df['4 pred.']"
   ]
  },
  {
   "cell_type": "code",
   "execution_count": null,
   "id": "da024692",
   "metadata": {},
   "outputs": [],
   "source": [
    "df = df.drop(['0 pred.','1 pred.','2 pred.','3 pred.','4 pred.'], axis=1)"
   ]
  },
  {
   "cell_type": "code",
   "execution_count": null,
   "id": "e33d6874",
   "metadata": {},
   "outputs": [],
   "source": [
    "function_year = [word for word in new_columns if word != 'minister']\n",
    "\n",
    "print(function_year)"
   ]
  },
  {
   "cell_type": "code",
   "execution_count": null,
   "id": "1cb18129",
   "metadata": {},
   "outputs": [],
   "source": [
    "df.head()"
   ]
  },
  {
   "cell_type": "code",
   "execution_count": null,
   "id": "55e6c0ac",
   "metadata": {},
   "outputs": [],
   "source": [
    "for year in function_year:\n",
    "    fld_year = 'year_' +year\n",
    "    df[fld_year] = df[year].apply(lambda x: extract_year(x))    "
   ]
  },
  {
   "cell_type": "code",
   "execution_count": null,
   "id": "ae689d22",
   "metadata": {},
   "outputs": [],
   "source": [
    "for year_accu in function_year:\n",
    "    accu_fld_year = 'accu_year_' +year_accu\n",
    "    df[accu_fld_year] = ''\n",
    "    # Iterate over each row in the DataFrame\n",
    "    for index, row in df.iterrows():\n",
    "        # Check if the string contains \"ca.\" (case-insensitive)\n",
    "        if 'ca.' in row[year_accu].lower():\n",
    "            # If found, set the value of the \"accuracy\" column to \"circa\"\n",
    "            df.at[index, accu_fld_year] = 'circa'\n",
    "            \n",
    "    "
   ]
  },
  {
   "cell_type": "code",
   "execution_count": null,
   "id": "50ec690f",
   "metadata": {},
   "outputs": [],
   "source": [
    "months =(\" januari \", \n",
    " \" februari \",\n",
    " \" maart \",\n",
    " \" april \",\n",
    " \" mei \",\n",
    " \" juni \",\n",
    " \" juli \",\n",
    " \" augustus \",\n",
    " \" september \",\n",
    " \" oktober \",\n",
    " \" november \",           \n",
    " \" december \",\n",
    " \"jan. \",\n",
    " \"feb. \",\n",
    " \"mrt. \",\n",
    " \"apr. \",\n",
    " \"jun. \",\n",
    " \"jul. \",\n",
    " \"aug. \",\n",
    " \"sept. \",\n",
    " \"sep. \",\n",
    " \"okt. \",\n",
    " \"nov. \",\n",
    " \"dec. \",\n",
    " \"yyy\",\n",
    " \"xxx\",\n",
    " \"ca.\",\n",
    " \"febr.\"        \n",
    ") \n"
   ]
  },
  {
   "cell_type": "code",
   "execution_count": null,
   "id": "672e997a",
   "metadata": {},
   "outputs": [],
   "source": [
    "for column_strip in function_year:   \n",
    "    for month in months:\n",
    "        df[column_strip] = df[column_strip].str.replace(month, '')\n"
   ]
  },
  {
   "cell_type": "code",
   "execution_count": null,
   "id": "27b5c285",
   "metadata": {},
   "outputs": [],
   "source": [
    "for column_strip in function_year:\n",
    "    df[column_strip] = df[column_strip].apply(lambda x: re.sub(r'[\\d\\.]', '', x))"
   ]
  },
  {
   "cell_type": "code",
   "execution_count": null,
   "id": "a81af8ae",
   "metadata": {},
   "outputs": [],
   "source": [
    "df.head()"
   ]
  },
  {
   "cell_type": "code",
   "execution_count": null,
   "id": "65e324aa",
   "metadata": {},
   "outputs": [],
   "source": [
    "df['surname_temp']= df['surname_temp'].str.replace(r'\\(.*\\)', '', regex=True)\n",
    "df['name']= df['name'].str.replace(r'\\[.*\\]', '', regex=True)"
   ]
  },
  {
   "cell_type": "code",
   "execution_count": null,
   "id": "205d3da3",
   "metadata": {},
   "outputs": [],
   "source": [
    "df.head()"
   ]
  },
  {
   "cell_type": "code",
   "execution_count": null,
   "id": "2d60d80c",
   "metadata": {},
   "outputs": [],
   "source": [
    "df[['surname', 'infix']] = df['surname_temp'].str.split(',', expand=True)"
   ]
  },
  {
   "cell_type": "code",
   "execution_count": null,
   "id": "7d5f5b9d",
   "metadata": {},
   "outputs": [],
   "source": [
    "df.head()"
   ]
  },
  {
   "cell_type": "code",
   "execution_count": null,
   "id": "cfc3704c",
   "metadata": {},
   "outputs": [],
   "source": [
    "df = df.drop(['surname_temp'], axis=1)"
   ]
  },
  {
   "cell_type": "code",
   "execution_count": null,
   "id": "cf3e4f0c",
   "metadata": {},
   "outputs": [],
   "source": [
    "df['join_name'] = df['surname']+df['name']+df['infix'].fillna('')\n",
    "df['join_name'] = df['join_name'].str.replace(\"  \",\" \")"
   ]
  },
  {
   "cell_type": "code",
   "execution_count": null,
   "id": "07409c6f",
   "metadata": {},
   "outputs": [],
   "source": [
    "df.head()"
   ]
  },
  {
   "cell_type": "code",
   "execution_count": null,
   "id": "b8cb8d5a",
   "metadata": {},
   "outputs": [],
   "source": [
    "\n",
    "birth_org = df[['clerus_id','birth','year_birth','accu_year_birth']]\n",
    "birth_org.to_csv(folderlink+folder_output+'birth_info.csv', sep=';', encoding='utf-8', index=False)\n"
   ]
  },
  {
   "cell_type": "code",
   "execution_count": null,
   "id": "d1e5caae",
   "metadata": {},
   "outputs": [],
   "source": [
    "death_org = df[['clerus_id','death','year_death','accu_year_death']]\n",
    "death_org.to_csv(folderlink+folder_output+'death_info.csv', sep=';', encoding='utf-8', index=False)"
   ]
  },
  {
   "cell_type": "code",
   "execution_count": null,
   "id": "75eddace",
   "metadata": {},
   "outputs": [],
   "source": [
    "bapt_org = df[['clerus_id','baptized','year_baptized','accu_year_baptized']]\n",
    "bapt_org.to_csv(folderlink+folder_output+'bapt_info.csv', sep=';', encoding='utf-8', index=False)"
   ]
  },
  {
   "cell_type": "code",
   "execution_count": null,
   "id": "0a1d1a5b",
   "metadata": {},
   "outputs": [],
   "source": [
    "df.to_csv(folderlink+folder_output+'parent_data.csv', sep=';', encoding='utf-8', index=False)"
   ]
  },
  {
   "attachments": {},
   "cell_type": "markdown",
   "id": "77f94d7b",
   "metadata": {},
   "source": [
    "From here we are going to make the parent child relationship with predikanten Ministers"
   ]
  },
  {
   "attachments": {},
   "cell_type": "markdown",
   "id": "c07c2a32",
   "metadata": {},
   "source": [
    "Here the minister data is set as a child. "
   ]
  },
  {
   "cell_type": "code",
   "execution_count": null,
   "id": "59da6d34",
   "metadata": {},
   "outputs": [],
   "source": [
    "subset_pred = df[['clerus_id','minister','join_name','original_input']]"
   ]
  },
  {
   "cell_type": "code",
   "execution_count": null,
   "id": "0aab81cf",
   "metadata": {},
   "outputs": [],
   "source": [
    "subset_pred.head()"
   ]
  },
  {
   "cell_type": "code",
   "execution_count": null,
   "id": "6518abc2",
   "metadata": {},
   "outputs": [],
   "source": [
    "df_expanded = subset_pred.assign(minister=subset_pred['minister'].str.split(','))\n",
    "\n",
    "# Explode the 'pred.' column to create separate rows for each item\n",
    "df_expanded = df_expanded.explode('minister')"
   ]
  },
  {
   "cell_type": "code",
   "execution_count": null,
   "id": "a2f82d5d",
   "metadata": {},
   "outputs": [],
   "source": [
    "df_expanded.head()"
   ]
  },
  {
   "cell_type": "code",
   "execution_count": null,
   "id": "1af4b1fe",
   "metadata": {},
   "outputs": [],
   "source": [
    "df_filtered = df_expanded[['clerus_id','minister','join_name','original_input']]"
   ]
  },
  {
   "cell_type": "code",
   "execution_count": null,
   "id": "50e7b7c3",
   "metadata": {},
   "outputs": [],
   "source": [
    "childs = df_filtered[(df_filtered[\"minister\"] !=\" \") & (df_filtered[\"minister\"] !=\"\")]"
   ]
  },
  {
   "cell_type": "code",
   "execution_count": null,
   "id": "817d3a84",
   "metadata": {},
   "outputs": [],
   "source": [
    "childs.head()"
   ]
  },
  {
   "cell_type": "code",
   "execution_count": null,
   "id": "5b6842d0",
   "metadata": {},
   "outputs": [],
   "source": [
    "childs['minister_year'] = childs['minister'].apply(lambda x: extract_year(x))"
   ]
  },
  {
   "cell_type": "code",
   "execution_count": null,
   "id": "095921be",
   "metadata": {},
   "outputs": [],
   "source": [
    "accu_fld_year = 'accu_year_' +'minster'\n",
    "childs[accu_fld_year] = ''\n",
    "# Iterate over each row in the DataFrame\n",
    "for index, row in df.iterrows():\n",
    "    # Check if the string contains \"ca.\" (case-insensitive)\n",
    "    if 'ca.' in row[year_accu].lower():\n",
    "        # If found, set the value of the \"accuracy\" column to \"circa\"\n",
    "        df.at[index, accu_fld_year] = 'circa'"
   ]
  },
  {
   "cell_type": "code",
   "execution_count": null,
   "id": "d95d8ed5",
   "metadata": {},
   "outputs": [],
   "source": [
    "childs.head()"
   ]
  },
  {
   "cell_type": "code",
   "execution_count": null,
   "id": "66a17750",
   "metadata": {},
   "outputs": [],
   "source": [
    "for month in months:\n",
    "        childs['minister'] = childs['minister'].str.replace(month, '')\n",
    "\n",
    "childs['minister'] = childs['minister'].apply(lambda x: re.sub(r'[\\d\\.]', '', x))"
   ]
  },
  {
   "cell_type": "code",
   "execution_count": null,
   "id": "e4dd781b",
   "metadata": {},
   "outputs": [],
   "source": [
    "childs.head()"
   ]
  },
  {
   "cell_type": "code",
   "execution_count": null,
   "id": "23553646",
   "metadata": {},
   "outputs": [],
   "source": [
    "childs.to_csv(folderlink+folder_output+'minister_info.csv', sep=';', encoding='utf-8', index=False)"
   ]
  },
  {
   "cell_type": "code",
   "execution_count": null,
   "id": "dec120f5",
   "metadata": {},
   "outputs": [],
   "source": [
    "os.remove(output_txt)\n",
    "os.remove(output_csv)"
   ]
  }
 ],
 "metadata": {
  "kernelspec": {
   "display_name": "digidure",
   "language": "python",
   "name": "python3"
  },
  "language_info": {
   "codemirror_mode": {
    "name": "ipython",
    "version": 3
   },
   "file_extension": ".py",
   "mimetype": "text/x-python",
   "name": "python",
   "nbconvert_exporter": "python",
   "pygments_lexer": "ipython3",
   "version": "3.9.13"
  }
 },
 "nbformat": 4,
 "nbformat_minor": 5
}
