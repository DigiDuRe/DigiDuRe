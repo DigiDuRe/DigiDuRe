{
 "cells": [
  {
   "cell_type": "code",
   "execution_count": 1,
   "metadata": {},
   "outputs": [],
   "source": [
    "import pandas as pd\n",
    "\n",
    "data = {\n",
    "    'name': ['harry', 'barry', 'barry', 'harry', 'harry', 'harry', 'barry'],\n",
    "    'start': [1, 1, 4, 2, 5, 7, 2],\n",
    "    'end': [2, 2, 6, 3, 7, 10, 4]\n",
    "}\n",
    "\n",
    "df = pd.DataFrame(data)"
   ]
  },
  {
   "cell_type": "code",
   "execution_count": 5,
   "metadata": {},
   "outputs": [
    {
     "ename": "TypeError",
     "evalue": "string indices must be integers, not 'str'",
     "output_type": "error",
     "traceback": [
      "\u001b[1;31m---------------------------------------------------------------------------\u001b[0m",
      "\u001b[1;31mTypeError\u001b[0m                                 Traceback (most recent call last)",
      "Cell \u001b[1;32mIn[5], line 10\u001b[0m\n\u001b[0;32m      8\u001b[0m rows \u001b[39m=\u001b[39m df\n\u001b[0;32m      9\u001b[0m \u001b[39mfor\u001b[39;00m row \u001b[39min\u001b[39;00m rows:\n\u001b[1;32m---> 10\u001b[0m     name, start, end \u001b[39m=\u001b[39m row[\u001b[39m\"\u001b[39m\u001b[39mname\u001b[39m\u001b[39m\"\u001b[39m], row[\u001b[39m\"\u001b[39m\u001b[39mstart\u001b[39m\u001b[39m\"\u001b[39m], row[\u001b[39m\"\u001b[39m\u001b[39mend\u001b[39m\u001b[39m\"\u001b[39m] \n\u001b[0;32m     11\u001b[0m     \u001b[39mid\u001b[39m \u001b[39m=\u001b[39m get_id(name, start, end, previous_end, \u001b[39mid\u001b[39m)\n\u001b[0;32m     12\u001b[0m     previous_end \u001b[39m=\u001b[39m end\n",
      "\u001b[1;31mTypeError\u001b[0m: string indices must be integers, not 'str'"
     ]
    }
   ],
   "source": [
    "def get_id(name, start, end, previous_end, previous_id) -> int:\n",
    "    return previous_id if start == previous_end else previous_id + 1\n",
    "\n",
    "id = 0\n",
    "start = None\n",
    "previous_end = None\n",
    "\n",
    "rows = df\n",
    "for row in rows:\n",
    "    name, start, end = row[\"name\"], row[\"start\"], row[\"end\"] \n",
    "    id = get_id(name, start, end, previous_end, id)\n",
    "    previous_end = end\n",
    "    row[\"id\"] = id"
   ]
  }
 ],
 "metadata": {
  "kernelspec": {
   "display_name": "digidure",
   "language": "python",
   "name": "python3"
  },
  "language_info": {
   "codemirror_mode": {
    "name": "ipython",
    "version": 3
   },
   "file_extension": ".py",
   "mimetype": "text/x-python",
   "name": "python",
   "nbconvert_exporter": "python",
   "pygments_lexer": "ipython3",
   "version": "3.11.3"
  },
  "orig_nbformat": 4
 },
 "nbformat": 4,
 "nbformat_minor": 2
}
