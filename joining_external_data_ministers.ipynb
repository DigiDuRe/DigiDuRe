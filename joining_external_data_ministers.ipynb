{
 "cells": [
  {
   "cell_type": "code",
   "execution_count": 10,
   "id": "bfd86f99",
   "metadata": {},
   "outputs": [],
   "source": [
    "# import the required libraries\n",
    "import os\n",
    "import re\n",
    "import csv\n",
    "import pandas as pd\n",
    "import numpy as np"
   ]
  },
  {
   "cell_type": "code",
   "execution_count": 11,
   "id": "cc01ea3a",
   "metadata": {},
   "outputs": [],
   "source": [
    "folderlink = 'data//'\n",
    "input_file = os.path.join(folderlink, 'new_predikanten.csv')\n",
    "output_txt = folderlink+'output.txt'\n",
    "output_csv = folderlink+'output_file.csv'\n",
    "folder_output = 'output//'"
   ]
  },
  {
   "cell_type": "code",
   "execution_count": 12,
   "id": "aa8adb2e",
   "metadata": {},
   "outputs": [],
   "source": [
    "# Panda settings for showing data\n",
    "pd.set_option('display.max_columns', None)\n",
    "pd.set_option('display.max_rows', None)\n",
    "pd.set_option('display.max_colwidth', None)"
   ]
  },
  {
   "cell_type": "code",
   "execution_count": 13,
   "id": "199e88ef",
   "metadata": {},
   "outputs": [],
   "source": [
    "df = pd.read_csv(input_file, sep=',', encoding='utf-8')"
   ]
  },
  {
   "cell_type": "code",
   "execution_count": 14,
   "id": "d4c144aa",
   "metadata": {},
   "outputs": [],
   "source": [
    "df['Count'] = df['predikant'].str.count(';')"
   ]
  },
  {
   "cell_type": "code",
   "execution_count": 15,
   "id": "ff383bf9",
   "metadata": {},
   "outputs": [],
   "source": [
    "# Define a function to add semicolon after the first word, conditionally based on 'test' column\n",
    "def add_semicolon_after_first_word(row):\n",
    "    string = row['predikant']\n",
    "    count_value = row['Count']\n",
    "    if count_value == 0:\n",
    "        words = string.split()\n",
    "        if len(words) > 1:\n",
    "            words[0] += ';'\n",
    "        string = ' '.join(words)\n",
    "    return string\n",
    "\n",
    "# Apply the function to the 'Column' column, based on the condition in the 'test' column\n",
    "df['predikant'] = df.apply(add_semicolon_after_first_word, axis=1)"
   ]
  },
  {
   "cell_type": "code",
   "execution_count": 16,
   "id": "f1ac2e5a",
   "metadata": {},
   "outputs": [],
   "source": [
    "df[['surname', 'name']] = df['predikant'].str.split(';',  n=1, expand=True)"
   ]
  },
  {
   "cell_type": "code",
   "execution_count": 17,
   "id": "d0b105ed",
   "metadata": {},
   "outputs": [],
   "source": [
    "df = df.drop(['Count'], axis=1)"
   ]
  },
  {
   "cell_type": "code",
   "execution_count": 18,
   "id": "bdb3e5a5",
   "metadata": {},
   "outputs": [],
   "source": [
    "df = df.drop(['predikant'], axis=1)"
   ]
  },
  {
   "cell_type": "code",
   "execution_count": 19,
   "id": "fa01f8fb",
   "metadata": {},
   "outputs": [],
   "source": [
    "df.to_csv(folderlink+folder_output+'new_predikanten.csv', sep=';', encoding='utf-8', index=False)"
   ]
  },
  {
   "cell_type": "code",
   "execution_count": null,
   "id": "f2845b78",
   "metadata": {},
   "outputs": [],
   "source": []
  }
 ],
 "metadata": {
  "kernelspec": {
   "display_name": "Python 3 (ipykernel)",
   "language": "python",
   "name": "python3"
  },
  "language_info": {
   "codemirror_mode": {
    "name": "ipython",
    "version": 3
   },
   "file_extension": ".py",
   "mimetype": "text/x-python",
   "name": "python",
   "nbconvert_exporter": "python",
   "pygments_lexer": "ipython3",
   "version": "3.11.3"
  }
 },
 "nbformat": 4,
 "nbformat_minor": 5
}
