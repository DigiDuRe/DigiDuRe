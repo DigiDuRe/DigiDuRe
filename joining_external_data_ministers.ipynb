{
 "cells": [
  {
   "cell_type": "code",
   "execution_count": 1,
   "id": "bfd86f99",
   "metadata": {},
   "outputs": [],
   "source": [
    "# import the required libraries\n",
    "import os\n",
    "import re\n",
    "import csv\n",
    "import pandas as pd\n",
    "import numpy as np"
   ]
  },
  {
   "cell_type": "code",
   "execution_count": 2,
   "id": "cc01ea3a",
   "metadata": {},
   "outputs": [],
   "source": [
    "folderlink = 'data//'\n",
    "input_file = os.path.join(folderlink, 'predikanten.csv')\n",
    "output_txt = folderlink+'output.txt'\n",
    "output_csv = folderlink+'output_file.csv'\n",
    "folder_output = 'output//'"
   ]
  },
  {
   "cell_type": "code",
   "execution_count": 3,
   "id": "aa8adb2e",
   "metadata": {},
   "outputs": [],
   "source": [
    "# Panda settings for showing data\n",
    "pd.set_option('display.max_columns', None)\n",
    "pd.set_option('display.max_rows', None)\n",
    "pd.set_option('display.max_colwidth', None)"
   ]
  },
  {
   "cell_type": "code",
   "execution_count": 4,
   "id": "199e88ef",
   "metadata": {},
   "outputs": [],
   "source": [
    "df = pd.read_csv(input_file, sep=';', encoding='utf-8')"
   ]
  },
  {
   "cell_type": "code",
   "execution_count": 6,
   "id": "2f60fc36",
   "metadata": {},
   "outputs": [],
   "source": [
    "df['Count'] = df['predikant'].str.count(';')"
   ]
  },
  {
   "cell_type": "code",
   "execution_count": 8,
   "id": "f9e06e23",
   "metadata": {},
   "outputs": [],
   "source": [
    "# Define a function to add semicolon after the first word, conditionally based on 'test' column\n",
    "def add_semicolon_after_first_word(row):\n",
    "    string = row['predikant']\n",
    "    count_value = row['Count']\n",
    "    if count_value == 0:\n",
    "        words = string.split()\n",
    "        if len(words) > 1:\n",
    "            words[0] += ';'\n",
    "        string = ' '.join(words)\n",
    "    return string\n",
    "\n",
    "# Apply the function to the 'Column' column, based on the condition in the 'test' column\n",
    "df['predikant'] = df.apply(add_semicolon_after_first_word, axis=1)"
   ]
  },
  {
   "cell_type": "code",
   "execution_count": 9,
   "id": "f1ac2e5a",
   "metadata": {},
   "outputs": [],
   "source": [
    "df[['surname', 'name']] = df['predikant'].str.split(';',  n=1, expand=True)"
   ]
  },
  {
   "cell_type": "code",
   "execution_count": 10,
   "id": "d1e7b27a",
   "metadata": {},
   "outputs": [],
   "source": [
    "df = df.drop(['Count'], axis=1)"
   ]
  },
  {
   "cell_type": "code",
   "execution_count": 11,
   "id": "e51c3629",
   "metadata": {},
   "outputs": [],
   "source": [
    "df['Count'] = df['predikant'].str.count(';')"
   ]
  },
  {
   "cell_type": "code",
   "execution_count": 12,
   "id": "9e8c1411",
   "metadata": {},
   "outputs": [],
   "source": [
    "sorted_df = df.sort_values('Count') #, ascending=False)"
   ]
  },
  {
   "cell_type": "code",
   "execution_count": 13,
   "id": "927dff39",
   "metadata": {},
   "outputs": [
    {
     "name": "stdout",
     "output_type": "stream",
     "text": [
      "52829\n"
     ]
    }
   ],
   "source": [
    "count = (df['Count'] == 1).sum()\n",
    "print(count)"
   ]
  },
  {
   "cell_type": "code",
   "execution_count": 14,
   "id": "46e114b4",
   "metadata": {},
   "outputs": [
    {
     "name": "stdout",
     "output_type": "stream",
     "text": [
      "27\n"
     ]
    }
   ],
   "source": [
    "count = (df['Count'] == 0).sum()\n",
    "print(count)"
   ]
  },
  {
   "cell_type": "code",
   "execution_count": 15,
   "id": "4c08b603",
   "metadata": {},
   "outputs": [
    {
     "name": "stdout",
     "output_type": "stream",
     "text": [
      "782\n"
     ]
    }
   ],
   "source": [
    "count = (df['Count'] == 2).sum()\n",
    "print(count)"
   ]
  },
  {
   "cell_type": "code",
   "execution_count": 16,
   "id": "19031f4f",
   "metadata": {},
   "outputs": [],
   "source": [
    "selected_rows = df[df['Count'] != 1]"
   ]
  },
  {
   "cell_type": "code",
   "execution_count": 17,
   "id": "ce30bb74",
   "metadata": {},
   "outputs": [
    {
     "data": {
      "text/html": [
       "<div>\n",
       "<style scoped>\n",
       "    .dataframe tbody tr th:only-of-type {\n",
       "        vertical-align: middle;\n",
       "    }\n",
       "\n",
       "    .dataframe tbody tr th {\n",
       "        vertical-align: top;\n",
       "    }\n",
       "\n",
       "    .dataframe thead th {\n",
       "        text-align: right;\n",
       "    }\n",
       "</style>\n",
       "<table border=\"1\" class=\"dataframe\">\n",
       "  <thead>\n",
       "    <tr style=\"text-align: right;\">\n",
       "      <th></th>\n",
       "      <th>provincie</th>\n",
       "      <th>classis</th>\n",
       "      <th>gemeente</th>\n",
       "      <th>wijk</th>\n",
       "      <th>predikant</th>\n",
       "      <th>Herkomst</th>\n",
       "      <th>dag intrede</th>\n",
       "      <th>maand intrede</th>\n",
       "      <th>jaar intrede</th>\n",
       "      <th>vertrek naar of vanwege</th>\n",
       "      <th>dag vertrek</th>\n",
       "      <th>maand vertrek</th>\n",
       "      <th>jaar vertrek</th>\n",
       "      <th>Bijzonderheden</th>\n",
       "      <th>surname</th>\n",
       "      <th>name</th>\n",
       "      <th>Count</th>\n",
       "    </tr>\n",
       "  </thead>\n",
       "  <tbody>\n",
       "    <tr>\n",
       "      <th>0</th>\n",
       "      <td>NH</td>\n",
       "      <td>NaN</td>\n",
       "      <td>Andijk</td>\n",
       "      <td>NaN</td>\n",
       "      <td>NaN</td>\n",
       "      <td>NaN</td>\n",
       "      <td>NaN</td>\n",
       "      <td>NaN</td>\n",
       "      <td>NaN</td>\n",
       "      <td>NaN</td>\n",
       "      <td>NaN</td>\n",
       "      <td>NaN</td>\n",
       "      <td>NaN</td>\n",
       "      <td>NaN</td>\n",
       "      <td>NaN</td>\n",
       "      <td>NaN</td>\n",
       "      <td>NaN</td>\n",
       "    </tr>\n",
       "    <tr>\n",
       "      <th>1</th>\n",
       "      <td>NaN</td>\n",
       "      <td>NaN</td>\n",
       "      <td>NaN</td>\n",
       "      <td>NaN</td>\n",
       "      <td>NaN</td>\n",
       "      <td>NaN</td>\n",
       "      <td>NaN</td>\n",
       "      <td>NaN</td>\n",
       "      <td>NaN</td>\n",
       "      <td>NaN</td>\n",
       "      <td>NaN</td>\n",
       "      <td>NaN</td>\n",
       "      <td>NaN</td>\n",
       "      <td>NaN</td>\n",
       "      <td>NaN</td>\n",
       "      <td>NaN</td>\n",
       "      <td>NaN</td>\n",
       "    </tr>\n",
       "    <tr>\n",
       "      <th>2</th>\n",
       "      <td>NH</td>\n",
       "      <td>NaN</td>\n",
       "      <td>Amstelveen</td>\n",
       "      <td>Wijk 4</td>\n",
       "      <td>NaN</td>\n",
       "      <td>e o</td>\n",
       "      <td>30.0</td>\n",
       "      <td>november</td>\n",
       "      <td>1975.0</td>\n",
       "      <td>emeritaat</td>\n",
       "      <td>1.0</td>\n",
       "      <td>augustus</td>\n",
       "      <td>1985.0</td>\n",
       "      <td>NaN</td>\n",
       "      <td>NaN</td>\n",
       "      <td>NaN</td>\n",
       "      <td>NaN</td>\n",
       "    </tr>\n",
       "    <tr>\n",
       "      <th>3</th>\n",
       "      <td>NH</td>\n",
       "      <td>NaN</td>\n",
       "      <td>Amsterdam</td>\n",
       "      <td>Amstelkerk</td>\n",
       "      <td>NaN</td>\n",
       "      <td>NaN</td>\n",
       "      <td>NaN</td>\n",
       "      <td>NaN</td>\n",
       "      <td>NaN</td>\n",
       "      <td>eervol ontslag</td>\n",
       "      <td>2.0</td>\n",
       "      <td>september</td>\n",
       "      <td>1979.0</td>\n",
       "      <td>NaN</td>\n",
       "      <td>NaN</td>\n",
       "      <td>NaN</td>\n",
       "      <td>NaN</td>\n",
       "    </tr>\n",
       "    <tr>\n",
       "      <th>4</th>\n",
       "      <td>GE</td>\n",
       "      <td>NaN</td>\n",
       "      <td>Doetinchem</td>\n",
       "      <td>ziekenhuizen</td>\n",
       "      <td>NaN</td>\n",
       "      <td>Doetinchem</td>\n",
       "      <td>1.0</td>\n",
       "      <td>januari</td>\n",
       "      <td>1971.0</td>\n",
       "      <td>emeritaat</td>\n",
       "      <td>1.0</td>\n",
       "      <td>mei</td>\n",
       "      <td>1979.0</td>\n",
       "      <td>NaN</td>\n",
       "      <td>NaN</td>\n",
       "      <td>NaN</td>\n",
       "      <td>NaN</td>\n",
       "    </tr>\n",
       "    <tr>\n",
       "      <th>5</th>\n",
       "      <td>GR</td>\n",
       "      <td>NaN</td>\n",
       "      <td>Groningen</td>\n",
       "      <td>6</td>\n",
       "      <td>NaN</td>\n",
       "      <td>Weesp</td>\n",
       "      <td>4.0</td>\n",
       "      <td>mei</td>\n",
       "      <td>1902.0</td>\n",
       "      <td>overleden.</td>\n",
       "      <td>16.0</td>\n",
       "      <td>januari</td>\n",
       "      <td>1907.0</td>\n",
       "      <td>NaN</td>\n",
       "      <td>NaN</td>\n",
       "      <td>NaN</td>\n",
       "      <td>NaN</td>\n",
       "    </tr>\n",
       "    <tr>\n",
       "      <th>6</th>\n",
       "      <td>ZH</td>\n",
       "      <td>Schieland</td>\n",
       "      <td>Hillegersberg Hillenius; Cornelius</td>\n",
       "      <td>NaN</td>\n",
       "      <td>NaN</td>\n",
       "      <td>NaN</td>\n",
       "      <td>NaN</td>\n",
       "      <td>NaN</td>\n",
       "      <td>1591.0</td>\n",
       "      <td>NaN</td>\n",
       "      <td>NaN</td>\n",
       "      <td>NaN</td>\n",
       "      <td>1596.0</td>\n",
       "      <td>NaN</td>\n",
       "      <td>NaN</td>\n",
       "      <td>NaN</td>\n",
       "      <td>NaN</td>\n",
       "    </tr>\n",
       "    <tr>\n",
       "      <th>7</th>\n",
       "      <td>ZH</td>\n",
       "      <td>NaN</td>\n",
       "      <td>Rotterdam-Hillegersberg</td>\n",
       "      <td>NaN</td>\n",
       "      <td>NaN</td>\n",
       "      <td>NaN</td>\n",
       "      <td>26.0</td>\n",
       "      <td>juni</td>\n",
       "      <td>1983.0</td>\n",
       "      <td>R'dam Delfshaven (Sofia Ziekenhuis)</td>\n",
       "      <td>10.0</td>\n",
       "      <td>september</td>\n",
       "      <td>1989.0</td>\n",
       "      <td>NaN</td>\n",
       "      <td>NaN</td>\n",
       "      <td>NaN</td>\n",
       "      <td>NaN</td>\n",
       "    </tr>\n",
       "    <tr>\n",
       "      <th>167</th>\n",
       "      <td>GE</td>\n",
       "      <td>NaN</td>\n",
       "      <td>Didam</td>\n",
       "      <td>NaN</td>\n",
       "      <td>Abbema;; van Pibo Ovitius</td>\n",
       "      <td>NaN</td>\n",
       "      <td>NaN</td>\n",
       "      <td>NaN</td>\n",
       "      <td>1596.0</td>\n",
       "      <td>NaN</td>\n",
       "      <td>NaN</td>\n",
       "      <td>NaN</td>\n",
       "      <td>1597.0</td>\n",
       "      <td>NaN</td>\n",
       "      <td>Abbema</td>\n",
       "      <td>; van Pibo Ovitius</td>\n",
       "      <td>2.0</td>\n",
       "    </tr>\n",
       "    <tr>\n",
       "      <th>224</th>\n",
       "      <td>FR</td>\n",
       "      <td>NaN</td>\n",
       "      <td>Dongjum</td>\n",
       "      <td>NaN</td>\n",
       "      <td>Abbringh;; Albertus Jacobus Hector</td>\n",
       "      <td>NaN</td>\n",
       "      <td>NaN</td>\n",
       "      <td>NaN</td>\n",
       "      <td>1795.0</td>\n",
       "      <td>NaN</td>\n",
       "      <td>NaN</td>\n",
       "      <td>NaN</td>\n",
       "      <td>1797.0</td>\n",
       "      <td>NaN</td>\n",
       "      <td>Abbringh</td>\n",
       "      <td>; Albertus Jacobus Hector</td>\n",
       "      <td>2.0</td>\n",
       "    </tr>\n",
       "  </tbody>\n",
       "</table>\n",
       "</div>"
      ],
      "text/plain": [
       "    provincie    classis                            gemeente          wijk  \\\n",
       "0          NH        NaN                              Andijk           NaN   \n",
       "1         NaN        NaN                                 NaN           NaN   \n",
       "2          NH        NaN                          Amstelveen        Wijk 4   \n",
       "3          NH        NaN                           Amsterdam    Amstelkerk   \n",
       "4          GE        NaN                          Doetinchem  ziekenhuizen   \n",
       "5          GR        NaN                           Groningen             6   \n",
       "6          ZH  Schieland  Hillegersberg Hillenius; Cornelius           NaN   \n",
       "7          ZH        NaN             Rotterdam-Hillegersberg           NaN   \n",
       "167        GE        NaN                               Didam           NaN   \n",
       "224        FR        NaN                             Dongjum           NaN   \n",
       "\n",
       "                              predikant    Herkomst  dag intrede  \\\n",
       "0                                   NaN         NaN          NaN   \n",
       "1                                   NaN         NaN          NaN   \n",
       "2                                   NaN         e o         30.0   \n",
       "3                                   NaN         NaN          NaN   \n",
       "4                                   NaN  Doetinchem          1.0   \n",
       "5                                   NaN       Weesp          4.0   \n",
       "6                                   NaN         NaN          NaN   \n",
       "7                                   NaN         NaN         26.0   \n",
       "167           Abbema;; van Pibo Ovitius         NaN          NaN   \n",
       "224  Abbringh;; Albertus Jacobus Hector         NaN          NaN   \n",
       "\n",
       "    maand intrede  jaar intrede              vertrek naar of vanwege  \\\n",
       "0             NaN           NaN                                  NaN   \n",
       "1             NaN           NaN                                  NaN   \n",
       "2        november        1975.0                            emeritaat   \n",
       "3             NaN           NaN                       eervol ontslag   \n",
       "4         januari        1971.0                            emeritaat   \n",
       "5             mei        1902.0                           overleden.   \n",
       "6             NaN        1591.0                                  NaN   \n",
       "7            juni        1983.0  R'dam Delfshaven (Sofia Ziekenhuis)   \n",
       "167           NaN        1596.0                                  NaN   \n",
       "224           NaN        1795.0                                  NaN   \n",
       "\n",
       "     dag vertrek maand vertrek  jaar vertrek Bijzonderheden   surname  \\\n",
       "0            NaN           NaN           NaN            NaN       NaN   \n",
       "1            NaN           NaN           NaN            NaN       NaN   \n",
       "2            1.0      augustus        1985.0            NaN       NaN   \n",
       "3            2.0     september        1979.0            NaN       NaN   \n",
       "4            1.0           mei        1979.0            NaN       NaN   \n",
       "5           16.0       januari        1907.0            NaN       NaN   \n",
       "6            NaN           NaN        1596.0            NaN       NaN   \n",
       "7           10.0     september        1989.0            NaN       NaN   \n",
       "167          NaN           NaN        1597.0            NaN    Abbema   \n",
       "224          NaN           NaN        1797.0            NaN  Abbringh   \n",
       "\n",
       "                          name  Count  \n",
       "0                          NaN    NaN  \n",
       "1                          NaN    NaN  \n",
       "2                          NaN    NaN  \n",
       "3                          NaN    NaN  \n",
       "4                          NaN    NaN  \n",
       "5                          NaN    NaN  \n",
       "6                          NaN    NaN  \n",
       "7                          NaN    NaN  \n",
       "167         ; van Pibo Ovitius    2.0  \n",
       "224  ; Albertus Jacobus Hector    2.0  "
      ]
     },
     "execution_count": 17,
     "metadata": {},
     "output_type": "execute_result"
    }
   ],
   "source": [
    "selected_rows.head(10)"
   ]
  },
  {
   "cell_type": "code",
   "execution_count": 18,
   "id": "cd58b592",
   "metadata": {},
   "outputs": [],
   "source": [
    "selected_rows.to_csv(folderlink+folder_output+'errors.csv', sep=';', encoding='utf-8', index=False)"
   ]
  },
  {
   "cell_type": "code",
   "execution_count": 19,
   "id": "24fb0964",
   "metadata": {},
   "outputs": [],
   "source": [
    "Count_1_rows = df[df['Count'] == 1]"
   ]
  },
  {
   "cell_type": "code",
   "execution_count": 20,
   "id": "e0792b6d",
   "metadata": {},
   "outputs": [],
   "source": [
    "Count_1_rows = df.drop(['predikant'], axis=1)"
   ]
  },
  {
   "cell_type": "code",
   "execution_count": 21,
   "id": "fa01f8fb",
   "metadata": {},
   "outputs": [],
   "source": [
    "Count_1_rows.to_csv(folderlink+folder_output+'count_1_rows.csv', sep=';', encoding='utf-8', index=False)"
   ]
  },
  {
   "cell_type": "code",
   "execution_count": null,
   "id": "f2845b78",
   "metadata": {},
   "outputs": [],
   "source": []
  }
 ],
 "metadata": {
  "kernelspec": {
   "display_name": "Python 3 (ipykernel)",
   "language": "python",
   "name": "python3"
  },
  "language_info": {
   "codemirror_mode": {
    "name": "ipython",
    "version": 3
   },
   "file_extension": ".py",
   "mimetype": "text/x-python",
   "name": "python",
   "nbconvert_exporter": "python",
   "pygments_lexer": "ipython3",
   "version": "3.9.13"
  }
 },
 "nbformat": 4,
 "nbformat_minor": 5
}
