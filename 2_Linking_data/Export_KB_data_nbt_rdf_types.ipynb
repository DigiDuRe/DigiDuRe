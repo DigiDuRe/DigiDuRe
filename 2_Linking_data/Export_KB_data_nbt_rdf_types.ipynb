{
 "cells": [
  {
   "cell_type": "code",
   "execution_count": 1,
   "metadata": {},
   "outputs": [],
   "source": [
    "# Import the various libraries\n",
    "import pandas as pd\n",
    "from SPARQLWrapper import SPARQLWrapper, JSON\n",
    "import time"
   ]
  },
  {
   "cell_type": "code",
   "execution_count": 2,
   "metadata": {},
   "outputs": [],
   "source": [
    "from datetime import datetime\n",
    "current_date = datetime.now()\n",
    "formatted_date = current_date.strftime('%d%m%Y')"
   ]
  },
  {
   "cell_type": "code",
   "execution_count": 3,
   "metadata": {},
   "outputs": [],
   "source": [
    "# Settings for files\n",
    "folderlink = '..//data//'\n",
    "input_folder = 'input//'\n",
    "folder_output = 'output//'"
   ]
  },
  {
   "cell_type": "code",
   "execution_count": 4,
   "metadata": {},
   "outputs": [],
   "source": [
    "# Add sparql endpoint\n",
    "sparql_endpoint = \"http://data.bibliotheken.nl/sparql\""
   ]
  },
  {
   "cell_type": "code",
   "execution_count": 5,
   "metadata": {},
   "outputs": [],
   "source": [
    "dataset_kb = \"nbt\""
   ]
  },
  {
   "cell_type": "code",
   "execution_count": 6,
   "metadata": {},
   "outputs": [],
   "source": [
    "def query_sparql_and_convert_to_df(sparql_endpoint, query):\n",
    "    sparql = SPARQLWrapper(sparql_endpoint)\n",
    "    sparql.setQuery(query)\n",
    "    sparql.setReturnFormat(JSON)\n",
    "    results = sparql.query().convert()\n",
    "    bindings = results[\"results\"][\"bindings\"]\n",
    "    data = []\n",
    "    for item in bindings:\n",
    "        row = {}\n",
    "        for key in item:\n",
    "            row[key] = item[key][\"value\"]\n",
    "        data.append(row)\n",
    "    df = pd.DataFrame(data)\n",
    "    return df"
   ]
  },
  {
   "cell_type": "code",
   "execution_count": 7,
   "metadata": {},
   "outputs": [],
   "source": [
    "primary_key = pd.DataFrame()\n",
    "\n",
    "for value_int in range(0, 30000000, 10000000):\n",
    "    value_str = str(value_int)\n",
    "    query = \"\"\"\n",
    "    SELECT ?title_id ?title WHERE {\n",
    "    ?title_id schema:name ?title .\n",
    "    ?title_id schema:mainEntityOfPage/schema:isPartOf <http://data.bibliotheken.nl/id/dataset/\"\"\"+dataset_kb+\"\"\"> .\n",
    "    }\n",
    "    LIMIT 10000000 OFFSET \"\"\"+value_str+\"\"\"\n",
    "    \"\"\"\n",
    "    df = query_sparql_and_convert_to_df(sparql_endpoint, query)\n",
    "    primary_key = pd.concat([primary_key, df], ignore_index=True)\n",
    "    time.sleep(1)\n"
   ]
  },
  {
   "cell_type": "code",
   "execution_count": 8,
   "metadata": {},
   "outputs": [
    {
     "data": {
      "text/html": [
       "<div>\n",
       "<style scoped>\n",
       "    .dataframe tbody tr th:only-of-type {\n",
       "        vertical-align: middle;\n",
       "    }\n",
       "\n",
       "    .dataframe tbody tr th {\n",
       "        vertical-align: top;\n",
       "    }\n",
       "\n",
       "    .dataframe thead th {\n",
       "        text-align: right;\n",
       "    }\n",
       "</style>\n",
       "<table border=\"1\" class=\"dataframe\">\n",
       "  <thead>\n",
       "    <tr style=\"text-align: right;\">\n",
       "      <th></th>\n",
       "      <th>title_id</th>\n",
       "      <th>title</th>\n",
       "    </tr>\n",
       "  </thead>\n",
       "  <tbody>\n",
       "    <tr>\n",
       "      <th>0</th>\n",
       "      <td>http://data.bibliotheken.nl/id/nbt/p750005645</td>\n",
       "      <td>Nonarchimedean fields and asymptotic expansions</td>\n",
       "    </tr>\n",
       "    <tr>\n",
       "      <th>1</th>\n",
       "      <td>http://data.bibliotheken.nl/id/nbt/p750009543</td>\n",
       "      <td>Urethral obstruction in boys : diagnosis and t...</td>\n",
       "    </tr>\n",
       "    <tr>\n",
       "      <th>2</th>\n",
       "      <td>http://data.bibliotheken.nl/id/nbt/p750009969</td>\n",
       "      <td>Health and industrial growth</td>\n",
       "    </tr>\n",
       "    <tr>\n",
       "      <th>3</th>\n",
       "      <td>http://data.bibliotheken.nl/id/nbt/p750012978</td>\n",
       "      <td>Good news in Acts : the ''Acts of the Apostles...</td>\n",
       "    </tr>\n",
       "    <tr>\n",
       "      <th>4</th>\n",
       "      <td>http://data.bibliotheken.nl/id/nbt/p750023635</td>\n",
       "      <td>Basisvorming voor alle leerlingen? : de werksi...</td>\n",
       "    </tr>\n",
       "  </tbody>\n",
       "</table>\n",
       "</div>"
      ],
      "text/plain": [
       "                                        title_id  \\\n",
       "0  http://data.bibliotheken.nl/id/nbt/p750005645   \n",
       "1  http://data.bibliotheken.nl/id/nbt/p750009543   \n",
       "2  http://data.bibliotheken.nl/id/nbt/p750009969   \n",
       "3  http://data.bibliotheken.nl/id/nbt/p750012978   \n",
       "4  http://data.bibliotheken.nl/id/nbt/p750023635   \n",
       "\n",
       "                                               title  \n",
       "0    Nonarchimedean fields and asymptotic expansions  \n",
       "1  Urethral obstruction in boys : diagnosis and t...  \n",
       "2                       Health and industrial growth  \n",
       "3  Good news in Acts : the ''Acts of the Apostles...  \n",
       "4  Basisvorming voor alle leerlingen? : de werksi...  "
      ]
     },
     "execution_count": 8,
     "metadata": {},
     "output_type": "execute_result"
    }
   ],
   "source": [
    "primary_key.head()"
   ]
  },
  {
   "cell_type": "code",
   "execution_count": 9,
   "metadata": {},
   "outputs": [],
   "source": [
    "book = pd.DataFrame()\n",
    "\n",
    "for value_int in range(0, 30000000, 10000000):\n",
    "    value_str = str(value_int)\n",
    "    query = \"\"\"\n",
    "    SELECT ?title_id ( \"book\" AS ?book ) WHERE {\n",
    "    ?title_id a schema:Book .\n",
    "    ?title_id schema:mainEntityOfPage/schema:isPartOf <http://data.bibliotheken.nl/id/dataset/\"\"\"+dataset_kb+\"\"\"> .\n",
    "    }\n",
    "    LIMIT 10000000 OFFSET \"\"\"+value_str+\"\"\"\n",
    "    \"\"\"\n",
    "    df = query_sparql_and_convert_to_df(sparql_endpoint, query)\n",
    "    book = pd.concat([book, df], ignore_index=True)\n",
    "    time.sleep(1)"
   ]
  },
  {
   "cell_type": "code",
   "execution_count": 12,
   "metadata": {},
   "outputs": [],
   "source": [
    "book_series = pd.DataFrame()\n",
    "\n",
    "for value_int in range(0, 30000000, 10000000):\n",
    "    value_str = str(value_int)\n",
    "    query = \"\"\"\n",
    "    SELECT ?title_id ( \"bookseries\" AS ?bookseries ) WHERE {\n",
    "    ?title_id a schema:BookSeries .\n",
    "    ?title_id schema:mainEntityOfPage/schema:isPartOf <http://data.bibliotheken.nl/id/dataset/\"\"\"+dataset_kb+\"\"\"> .\n",
    "    }\n",
    "    LIMIT 10000000 OFFSET \"\"\"+value_str+\"\"\"\n",
    "    \"\"\"\n",
    "    df = query_sparql_and_convert_to_df(sparql_endpoint, query)\n",
    "    book_series = pd.concat([book_series, df], ignore_index=True)\n",
    "    time.sleep(1)"
   ]
  },
  {
   "cell_type": "code",
   "execution_count": 14,
   "metadata": {},
   "outputs": [
    {
     "data": {
      "text/html": [
       "<div>\n",
       "<style scoped>\n",
       "    .dataframe tbody tr th:only-of-type {\n",
       "        vertical-align: middle;\n",
       "    }\n",
       "\n",
       "    .dataframe tbody tr th {\n",
       "        vertical-align: top;\n",
       "    }\n",
       "\n",
       "    .dataframe thead th {\n",
       "        text-align: right;\n",
       "    }\n",
       "</style>\n",
       "<table border=\"1\" class=\"dataframe\">\n",
       "  <thead>\n",
       "    <tr style=\"text-align: right;\">\n",
       "      <th></th>\n",
       "      <th>title_id</th>\n",
       "      <th>bookseries</th>\n",
       "    </tr>\n",
       "  </thead>\n",
       "  <tbody>\n",
       "    <tr>\n",
       "      <th>count</th>\n",
       "      <td>72655</td>\n",
       "      <td>72655</td>\n",
       "    </tr>\n",
       "    <tr>\n",
       "      <th>unique</th>\n",
       "      <td>72655</td>\n",
       "      <td>1</td>\n",
       "    </tr>\n",
       "    <tr>\n",
       "      <th>top</th>\n",
       "      <td>http://data.bibliotheken.nl/id/nbt/p791367398</td>\n",
       "      <td>bookseries</td>\n",
       "    </tr>\n",
       "    <tr>\n",
       "      <th>freq</th>\n",
       "      <td>1</td>\n",
       "      <td>72655</td>\n",
       "    </tr>\n",
       "  </tbody>\n",
       "</table>\n",
       "</div>"
      ],
      "text/plain": [
       "                                             title_id  bookseries\n",
       "count                                           72655       72655\n",
       "unique                                          72655           1\n",
       "top     http://data.bibliotheken.nl/id/nbt/p791367398  bookseries\n",
       "freq                                                1       72655"
      ]
     },
     "execution_count": 14,
     "metadata": {},
     "output_type": "execute_result"
    }
   ],
   "source": [
    "periodical = pd.DataFrame()\n",
    "\n",
    "for value_int in range(0, 30000000, 10000000):\n",
    "    value_str = str(value_int)\n",
    "    query = \"\"\"\n",
    "    SELECT ?title_id ( \"periodical\" AS ?periodical ) WHERE {\n",
    "    ?title_id a schema:Periodical .\n",
    "    ?title_id schema:mainEntityOfPage/schema:isPartOf <http://data.bibliotheken.nl/id/dataset/\"\"\"+dataset_kb+\"\"\"> .\n",
    "    }\n",
    "    LIMIT 10000000 OFFSET \"\"\"+value_str+\"\"\"\n",
    "    \"\"\"\n",
    "    df = query_sparql_and_convert_to_df(sparql_endpoint, query)\n",
    "    periodical = pd.concat([periodical, df], ignore_index=True)\n",
    "    time.sleep(1)"
   ]
  },
  {
   "cell_type": "code",
   "execution_count": null,
   "metadata": {},
   "outputs": [],
   "source": [
    "article = pd.DataFrame()\n",
    "\n",
    "for value_int in range(0, 30000000, 10000000):\n",
    "    value_str = str(value_int)\n",
    "    query = \"\"\"\n",
    "    SELECT ?title_id ( \"article\" AS ?article ) WHERE {\n",
    "    ?title_id a schema:Article .\n",
    "    ?title_id schema:mainEntityOfPage/schema:isPartOf <http://data.bibliotheken.nl/id/dataset/\"\"\"+dataset_kb+\"\"\"> .\n",
    "    }\n",
    "    LIMIT 10000000 OFFSET \"\"\"+value_str+\"\"\"\n",
    "    \"\"\"\n",
    "    df = query_sparql_and_convert_to_df(sparql_endpoint, query)\n",
    "    article = pd.concat([article, df], ignore_index=True)\n",
    "    time.sleep(1)"
   ]
  },
  {
   "cell_type": "code",
   "execution_count": null,
   "metadata": {},
   "outputs": [],
   "source": [
    "#http://schema.org/CreativeWork\n",
    "http://schema.org/Book\n",
    "#http://schema.org/ProductModel\n",
    "http://schema.org/BookSeries\n",
    "http://schema.org/Periodical\n",
    "#http://schema.org/Map\n",
    "#http://schema.org/SoftwareApplication\n",
    "#http://schema.org/MusicComposition\n",
    "#http://schema.org/VisualArtwork\n",
    "#http://purl.org/ontology/bibo/Manuscript\n",
    "http://schema.org/Article\n",
    "#http://purl.org/ontology/bibo:Manuscript\n",
    "\n"
   ]
  },
  {
   "cell_type": "code",
   "execution_count": 10,
   "metadata": {},
   "outputs": [],
   "source": [
    "language = pd.DataFrame()\n",
    "\n",
    "for value_int in range(0, 30000000, 10000000):\n",
    "    value_str = str(value_int)\n",
    "    query = \"\"\"\n",
    "    select ?title_id ?language where {\n",
    "    ?title_id schema:inLanguage ?language .\n",
    "    ?title_id a schema:Book .\n",
    "    ?title_id schema:name ?title .\n",
    "    ?title_id schema:mainEntityOfPage/schema:isPartOf <http://data.bibliotheken.nl/id/dataset/\"\"\"+dataset_kb+\"\"\"> .\n",
    "    }\n",
    "    LIMIT 10000000 OFFSET \"\"\"+value_str+\"\"\"\n",
    "    \"\"\"\n",
    "    df = query_sparql_and_convert_to_df(sparql_endpoint, query)\n",
    "    language = pd.concat([language, df], ignore_index=True)\n",
    "    time.sleep(1)"
   ]
  },
  {
   "cell_type": "code",
   "execution_count": 11,
   "metadata": {},
   "outputs": [],
   "source": [
    "pub_year = pd.DataFrame()\n",
    "\n",
    "for value_int in range(0, 30000000, 10000000):\n",
    "    value_str = str(value_int)\n",
    "    query = \"\"\"\n",
    "    select ?title_id ?pub_year where {\n",
    "    ?title_id schema:publication/schema:startDate ?pub_year .\n",
    "    ?title_id a schema:Book .\n",
    "    ?title_id schema:name ?title .\n",
    "    ?title_id schema:mainEntityOfPage/schema:isPartOf <http://data.bibliotheken.nl/id/dataset/\"\"\"+dataset_kb+\"\"\"> .\n",
    "    }\n",
    "    LIMIT 10000000 OFFSET \"\"\"+value_str+\"\"\"\n",
    "    \"\"\"\n",
    "    df = query_sparql_and_convert_to_df(sparql_endpoint, query)\n",
    "    pub_year = pd.concat([pub_year, df], ignore_index=True)\n",
    "    time.sleep(1)"
   ]
  },
  {
   "cell_type": "code",
   "execution_count": 12,
   "metadata": {},
   "outputs": [],
   "source": [
    "pub_location = pd.DataFrame()\n",
    "\n",
    "for value_int in range(0, 30000000, 10000000):\n",
    "    value_str = str(value_int)\n",
    "    query = \"\"\"\n",
    "    select ?title_id ?pub_location {\n",
    "    ?title_id schema:publication/schema:location/schema:name ?pub_location .\n",
    "    ?title_id a schema:Book .\n",
    "    ?title_id schema:name ?title .\n",
    "    ?title_id schema:mainEntityOfPage/schema:isPartOf <http://data.bibliotheken.nl/id/dataset/\"\"\"+dataset_kb+\"\"\"> .\n",
    "    }\n",
    "    LIMIT 10000000 OFFSET \"\"\"+value_str+\"\"\"\n",
    "    \"\"\"\n",
    "    df = query_sparql_and_convert_to_df(sparql_endpoint, query)\n",
    "    pub_location = pd.concat([pub_location, df], ignore_index=True)\n",
    "    time.sleep(1)"
   ]
  },
  {
   "cell_type": "code",
   "execution_count": 13,
   "metadata": {},
   "outputs": [],
   "source": [
    "author = pd.DataFrame()\n",
    "\n",
    "for value_int in range(0, 40000000, 10000000):\n",
    "    value_str = str(value_int)\n",
    "    query = \"\"\"\n",
    "    select ?title_id ?author where {\n",
    "    ?title_id schema:author/schema:name ?author .\n",
    "    ?title_id a schema:Book .\n",
    "    ?title_id schema:name ?title .\n",
    "    ?title_id schema:mainEntityOfPage/schema:isPartOf <http://data.bibliotheken.nl/id/dataset/\"\"\"+dataset_kb+\"\"\"> .\n",
    "    }\n",
    "    LIMIT 10000000 OFFSET \"\"\"+value_str+\"\"\"\n",
    "    \"\"\"\n",
    "    df = query_sparql_and_convert_to_df(sparql_endpoint, query)\n",
    "    author = pd.concat([author, df], ignore_index=True)\n",
    "    time.sleep(1)"
   ]
  },
  {
   "cell_type": "code",
   "execution_count": 14,
   "metadata": {},
   "outputs": [],
   "source": [
    "co_author = pd.DataFrame()\n",
    "\n",
    "for value_int in range(0, 40000000, 10000000):\n",
    "    value_str = str(value_int)\n",
    "    query = \"\"\"\n",
    "    select ?title_id ?co_author where {\n",
    "    ?title_id schema:contributor/schema:name ?co_author.\n",
    "    ?title_id a schema:Book .\n",
    "    ?title_id schema:name ?title .\n",
    "    ?title_id schema:mainEntityOfPage/schema:isPartOf <http://data.bibliotheken.nl/id/dataset/\"\"\"+dataset_kb+\"\"\"> .\n",
    "    }\n",
    "    LIMIT 10000000 OFFSET \"\"\"+value_str+\"\"\"\n",
    "    \"\"\"\n",
    "    df = query_sparql_and_convert_to_df(sparql_endpoint, query)\n",
    "    co_author = pd.concat([co_author, df], ignore_index=True)\n",
    "    time.sleep(1)"
   ]
  },
  {
   "cell_type": "code",
   "execution_count": 15,
   "metadata": {},
   "outputs": [],
   "source": [
    "pub_name = pd.DataFrame()\n",
    "\n",
    "for value_int in range(0, 30000000, 10000000):\n",
    "    value_str = str(value_int)\n",
    "    query = \"\"\"\n",
    "    select ?title_id ?publisher_name where {\n",
    "    ?title_id schema:publication/schema:organizer/schema:name ?publisher_name .\n",
    "    ?title_id a schema:Book .\n",
    "    ?title_id schema:name ?title .\n",
    "    ?title_id schema:mainEntityOfPage/schema:isPartOf <http://data.bibliotheken.nl/id/dataset/\"\"\"+dataset_kb+\"\"\"> .\n",
    "    }\n",
    "    LIMIT 10000000 OFFSET \"\"\"+value_str+\"\"\"\n",
    "    \"\"\"\n",
    "    df = query_sparql_and_convert_to_df(sparql_endpoint, query)\n",
    "    pub_name = pd.concat([pub_name, df], ignore_index=True)\n",
    "    time.sleep(1)"
   ]
  },
  {
   "cell_type": "code",
   "execution_count": 16,
   "metadata": {},
   "outputs": [],
   "source": [
    "df_join = pd.merge(primary_key, language, left_on='title_id', right_on='title_id', how='left')\n",
    "df_join2 = pd.merge(df_join, pub_year, left_on='title_id', right_on='title_id', how='left')\n",
    "df_join3 = pd.merge(df_join2, pub_location, left_on='title_id', right_on='title_id', how='left')\n",
    "df_join4 = pd.merge(df_join3, author, left_on='title_id', right_on='title_id', how='left')\n",
    "df_join5 = pd.merge(df_join4, co_author, left_on='title_id', right_on='title_id', how='left')\n",
    "df_join6 = pd.merge(df_join5, pub_name, left_on='title_id', right_on='title_id', how='left')\n",
    "df_join7 = pd.merge(df_join6, book, left_on='title_id', right_on='title_id', how='left')\n",
    "df_join8 = pd.merge(df_join6, book_series, left_on='title_id', right_on='title_id', how='left')\n",
    "df_join9 = pd.merge(df_join8, article, left_on='title_id', right_on='title_id', how='left')\n",
    "df_join_total = pd.merge(df_join9, periodical, left_on='title_id', right_on='title_id', how='left')\n"
   ]
  },
  {
   "cell_type": "code",
   "execution_count": 17,
   "metadata": {},
   "outputs": [],
   "source": [
    "df_join_total.to_csv(folderlink+folder_output+dataset_kb+\"_Dump\"+formatted_date+\".csv\", sep=';', encoding='utf-8', index=False)"
   ]
  },
  {
   "cell_type": "code",
   "execution_count": 19,
   "metadata": {},
   "outputs": [],
   "source": [
    "df1 = df_join_total.iloc[:1000000]\n",
    "df2 = df_join_total.iloc[1000000:]\n",
    "\n",
    "excel_export1 = folderlink+folder_output+dataset_kb+\"nbt_export_part1_\"+formatted_date+\".xlsx\"\n",
    "df1.to_excel(excel_export1, index=False, engine='openpyxl')\n",
    "\n",
    "excel_export2 = folderlink+folder_output+dataset_kb+\"nbt_export_part2_\"+formatted_date+\".xlsx\"\n",
    "df2.to_excel(excel_export2, index=False, engine='openpyxl')\n"
   ]
  }
 ],
 "metadata": {
  "kernelspec": {
   "display_name": "Python 3",
   "language": "python",
   "name": "python3"
  },
  "language_info": {
   "codemirror_mode": {
    "name": "ipython",
    "version": 3
   },
   "file_extension": ".py",
   "mimetype": "text/x-python",
   "name": "python",
   "nbconvert_exporter": "python",
   "pygments_lexer": "ipython3",
   "version": "3.11.4"
  }
 },
 "nbformat": 4,
 "nbformat_minor": 2
}
