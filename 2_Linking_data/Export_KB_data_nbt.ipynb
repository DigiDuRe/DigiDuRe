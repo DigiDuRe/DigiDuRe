{
 "cells": [
  {
   "cell_type": "code",
   "execution_count": 85,
   "metadata": {},
   "outputs": [],
   "source": [
    "# Import the various libraries\n",
    "import pandas as pd\n",
    "import os\n",
    "from SPARQLWrapper import SPARQLWrapper, JSON"
   ]
  },
  {
   "cell_type": "code",
   "execution_count": 86,
   "metadata": {},
   "outputs": [],
   "source": [
    "# Settings for files\n",
    "folderlink = '..//data//'\n",
    "input_folder = 'input//'\n",
    "folder_output = 'output//'"
   ]
  },
  {
   "cell_type": "code",
   "execution_count": 87,
   "metadata": {},
   "outputs": [],
   "source": [
    "# Add sparql endpoint\n",
    "sparql_endpoint = \"http://data.bibliotheken.nl/sparql\""
   ]
  },
  {
   "cell_type": "code",
   "execution_count": 88,
   "metadata": {},
   "outputs": [],
   "source": [
    "# In order to link the individuals from CLERUS with book titles, this script allows to generate a datadump of booktitle metadata from the Koninklijke Bibliotheek. The dataset that is of interest to connect CLERUS with is the \"Short Title Catalogue Netherlands\" STCN. \n",
    "# At the request of the Lead Applicant of the project the following fields have been identified as interesting. The LA requested an excelsheet with one unique row per booktiltle. Since, not the dataset contains many one to many relationships, every field has been put into one SPARQL query and in case of multiple childs these have been put in the same field. \n",
    "\n",
    "# Below an overview on the various Queries\n",
    "# q1 the primary key i.e. the recordnummers\n",
    "# q2 taal - schema:inLanguage \n",
    "# q3 jaar - schema:publication/schema:startDate \n",
    "# q4 land - schema:publication/schema:location\n",
    "# q1 titelprimair - schema:name\n",
    "# q5 titelsecundair - schema:alternateName\n",
    "# q5 titelextra - schema:alternateName\n",
    "# q6 auteurpersoon - schema:author/schema:name\n",
    "# q7 auteursecundair - schema:contributor/schema:name\n",
    "# q8 drukkervermelding - schema:publication/schema:description\n",
    "# q9 drukkerpersoon - schema:publication/schema:publishedBy/schema:name\n",
    "# q10 formaat - <http://data.bibliotheken.nl/def#bibliographicFormat> \n",
    "# q11 trefwoord - schema:about/skos:label"
   ]
  },
  {
   "cell_type": "code",
   "execution_count": 89,
   "metadata": {},
   "outputs": [],
   "source": [
    "# The current script generates a dump for the STCN dataset with the fieldnames requested by the the Lead applicant from the project.\n",
    "# In order to generate a similar datadump with the same fields for the Nederlandse Bibliografie Totaal (NBT) \"stcn\" should be changed into \"nbt\"\n",
    "\n",
    "dataset_kb = \"nbt\""
   ]
  },
  {
   "cell_type": "code",
   "execution_count": 90,
   "metadata": {},
   "outputs": [],
   "source": [
    "# Get a list with all the records and a title\n",
    "value = str(10)\n",
    "primary_key = \"\"\"\n",
    "SELECT ?title_id ?title WHERE {\n",
    "?title_id a schema:Book .\n",
    "?title_id schema:name ?title .\n",
    "?title_id schema:mainEntityOfPage/schema:isPartOf <http://data.bibliotheken.nl/id/dataset/\"\"\"+dataset_kb+\"\"\"> .\n",
    "}\n",
    "LIMIT \"\"\"+value+\"\"\" \n",
    "\"\"\""
   ]
  },
  {
   "cell_type": "code",
   "execution_count": 91,
   "metadata": {},
   "outputs": [],
   "source": [
    "sparql = SPARQLWrapper(sparql_endpoint)\n",
    "sparql.setQuery(primary_key)\n",
    "sparql.setReturnFormat(JSON)\n",
    "results = sparql.query().convert()\n",
    "bindings = results[\"results\"][\"bindings\"]\n",
    "data = []\n",
    "for item in bindings:\n",
    "    row = {}\n",
    "    for key in item:\n",
    "        row[key] = item[key][\"value\"]\n",
    "    data.append(row)\n",
    "df = pd.DataFrame(data)"
   ]
  },
  {
   "cell_type": "code",
   "execution_count": 92,
   "metadata": {},
   "outputs": [
    {
     "data": {
      "text/html": [
       "<div>\n",
       "<style scoped>\n",
       "    .dataframe tbody tr th:only-of-type {\n",
       "        vertical-align: middle;\n",
       "    }\n",
       "\n",
       "    .dataframe tbody tr th {\n",
       "        vertical-align: top;\n",
       "    }\n",
       "\n",
       "    .dataframe thead th {\n",
       "        text-align: right;\n",
       "    }\n",
       "</style>\n",
       "<table border=\"1\" class=\"dataframe\">\n",
       "  <thead>\n",
       "    <tr style=\"text-align: right;\">\n",
       "      <th></th>\n",
       "      <th>title_id</th>\n",
       "      <th>title</th>\n",
       "    </tr>\n",
       "  </thead>\n",
       "  <tbody>\n",
       "    <tr>\n",
       "      <th>0</th>\n",
       "      <td>http://data.bibliotheken.nl/id/nbt/p750005645</td>\n",
       "      <td>Nonarchimedean fields and asymptotic expansions</td>\n",
       "    </tr>\n",
       "    <tr>\n",
       "      <th>1</th>\n",
       "      <td>http://data.bibliotheken.nl/id/nbt/p750009543</td>\n",
       "      <td>Urethral obstruction in boys : diagnosis and t...</td>\n",
       "    </tr>\n",
       "    <tr>\n",
       "      <th>2</th>\n",
       "      <td>http://data.bibliotheken.nl/id/nbt/p750009969</td>\n",
       "      <td>Health and industrial growth</td>\n",
       "    </tr>\n",
       "    <tr>\n",
       "      <th>3</th>\n",
       "      <td>http://data.bibliotheken.nl/id/nbt/p750012978</td>\n",
       "      <td>Good news in Acts : the ''Acts of the Apostles...</td>\n",
       "    </tr>\n",
       "    <tr>\n",
       "      <th>4</th>\n",
       "      <td>http://data.bibliotheken.nl/id/nbt/p750023635</td>\n",
       "      <td>Basisvorming voor alle leerlingen? : de werksi...</td>\n",
       "    </tr>\n",
       "  </tbody>\n",
       "</table>\n",
       "</div>"
      ],
      "text/plain": [
       "                                        title_id  \\\n",
       "0  http://data.bibliotheken.nl/id/nbt/p750005645   \n",
       "1  http://data.bibliotheken.nl/id/nbt/p750009543   \n",
       "2  http://data.bibliotheken.nl/id/nbt/p750009969   \n",
       "3  http://data.bibliotheken.nl/id/nbt/p750012978   \n",
       "4  http://data.bibliotheken.nl/id/nbt/p750023635   \n",
       "\n",
       "                                               title  \n",
       "0    Nonarchimedean fields and asymptotic expansions  \n",
       "1  Urethral obstruction in boys : diagnosis and t...  \n",
       "2                       Health and industrial growth  \n",
       "3  Good news in Acts : the ''Acts of the Apostles...  \n",
       "4  Basisvorming voor alle leerlingen? : de werksi...  "
      ]
     },
     "execution_count": 92,
     "metadata": {},
     "output_type": "execute_result"
    }
   ],
   "source": [
    "df.head()"
   ]
  },
  {
   "cell_type": "code",
   "execution_count": 93,
   "metadata": {},
   "outputs": [],
   "source": [
    "# Get a list with all the records and languages if present (can be more then one per item)\n",
    "query2 = {\"language\":\n",
    "\"\"\"\n",
    "select ?title_id ?language where {\n",
    "  ?title_id schema:inLanguage ?language .\n",
    "  ?title_id a schema:Book .\n",
    "  ?title_id schema:name ?title .\n",
    "  ?title_id schema:mainEntityOfPage/schema:isPartOf <http://data.bibliotheken.nl/id/dataset/\"\"\"+dataset_kb+\"\"\"> .\n",
    "  }\n",
    "  LIMIT 10\n",
    "\"\"\"}"
   ]
  },
  {
   "cell_type": "code",
   "execution_count": 94,
   "metadata": {},
   "outputs": [],
   "source": [
    "# Get a list with all the records and a title and the year of publication if present\n",
    "query3 = {\"pub_year\":\n",
    "\"\"\"\n",
    "select ?title_id ?pub_year where {\n",
    "  ?title_id schema:publication/schema:startDate ?pub_year .\n",
    "  ?title_id a schema:Book .\n",
    "  ?title_id schema:name ?title .\n",
    "  ?title_id schema:mainEntityOfPage/schema:isPartOf <http://data.bibliotheken.nl/id/dataset/\"\"\"+dataset_kb+\"\"\"> .\n",
    "  }\n",
    "  LIMIT 10\n",
    "\"\"\"}"
   ]
  },
  {
   "cell_type": "code",
   "execution_count": 95,
   "metadata": {},
   "outputs": [],
   "source": [
    "# Get a list with all the records and a title and the publication location if present\n",
    "query4 = {\"pub_location\":\n",
    "\"\"\"\n",
    "select ?title_id ?pub_location {\n",
    "  ?title_id schema:publication/schema:location ?pub_location .\n",
    "  ?title_id a schema:Book .\n",
    "  ?title_id schema:name ?title .\n",
    "  ?title_id schema:mainEntityOfPage/schema:isPartOf <http://data.bibliotheken.nl/id/dataset/\"\"\"+dataset_kb+\"\"\"> .\n",
    "  }\n",
    "  LIMIT 10\n",
    "\"\"\"}"
   ]
  },
  {
   "cell_type": "code",
   "execution_count": 96,
   "metadata": {},
   "outputs": [],
   "source": [
    "# Get a list with all the records and an alternative title if present\n",
    "query5 = {\"alt_title\":\n",
    "\"\"\"\n",
    "select ?title_id ?alt_title where {\n",
    "  ?title_id schema:alternateName ?alt_title .\n",
    "  ?title_id a schema:Book .\n",
    "  ?title_id schema:name ?title .\n",
    "  ?title_id schema:mainEntityOfPage/schema:isPartOf <http://data.bibliotheken.nl/id/dataset/\"\"\"+dataset_kb+\"\"\"> .\n",
    "  }\n",
    "  LIMIT 10\n",
    "\"\"\"}"
   ]
  },
  {
   "cell_type": "code",
   "execution_count": 97,
   "metadata": {},
   "outputs": [],
   "source": [
    "# Get a list with all the records and the main author \n",
    "query6 = {\"author\":\n",
    "\"\"\"\n",
    "select ?title_id ?author ?authorid where {\n",
    "  ?title_id schema:author/schema:name ?author .\n",
    "  ?title_id a schema:Book .\n",
    "  ?title_id schema:name ?title .\n",
    "  ?title_id schema:mainEntityOfPage/schema:isPartOf <http://data.bibliotheken.nl/id/dataset/\"\"\"+dataset_kb+\"\"\"> .  \n",
    "  }\n",
    "  LIMIT 10\n",
    "\n",
    "\"\"\"}"
   ]
  },
  {
   "cell_type": "code",
   "execution_count": 98,
   "metadata": {},
   "outputs": [],
   "source": [
    "# Get a list with all the records and if present the co author(s)\n",
    "query7 = {\"co_author\":\n",
    "\"\"\"\n",
    "select ?title_id ?co_author where {\n",
    "  ?title_id schema:contributor/schema:name ?co_author.\n",
    "  ?title_id a schema:Book .\n",
    "  ?title_id schema:name ?title .\n",
    "  ?title_id schema:mainEntityOfPage/schema:isPartOf <http://data.bibliotheken.nl/id/dataset/\"\"\"+dataset_kb+\"\"\"> .\n",
    "  }\n",
    "  LIMIT 10  \n",
    "\n",
    "\"\"\"}"
   ]
  },
  {
   "cell_type": "code",
   "execution_count": 99,
   "metadata": {},
   "outputs": [],
   "source": [
    "# Get a list with all the records and additional infor about the publishing entity\n",
    "query8 = {\"pub_description\":\n",
    "\"\"\"\n",
    "select ?title_id ?pub_description where {\n",
    "  ?title_id schema:publication/schema:description ?pub_description .\n",
    "  ?title_id a schema:Book .\n",
    "  ?title_id schema:name ?title .\n",
    "  ?title_id schema:mainEntityOfPage/schema:isPartOf <http://data.bibliotheken.nl/id/dataset/\"\"\"+dataset_kb+\"\"\"> .\n",
    "  }\n",
    "  LIMIT 10  \n",
    "\n",
    "\"\"\"}"
   ]
  },
  {
   "cell_type": "code",
   "execution_count": 100,
   "metadata": {},
   "outputs": [],
   "source": [
    "# Get a list with all the records and the name of the publisher\n",
    "query9 = {\"publisher_name\":\n",
    "\"\"\"\n",
    "select ?title_id ?publisher_name where {\n",
    "  ?title_id schema:publication/schema:publishedBy/schema:name ?publisher_name .\n",
    "  ?title_id a schema:Book .\n",
    "  ?title_id schema:name ?title .\n",
    "  ?title_id schema:mainEntityOfPage/schema:isPartOf <http://data.bibliotheken.nl/id/dataset/\"\"\"+dataset_kb+\"\"\"> .\n",
    "  }\n",
    "  LIMIT 10\n",
    "\n",
    "\"\"\"}"
   ]
  },
  {
   "cell_type": "code",
   "execution_count": 101,
   "metadata": {},
   "outputs": [],
   "source": [
    "# Get a list with all the records and the format of the publication\n",
    "query10 = {\"format\":\n",
    "\"\"\"\n",
    "select ?title_id ?format where {\n",
    "  ?title_id <http://data.bibliotheken.nl/def#bibliographicFormat> ?format .\n",
    "  ?title_id a schema:Book .\n",
    "  ?title_id schema:name ?title .\n",
    "  ?title_id schema:mainEntityOfPage/schema:isPartOf <http://data.bibliotheken.nl/id/dataset/\"\"\"+dataset_kb+\"\"\"> .\n",
    "  }\n",
    "  LIMIT 10\n",
    "\n",
    "\"\"\"}"
   ]
  },
  {
   "cell_type": "code",
   "execution_count": 102,
   "metadata": {},
   "outputs": [],
   "source": [
    "# Get a list with all the records and the keywords that are assigned to them. \n",
    "query11 = {\"keywords\":\n",
    "\"\"\"\n",
    "select ?title_id ?keywords where {\n",
    "  ?title_id schema:about/skos:label ?keywords .\n",
    "  ?title_id a schema:Book .\n",
    "  ?title_id schema:name ?title .\n",
    "  ?title_id schema:mainEntityOfPage/schema:isPartOf <http://data.bibliotheken.nl/id/dataset/\"\"\"+dataset_kb+\"\"\"> .\n",
    "  }\n",
    "  LIMIT 10\n",
    "\"\"\"}"
   ]
  },
  {
   "cell_type": "code",
   "execution_count": 103,
   "metadata": {},
   "outputs": [],
   "source": [
    "query_dict = {**query2, **query3, **query4, **query6, **query7}#, **query9, **query10, **query11}"
   ]
  },
  {
   "cell_type": "code",
   "execution_count": 104,
   "metadata": {},
   "outputs": [],
   "source": [
    "for name, query in query_dict.items():\n",
    "    sparql = SPARQLWrapper(sparql_endpoint)\n",
    "    sparql.setQuery(query)\n",
    "    sparql.setReturnFormat(JSON)\n",
    "    results = sparql.query().convert()\n",
    "    bindings = results[\"results\"][\"bindings\"]\n",
    "    data = []\n",
    "    for item in bindings:\n",
    "        row = {}\n",
    "        for key in item:\n",
    "            row[key] = item[key][\"value\"]\n",
    "        data.append(row)\n",
    "\n",
    "    df_data = pd.DataFrame(data)\n",
    "    \n",
    "    result = df_data.groupby('title_id')[name].apply('; '.join).reset_index()\n",
    "    df_join = pd.merge(df, result, left_on='title_id', right_on='title_id', how='left')\n",
    "    df = df_join\n",
    "    "
   ]
  },
  {
   "cell_type": "code",
   "execution_count": null,
   "metadata": {},
   "outputs": [],
   "source": []
  },
  {
   "cell_type": "code",
   "execution_count": 109,
   "metadata": {},
   "outputs": [
    {
     "data": {
      "text/html": [
       "<div>\n",
       "<style scoped>\n",
       "    .dataframe tbody tr th:only-of-type {\n",
       "        vertical-align: middle;\n",
       "    }\n",
       "\n",
       "    .dataframe tbody tr th {\n",
       "        vertical-align: top;\n",
       "    }\n",
       "\n",
       "    .dataframe thead th {\n",
       "        text-align: right;\n",
       "    }\n",
       "</style>\n",
       "<table border=\"1\" class=\"dataframe\">\n",
       "  <thead>\n",
       "    <tr style=\"text-align: right;\">\n",
       "      <th></th>\n",
       "      <th>title_id</th>\n",
       "      <th>title</th>\n",
       "      <th>language</th>\n",
       "      <th>pub_year</th>\n",
       "      <th>pub_location</th>\n",
       "      <th>author</th>\n",
       "      <th>co_author</th>\n",
       "    </tr>\n",
       "  </thead>\n",
       "  <tbody>\n",
       "    <tr>\n",
       "      <th>0</th>\n",
       "      <td>http://data.bibliotheken.nl/id/nbt/p750005645</td>\n",
       "      <td>Nonarchimedean fields and asymptotic expansions</td>\n",
       "      <td>en</td>\n",
       "      <td>1975</td>\n",
       "      <td>nodeID://b297768423</td>\n",
       "      <td>NaN</td>\n",
       "      <td>NaN</td>\n",
       "    </tr>\n",
       "    <tr>\n",
       "      <th>1</th>\n",
       "      <td>http://data.bibliotheken.nl/id/nbt/p750009543</td>\n",
       "      <td>Urethral obstruction in boys : diagnosis and treatment of congenital valves of the posterior urethra</td>\n",
       "      <td>en</td>\n",
       "      <td>1975</td>\n",
       "      <td>nodeID://b297768444</td>\n",
       "      <td>NaN</td>\n",
       "      <td>NaN</td>\n",
       "    </tr>\n",
       "    <tr>\n",
       "      <th>2</th>\n",
       "      <td>http://data.bibliotheken.nl/id/nbt/p750009969</td>\n",
       "      <td>Health and industrial growth</td>\n",
       "      <td>en</td>\n",
       "      <td>1975</td>\n",
       "      <td>nodeID://b297768449</td>\n",
       "      <td>NaN</td>\n",
       "      <td>NaN</td>\n",
       "    </tr>\n",
       "    <tr>\n",
       "      <th>3</th>\n",
       "      <td>http://data.bibliotheken.nl/id/nbt/p750012978</td>\n",
       "      <td>Good news in Acts : the ''Acts of the Apostles'' in today's English version</td>\n",
       "      <td>nl</td>\n",
       "      <td>1974</td>\n",
       "      <td>nodeID://b297768454</td>\n",
       "      <td>NaN</td>\n",
       "      <td>NaN</td>\n",
       "    </tr>\n",
       "    <tr>\n",
       "      <th>4</th>\n",
       "      <td>http://data.bibliotheken.nl/id/nbt/p750023635</td>\n",
       "      <td>Basisvorming voor alle leerlingen? : de werksituatie van LBO-leerkrachten in het perspektief van basisvorming</td>\n",
       "      <td>nl</td>\n",
       "      <td>1987</td>\n",
       "      <td>nodeID://b297768467</td>\n",
       "      <td>NaN</td>\n",
       "      <td>NaN</td>\n",
       "    </tr>\n",
       "  </tbody>\n",
       "</table>\n",
       "</div>"
      ],
      "text/plain": [
       "                                        title_id  \\\n",
       "0  http://data.bibliotheken.nl/id/nbt/p750005645   \n",
       "1  http://data.bibliotheken.nl/id/nbt/p750009543   \n",
       "2  http://data.bibliotheken.nl/id/nbt/p750009969   \n",
       "3  http://data.bibliotheken.nl/id/nbt/p750012978   \n",
       "4  http://data.bibliotheken.nl/id/nbt/p750023635   \n",
       "\n",
       "                                                                                                           title  \\\n",
       "0                                                                Nonarchimedean fields and asymptotic expansions   \n",
       "1           Urethral obstruction in boys : diagnosis and treatment of congenital valves of the posterior urethra   \n",
       "2                                                                                   Health and industrial growth   \n",
       "3                                    Good news in Acts : the ''Acts of the Apostles'' in today's English version   \n",
       "4  Basisvorming voor alle leerlingen? : de werksituatie van LBO-leerkrachten in het perspektief van basisvorming   \n",
       "\n",
       "  language pub_year         pub_location author co_author  \n",
       "0       en     1975  nodeID://b297768423    NaN       NaN  \n",
       "1       en     1975  nodeID://b297768444    NaN       NaN  \n",
       "2       en     1975  nodeID://b297768449    NaN       NaN  \n",
       "3       nl     1974  nodeID://b297768454    NaN       NaN  \n",
       "4       nl     1987  nodeID://b297768467    NaN       NaN  "
      ]
     },
     "execution_count": 109,
     "metadata": {},
     "output_type": "execute_result"
    }
   ],
   "source": [
    "df.head()"
   ]
  },
  {
   "cell_type": "code",
   "execution_count": 106,
   "metadata": {},
   "outputs": [],
   "source": [
    "# Panda settings for showing data\n",
    "pd.set_option('display.max_columns', None)\n",
    "pd.set_option('display.max_rows', None)\n",
    "pd.set_option('display.max_colwidth', None)"
   ]
  },
  {
   "cell_type": "code",
   "execution_count": 107,
   "metadata": {},
   "outputs": [],
   "source": [
    "df_join.to_csv(folderlink+folder_output+dataset_kb+\"_Dump.csv\", sep=';', encoding='utf-8', index=False)"
   ]
  },
  {
   "cell_type": "code",
   "execution_count": 108,
   "metadata": {},
   "outputs": [],
   "source": [
    "excel_export = folderlink+folder_output+dataset_kb+\"excel.xlsx\"\n",
    "df_join.to_excel(excel_export, index=False, engine='openpyxl')\n"
   ]
  }
 ],
 "metadata": {
  "kernelspec": {
   "display_name": "Python 3",
   "language": "python",
   "name": "python3"
  },
  "language_info": {
   "codemirror_mode": {
    "name": "ipython",
    "version": 3
   },
   "file_extension": ".py",
   "mimetype": "text/x-python",
   "name": "python",
   "nbconvert_exporter": "python",
   "pygments_lexer": "ipython3",
   "version": "3.11.4"
  }
 },
 "nbformat": 4,
 "nbformat_minor": 2
}
