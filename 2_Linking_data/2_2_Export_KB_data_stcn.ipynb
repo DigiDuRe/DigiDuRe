{
 "cells": [
  {
   "cell_type": "code",
   "execution_count": 1,
   "metadata": {},
   "outputs": [],
   "source": [
    "# Import the various libraries\n",
    "import pandas as pd\n",
    "import os\n",
    "from SPARQLWrapper import SPARQLWrapper, JSON\n",
    "\n",
    "import time\n",
    "from datetime import datetime\n",
    "current_date = datetime.now()\n",
    "formatted_date = current_date.strftime('%d%m%Y')"
   ]
  },
  {
   "cell_type": "code",
   "execution_count": 2,
   "metadata": {},
   "outputs": [],
   "source": [
    "# Settings for files\n",
    "folderlink = '..//data//'\n",
    "input_folder = 'input//'\n",
    "folder_output = 'output//'"
   ]
  },
  {
   "cell_type": "code",
   "execution_count": 3,
   "metadata": {},
   "outputs": [],
   "source": [
    "# Add sparql endpoint\n",
    "sparql_endpoint = \"http://data.bibliotheken.nl/sparql\""
   ]
  },
  {
   "cell_type": "code",
   "execution_count": 4,
   "metadata": {},
   "outputs": [],
   "source": [
    "# In order to link the individuals from CLERUS with book titles, this script allows to generate a datadump of booktitle metadata from the Koninklijke Bibliotheek. The dataset that is of interest to connect CLERUS with is the \"Short Title Catalogue Netherlands\" STCN. \n",
    "# At the request of the Lead Applicant of the project the following fields have been identified as interesting. The LA requested an excelsheet with one unique row per booktiltle. Since, not the dataset contains many one to many relationships, every field has been put into one SPARQL query and in case of multiple childs these have been put in the same field. \n",
    "\n",
    "# Below an overview on the various Queries\n",
    "# q1 the primary key i.e. the recordnummers\n",
    "# q2 taal - schema:inLanguage \n",
    "# q3 jaar - schema:publication/schema:startDate \n",
    "# q4 land - schema:publication/schema:location\n",
    "# q1 titelprimair - schema:name\n",
    "# q5 titelsecundair - schema:alternateName\n",
    "# q5 titelextra - schema:alternateName\n",
    "# q6 auteurpersoon - schema:author/schema:name\n",
    "# q7 auteursecundair - schema:contributor/schema:name\n",
    "# q8 drukkervermelding - schema:publication/schema:description\n",
    "# q9 drukkerpersoon - schema:publication/schema:publishedBy/schema:name\n",
    "# q10 formaat - <http://data.bibliotheken.nl/def#bibliographicFormat> \n",
    "# q11 trefwoord - schema:about/skos:label"
   ]
  },
  {
   "cell_type": "code",
   "execution_count": 5,
   "metadata": {},
   "outputs": [],
   "source": [
    "# The current script generates a dump for the STCN dataset with the fieldnames requested by the the Lead applicant from the project.\n",
    "# In order to generate a similar datadump with the same fields for the Nederlandse Bibliografie Totaal (NBT) \"stcn\" should be changed into \"nbt\"\n",
    "\n",
    "dataset_kb = \"stcn\""
   ]
  },
  {
   "cell_type": "code",
   "execution_count": 6,
   "metadata": {},
   "outputs": [],
   "source": [
    "# Get a list with all the records and a title\n",
    "primary_key = \"\"\"\n",
    "SELECT ?title_id ?title WHERE {\n",
    "?title_id a schema:Book .\n",
    "?title_id schema:name ?title .\n",
    "?title_id schema:mainEntityOfPage/schema:isPartOf <http://data.bibliotheken.nl/id/dataset/\"\"\"+dataset_kb+\"\"\"> .\n",
    "}\n",
    "\n",
    "\"\"\""
   ]
  },
  {
   "cell_type": "code",
   "execution_count": 7,
   "metadata": {},
   "outputs": [],
   "source": [
    "sparql = SPARQLWrapper(sparql_endpoint)\n",
    "sparql.setQuery(primary_key)\n",
    "sparql.setReturnFormat(JSON)\n",
    "results = sparql.query().convert()\n",
    "bindings = results[\"results\"][\"bindings\"]\n",
    "data = []\n",
    "for item in bindings:\n",
    "    row = {}\n",
    "    for key in item:\n",
    "        row[key] = item[key][\"value\"]\n",
    "    data.append(row)\n",
    "df = pd.DataFrame(data)"
   ]
  },
  {
   "cell_type": "code",
   "execution_count": 8,
   "metadata": {},
   "outputs": [],
   "source": [
    "# Get a list with all the records and languages if present (can be more then one per item)\n",
    "query2 = {\"language\":\n",
    "\"\"\"\n",
    "select ?title_id ?language where {\n",
    "  ?title_id schema:inLanguage ?language .\n",
    "\n",
    "  ?title_id schema:name ?title .\n",
    "  ?title_id schema:mainEntityOfPage/schema:isPartOf <http://data.bibliotheken.nl/id/dataset/\"\"\"+dataset_kb+\"\"\"> .\n",
    "  }\n",
    "  \n",
    "\"\"\"}"
   ]
  },
  {
   "cell_type": "code",
   "execution_count": 9,
   "metadata": {},
   "outputs": [],
   "source": [
    "# Get a list with all the records and a title and the year of publication if present\n",
    "query3 = {\"pub_year\":\n",
    "\"\"\"\n",
    "select ?title_id ?pub_year where {\n",
    "  ?title_id schema:publication/schema:startDate ?pub_year .\n",
    "\n",
    "  ?title_id schema:name ?title .\n",
    "  ?title_id schema:mainEntityOfPage/schema:isPartOf <http://data.bibliotheken.nl/id/dataset/\"\"\"+dataset_kb+\"\"\"> .\n",
    "  }\n",
    "  \n",
    "\"\"\"}"
   ]
  },
  {
   "cell_type": "code",
   "execution_count": 10,
   "metadata": {},
   "outputs": [],
   "source": [
    "# Get a list with all the records and a title and the publication location if present\n",
    "query4 = {\"pub_location\":\n",
    "\"\"\"\n",
    "select ?title_id ?pub_location {\n",
    "  ?title_id schema:publication/schema:location ?pub_location .\n",
    "\n",
    "  ?title_id schema:name ?title .\n",
    "  ?title_id schema:mainEntityOfPage/schema:isPartOf <http://data.bibliotheken.nl/id/dataset/\"\"\"+dataset_kb+\"\"\"> .\n",
    "  }\n",
    "  \n",
    "\"\"\"}"
   ]
  },
  {
   "cell_type": "code",
   "execution_count": 11,
   "metadata": {},
   "outputs": [],
   "source": [
    "# Get a list with all the records and an alternative title if present\n",
    "query5 = {\"alt_title\":\n",
    "\"\"\"\n",
    "select ?title_id ?alt_title where {\n",
    "  ?title_id schema:alternateName ?alt_title .\n",
    "\n",
    "  ?title_id schema:name ?title .\n",
    "  ?title_id schema:mainEntityOfPage/schema:isPartOf <http://data.bibliotheken.nl/id/dataset/\"\"\"+dataset_kb+\"\"\"> .\n",
    "  }\n",
    "  \n",
    "\"\"\"}"
   ]
  },
  {
   "cell_type": "code",
   "execution_count": 12,
   "metadata": {},
   "outputs": [],
   "source": [
    "# Get a list with all the records and the main author \n",
    "query6 = {\"author\":\n",
    "\"\"\"\n",
    "select ?title_id ?author ?authorid where {\n",
    "  ?title_id schema:author/schema:name ?author .\n",
    "\n",
    "  ?title_id schema:name ?title .\n",
    "  ?title_id schema:mainEntityOfPage/schema:isPartOf <http://data.bibliotheken.nl/id/dataset/\"\"\"+dataset_kb+\"\"\"> .  \n",
    "  }\n",
    "  \n",
    "\n",
    "\"\"\"}"
   ]
  },
  {
   "cell_type": "code",
   "execution_count": 13,
   "metadata": {},
   "outputs": [],
   "source": [
    "# Get a list with all the records and if present the co author(s)\n",
    "query7 = {\"co_author\":\n",
    "\"\"\"\n",
    "select ?title_id ?co_author where {\n",
    "  ?title_id schema:contributor/schema:name ?co_author.\n",
    "\n",
    "  ?title_id schema:name ?title .\n",
    "  ?title_id schema:mainEntityOfPage/schema:isPartOf <http://data.bibliotheken.nl/id/dataset/\"\"\"+dataset_kb+\"\"\"> .\n",
    "  }\n",
    "  \n",
    "\n",
    "\"\"\"}"
   ]
  },
  {
   "cell_type": "code",
   "execution_count": 14,
   "metadata": {},
   "outputs": [],
   "source": [
    "# Get a list with all the records and additional infor about the publishing entity\n",
    "query8 = {\"pub_description\":\n",
    "\"\"\"\n",
    "select ?title_id ?pub_description where {\n",
    "  ?title_id schema:publication/schema:description ?pub_description .\n",
    "\n",
    "  ?title_id schema:name ?title .\n",
    "  ?title_id schema:mainEntityOfPage/schema:isPartOf <http://data.bibliotheken.nl/id/dataset/\"\"\"+dataset_kb+\"\"\"> .\n",
    "  }\n",
    "  \n",
    "\n",
    "\"\"\"}"
   ]
  },
  {
   "cell_type": "code",
   "execution_count": 15,
   "metadata": {},
   "outputs": [],
   "source": [
    "# Get a list with all the records and the name of the publisher\n",
    "query9 = {\"publisher_name\":\n",
    "\"\"\"\n",
    "select ?title_id ?publisher_name where {\n",
    "  ?title_id schema:publication/schema:publishedBy/schema:name ?publisher_name .\n",
    "\n",
    "  ?title_id schema:name ?title .\n",
    "  ?title_id schema:mainEntityOfPage/schema:isPartOf <http://data.bibliotheken.nl/id/dataset/\"\"\"+dataset_kb+\"\"\"> .\n",
    "  }\n",
    "  \n",
    "\n",
    "\"\"\"}"
   ]
  },
  {
   "cell_type": "code",
   "execution_count": 16,
   "metadata": {},
   "outputs": [],
   "source": [
    "# Get a list with all the records and the format of the publication\n",
    "query10 = {\"format\":\n",
    "\"\"\"\n",
    "select ?title_id ?format where {\n",
    "  ?title_id <http://data.bibliotheken.nl/def#bibliographicFormat> ?format .\n",
    "\n",
    "  ?title_id schema:name ?title .\n",
    "  ?title_id schema:mainEntityOfPage/schema:isPartOf <http://data.bibliotheken.nl/id/dataset/\"\"\"+dataset_kb+\"\"\"> .\n",
    "  }\n",
    "  \n",
    "\n",
    "\"\"\"}"
   ]
  },
  {
   "cell_type": "code",
   "execution_count": 17,
   "metadata": {},
   "outputs": [],
   "source": [
    "# Get a list with all the records and the keywords that are assigned to them. \n",
    "query11 = {\"keywords\":\n",
    "\"\"\"\n",
    "select ?title_id ?keywords where {\n",
    "  ?title_id schema:about/skos:label ?keywords .\n",
    "\n",
    "  ?title_id schema:name ?title .\n",
    "  ?title_id schema:mainEntityOfPage/schema:isPartOf <http://data.bibliotheken.nl/id/dataset/\"\"\"+dataset_kb+\"\"\"> .\n",
    "  }\n",
    "  \n",
    "\"\"\"}"
   ]
  },
  {
   "cell_type": "code",
   "execution_count": 18,
   "metadata": {},
   "outputs": [],
   "source": [
    "query_dict = {**query2, **query3, **query4, **query5, **query6, **query7, **query8, **query9, **query10, **query11}"
   ]
  },
  {
   "cell_type": "code",
   "execution_count": 19,
   "metadata": {},
   "outputs": [],
   "source": [
    "for name, query in query_dict.items():\n",
    "    sparql = SPARQLWrapper(sparql_endpoint)\n",
    "    sparql.setQuery(query)\n",
    "    sparql.setReturnFormat(JSON)\n",
    "    results = sparql.query().convert()\n",
    "    bindings = results[\"results\"][\"bindings\"]\n",
    "    data = []\n",
    "    for item in bindings:\n",
    "        row = {}\n",
    "        for key in item:\n",
    "            row[key] = item[key][\"value\"]\n",
    "        data.append(row)\n",
    "\n",
    "    df_data = pd.DataFrame(data)\n",
    "    \n",
    "    result = df_data.groupby('title_id')[name].apply('; '.join).reset_index()\n",
    "    df_join = pd.merge(df, result, left_on='title_id', right_on='title_id', how='left')\n",
    "    df = df_join\n",
    "    "
   ]
  },
  {
   "cell_type": "code",
   "execution_count": 20,
   "metadata": {},
   "outputs": [],
   "source": [
    "# Panda settings for showing data\n",
    "pd.set_option('display.max_columns', None)\n",
    "pd.set_option('display.max_rows', None)\n",
    "pd.set_option('display.max_colwidth', None)"
   ]
  },
  {
   "cell_type": "code",
   "execution_count": 21,
   "metadata": {},
   "outputs": [],
   "source": [
    "df_join.to_csv(folderlink+folder_output+dataset_kb+\"_Dump_\"+formatted_date+\".csv\", sep=';', encoding='utf-8', index=False)"
   ]
  },
  {
   "cell_type": "code",
   "execution_count": 22,
   "metadata": {},
   "outputs": [],
   "source": [
    "excel_export = folderlink+folder_output+dataset_kb+\"_excel_\"+formatted_date+\".xlsx\"\n",
    "df_join.to_excel(excel_export, index=False, engine='openpyxl')\n"
   ]
  }
 ],
 "metadata": {
  "kernelspec": {
   "display_name": "Python 3",
   "language": "python",
   "name": "python3"
  },
  "language_info": {
   "codemirror_mode": {
    "name": "ipython",
    "version": 3
   },
   "file_extension": ".py",
   "mimetype": "text/x-python",
   "name": "python",
   "nbconvert_exporter": "python",
   "pygments_lexer": "ipython3",
   "version": "3.11.4"
  }
 },
 "nbformat": 4,
 "nbformat_minor": 2
}
