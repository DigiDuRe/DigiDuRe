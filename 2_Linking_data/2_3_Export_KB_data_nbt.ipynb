{
 "cells": [
  {
   "cell_type": "code",
   "execution_count": 1,
   "metadata": {},
   "outputs": [],
   "source": [
    "# In this script we download a subselection of specific attributes from the NBT dataset (http://data.bibliotheken.nl/doc/dataset/nbt) of the royal libary and parse it to an excelsheet and csv.\n",
    "# Since excel is limited to 1048576 rows, we split the dataset at 1000000.\n",
    "\n",
    "# Import libraries\n",
    "\n",
    "import pandas as pd\n",
    "from SPARQLWrapper import SPARQLWrapper, JSON\n",
    "import time"
   ]
  },
  {
   "cell_type": "code",
   "execution_count": 2,
   "metadata": {},
   "outputs": [],
   "source": [
    "from datetime import datetime\n",
    "current_date = datetime.now()\n",
    "formatted_date = current_date.strftime('%d%m%Y')"
   ]
  },
  {
   "cell_type": "code",
   "execution_count": 3,
   "metadata": {},
   "outputs": [],
   "source": [
    "# Settings for files\n",
    "folderlink = '..//data//'\n",
    "input_folder = 'input//'\n",
    "folder_output = 'output//'"
   ]
  },
  {
   "cell_type": "code",
   "execution_count": 4,
   "metadata": {},
   "outputs": [],
   "source": [
    "# Add sparql endpoint\n",
    "sparql_endpoint = \"http://data.bibliotheken.nl/sparql\""
   ]
  },
  {
   "cell_type": "code",
   "execution_count": 5,
   "metadata": {},
   "outputs": [],
   "source": [
    "dataset_kb = \"nbt\""
   ]
  },
  {
   "cell_type": "code",
   "execution_count": 6,
   "metadata": {},
   "outputs": [],
   "source": [
    "def query_sparql_and_convert_to_df(sparql_endpoint, query):\n",
    "    sparql = SPARQLWrapper(sparql_endpoint)\n",
    "    sparql.setQuery(query)\n",
    "    sparql.setReturnFormat(JSON)\n",
    "    results = sparql.query().convert()\n",
    "    bindings = results[\"results\"][\"bindings\"]\n",
    "    data = []\n",
    "    for item in bindings:\n",
    "        row = {}\n",
    "        for key in item:\n",
    "            row[key] = item[key][\"value\"]\n",
    "        data.append(row)\n",
    "    df = pd.DataFrame(data)\n",
    "    return df"
   ]
  },
  {
   "cell_type": "code",
   "execution_count": 7,
   "metadata": {},
   "outputs": [],
   "source": [
    "primary_key = pd.DataFrame()\n",
    "\n",
    "for value_int in range(0, 30000000, 10000000):\n",
    "    value_str = str(value_int)\n",
    "    query = \"\"\"\n",
    "    SELECT ?title_id ?title WHERE {\n",
    "    ?title_id a schema:Book .\n",
    "    ?title_id schema:name ?title .\n",
    "    ?title_id schema:mainEntityOfPage/schema:isPartOf <http://data.bibliotheken.nl/id/dataset/\"\"\"+dataset_kb+\"\"\"> .\n",
    "    }\n",
    "    LIMIT 10000000 OFFSET \"\"\"+value_str+\"\"\"\n",
    "    \"\"\"\n",
    "    df = query_sparql_and_convert_to_df(sparql_endpoint, query)\n",
    "    primary_key = pd.concat([primary_key, df], ignore_index=True)\n",
    "    time.sleep(1)\n"
   ]
  },
  {
   "cell_type": "code",
   "execution_count": 8,
   "metadata": {},
   "outputs": [],
   "source": [
    "language = pd.DataFrame()\n",
    "\n",
    "for value_int in range(0, 30000000, 10000000):\n",
    "    value_str = str(value_int)\n",
    "    query = \"\"\"\n",
    "    select ?title_id ?language where {\n",
    "    ?title_id schema:inLanguage ?language .\n",
    "    ?title_id a schema:Book .\n",
    "    ?title_id schema:name ?title .\n",
    "    ?title_id schema:mainEntityOfPage/schema:isPartOf <http://data.bibliotheken.nl/id/dataset/\"\"\"+dataset_kb+\"\"\"> .\n",
    "    }\n",
    "    LIMIT 10000000 OFFSET \"\"\"+value_str+\"\"\"\n",
    "    \"\"\"\n",
    "    df = query_sparql_and_convert_to_df(sparql_endpoint, query)\n",
    "    language = pd.concat([language, df], ignore_index=True)\n",
    "    time.sleep(1)"
   ]
  },
  {
   "cell_type": "code",
   "execution_count": 9,
   "metadata": {},
   "outputs": [],
   "source": [
    "pub_year = pd.DataFrame()\n",
    "\n",
    "for value_int in range(0, 30000000, 10000000):\n",
    "    value_str = str(value_int)\n",
    "    query = \"\"\"\n",
    "    select ?title_id ?pub_year where {\n",
    "    ?title_id schema:publication/schema:startDate ?pub_year .\n",
    "    ?title_id a schema:Book .\n",
    "    ?title_id schema:name ?title .\n",
    "    ?title_id schema:mainEntityOfPage/schema:isPartOf <http://data.bibliotheken.nl/id/dataset/\"\"\"+dataset_kb+\"\"\"> .\n",
    "    }\n",
    "    LIMIT 10000000 OFFSET \"\"\"+value_str+\"\"\"\n",
    "    \"\"\"\n",
    "    df = query_sparql_and_convert_to_df(sparql_endpoint, query)\n",
    "    pub_year = pd.concat([pub_year, df], ignore_index=True)\n",
    "    time.sleep(1)"
   ]
  },
  {
   "cell_type": "code",
   "execution_count": 10,
   "metadata": {},
   "outputs": [],
   "source": [
    "pub_location = pd.DataFrame()\n",
    "\n",
    "for value_int in range(0, 30000000, 10000000):\n",
    "    value_str = str(value_int)\n",
    "    query = \"\"\"\n",
    "    select ?title_id ?pub_location {\n",
    "    ?title_id schema:publication/schema:location/schema:name ?pub_location .\n",
    "    ?title_id a schema:Book .\n",
    "    ?title_id schema:name ?title .\n",
    "    ?title_id schema:mainEntityOfPage/schema:isPartOf <http://data.bibliotheken.nl/id/dataset/\"\"\"+dataset_kb+\"\"\"> .\n",
    "    }\n",
    "    LIMIT 10000000 OFFSET \"\"\"+value_str+\"\"\"\n",
    "    \"\"\"\n",
    "    df = query_sparql_and_convert_to_df(sparql_endpoint, query)\n",
    "    pub_location = pd.concat([pub_location, df], ignore_index=True)\n",
    "    time.sleep(1)"
   ]
  },
  {
   "cell_type": "code",
   "execution_count": 11,
   "metadata": {},
   "outputs": [],
   "source": [
    "author = pd.DataFrame()\n",
    "\n",
    "for value_int in range(0, 40000000, 10000000):\n",
    "    value_str = str(value_int)\n",
    "    query = \"\"\"\n",
    "    select ?title_id ?author where {\n",
    "    ?title_id schema:author/schema:name ?author .\n",
    "    ?title_id a schema:Book .\n",
    "    ?title_id schema:name ?title .\n",
    "    ?title_id schema:mainEntityOfPage/schema:isPartOf <http://data.bibliotheken.nl/id/dataset/\"\"\"+dataset_kb+\"\"\"> .\n",
    "    }\n",
    "    LIMIT 10000000 OFFSET \"\"\"+value_str+\"\"\"\n",
    "    \"\"\"\n",
    "    df = query_sparql_and_convert_to_df(sparql_endpoint, query)\n",
    "    author = pd.concat([author, df], ignore_index=True)\n",
    "    time.sleep(1)"
   ]
  },
  {
   "cell_type": "code",
   "execution_count": 12,
   "metadata": {},
   "outputs": [],
   "source": [
    "co_author = pd.DataFrame()\n",
    "\n",
    "for value_int in range(0, 40000000, 10000000):\n",
    "    value_str = str(value_int)\n",
    "    query = \"\"\"\n",
    "    select ?title_id ?co_author where {\n",
    "    ?title_id schema:contributor/schema:name ?co_author.\n",
    "    ?title_id a schema:Book .\n",
    "    ?title_id schema:name ?title .\n",
    "    ?title_id schema:mainEntityOfPage/schema:isPartOf <http://data.bibliotheken.nl/id/dataset/\"\"\"+dataset_kb+\"\"\"> .\n",
    "    }\n",
    "    LIMIT 10000000 OFFSET \"\"\"+value_str+\"\"\"\n",
    "    \"\"\"\n",
    "    df = query_sparql_and_convert_to_df(sparql_endpoint, query)\n",
    "    co_author = pd.concat([co_author, df], ignore_index=True)\n",
    "    time.sleep(1)"
   ]
  },
  {
   "cell_type": "code",
   "execution_count": 13,
   "metadata": {},
   "outputs": [],
   "source": [
    "pub_name = pd.DataFrame()\n",
    "\n",
    "for value_int in range(0, 30000000, 10000000):\n",
    "    value_str = str(value_int)\n",
    "    query = \"\"\"\n",
    "    select ?title_id ?publisher_name where {\n",
    "    ?title_id schema:publication/schema:organizer/schema:name ?publisher_name .\n",
    "    ?title_id a schema:Book .\n",
    "    ?title_id schema:name ?title .\n",
    "    ?title_id schema:mainEntityOfPage/schema:isPartOf <http://data.bibliotheken.nl/id/dataset/\"\"\"+dataset_kb+\"\"\"> .\n",
    "    }\n",
    "    LIMIT 10000000 OFFSET \"\"\"+value_str+\"\"\"\n",
    "    \"\"\"\n",
    "    df = query_sparql_and_convert_to_df(sparql_endpoint, query)\n",
    "    pub_name = pd.concat([pub_name, df], ignore_index=True)\n",
    "    time.sleep(1)"
   ]
  },
  {
   "cell_type": "code",
   "execution_count": 14,
   "metadata": {},
   "outputs": [],
   "source": [
    "df_join = pd.merge(primary_key, language, left_on='title_id', right_on='title_id', how='left')\n",
    "df_join2 = pd.merge(df_join, pub_year, left_on='title_id', right_on='title_id', how='left')\n",
    "df_join3 = pd.merge(df_join2, pub_location, left_on='title_id', right_on='title_id', how='left')\n",
    "df_join4 = pd.merge(df_join3, author, left_on='title_id', right_on='title_id', how='left')\n",
    "df_join5 = pd.merge(df_join4, co_author, left_on='title_id', right_on='title_id', how='left')\n",
    "df_join_total = pd.merge(df_join5, pub_name, left_on='title_id', right_on='title_id', how='left')"
   ]
  },
  {
   "cell_type": "code",
   "execution_count": 15,
   "metadata": {},
   "outputs": [],
   "source": [
    "# Export to csv and automatically fill in the date of the export\n",
    "df_join_total.to_csv(folderlink+folder_output+dataset_kb+\"_export_\"+formatted_date+\".csv\", sep=';', encoding='utf-8', index=False)"
   ]
  },
  {
   "cell_type": "code",
   "execution_count": 17,
   "metadata": {},
   "outputs": [],
   "source": [
    "df1 = df_join_total.iloc[:1000000]\n",
    "df2 = df_join_total.iloc[1000000:]\n",
    "\n",
    "excel_export1 = folderlink+folder_output+dataset_kb+\"_export_part1_\"+formatted_date+\".xlsx\"\n",
    "df1.to_excel(excel_export1, index=False, engine='openpyxl')\n",
    "\n",
    "excel_export2 = folderlink+folder_output+dataset_kb+\"_export_part2_\"+formatted_date+\".xlsx\"\n",
    "df2.to_excel(excel_export2, index=False, engine='openpyxl')\n"
   ]
  }
 ],
 "metadata": {
  "kernelspec": {
   "display_name": "Python 3",
   "language": "python",
   "name": "python3"
  },
  "language_info": {
   "codemirror_mode": {
    "name": "ipython",
    "version": 3
   },
   "file_extension": ".py",
   "mimetype": "text/x-python",
   "name": "python",
   "nbconvert_exporter": "python",
   "pygments_lexer": "ipython3",
   "version": "3.11.4"
  }
 },
 "nbformat": 4,
 "nbformat_minor": 2
}
