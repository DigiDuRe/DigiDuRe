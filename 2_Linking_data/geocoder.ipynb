{
 "cells": [
  {
   "cell_type": "code",
   "execution_count": 2,
   "metadata": {},
   "outputs": [],
   "source": [
    "# import the required libraries\n",
    "import os\n",
    "import re\n",
    "import csv\n",
    "import pandas as pd\n",
    "import numpy as np"
   ]
  },
  {
   "cell_type": "code",
   "execution_count": 3,
   "metadata": {},
   "outputs": [],
   "source": [
    "# Set variables for the project (i.e. the input location of the file to be processed and the output location) )\n",
    "\n",
    "folderlink = 'data//'\n",
    "input_file = os.path.join(folderlink, 'Repertoriummetoudepersoonsnummers.docx')\n",
    "output_txt = folderlink+'output.txt'\n",
    "output_csv = folderlink+'output_file.csv'\n",
    "folder_output = 'output//'"
   ]
  },
  {
   "cell_type": "code",
   "execution_count": 4,
   "metadata": {},
   "outputs": [],
   "source": [
    "# Panda settings for showing data\n",
    "pd.set_option('display.max_columns', None)\n",
    "pd.set_option('display.max_rows', None)\n",
    "pd.set_option('display.max_colwidth', None)"
   ]
  },
  {
   "cell_type": "code",
   "execution_count": 6,
   "metadata": {},
   "outputs": [],
   "source": [
    "#import the geonames file for the Netherlands\n",
    "\n",
    "gf= pd.read_csv('geonl_sel.csv')"
   ]
  },
  {
   "cell_type": "code",
   "execution_count": 13,
   "metadata": {},
   "outputs": [],
   "source": [
    "childs = pd.read_csv(folderlink+folder_output+'minister_info.csv' , sep=';', encoding='utf-8')\n",
    "birth_org = pd.read_csv(folderlink+folder_output+'birth_info.csv', sep=';', encoding='utf-8')\n",
    "bapt_org = pd.read_csv(folderlink+folder_output+'bapt_info.csv', sep=';', encoding='utf-8') \n",
    "death_org = pd.read_csv(folderlink+folder_output+'death_info.csv', sep=';', encoding='utf-8')\n",
    "df = pd.read_csv(folderlink+folder_output+'parent_data.csv', sep=';', encoding='utf-8')"
   ]
  },
  {
   "cell_type": "code",
   "execution_count": 9,
   "metadata": {},
   "outputs": [],
   "source": [
    "pred_child_geo = childs.merge(gf, left_on=childs[\"minister\"].str.extract(f\"({'|'.join(gf['placename'])})\")[0], right_on=\"placename\", how=\"inner\")"
   ]
  },
  {
   "cell_type": "code",
   "execution_count": 10,
   "metadata": {},
   "outputs": [],
   "source": [
    "pred_child_geo.to_csv(folderlink+folder_output+'minister_info_geo.csv', sep=';', encoding='utf-8', index=False)"
   ]
  },
  {
   "cell_type": "code",
   "execution_count": 11,
   "metadata": {},
   "outputs": [],
   "source": [
    "sorted_gf = gf.sort_values(by='placename', key=lambda x: x.str.len(), ascending=False)\n",
    "sorted_gf = sorted_gf.reset_index(drop=True)"
   ]
  },
  {
   "cell_type": "code",
   "execution_count": 14,
   "metadata": {},
   "outputs": [],
   "source": [
    "birth_geo = birth_org.merge(sorted_gf, left_on=df[\"birth\"].str.extract(f\"({'|'.join(sorted_gf['placename'])})\")[0], right_on=\"placename\", how=\"left\")\n",
    "birth_geo.to_csv(folderlink+folder_output+'birth_info_geo.csv', sep=';', encoding='utf-8', index=False)"
   ]
  },
  {
   "cell_type": "code",
   "execution_count": 15,
   "metadata": {},
   "outputs": [],
   "source": [
    "death_geo = death_org.merge(sorted_gf, left_on=df[\"death\"].str.extract(f\"({'|'.join(sorted_gf['placename'])})\")[0], right_on=\"placename\", how=\"left\")\n",
    "death_geo.to_csv(folderlink+folder_output+'death_info_geo.csv', sep=';', encoding='utf-8', index=False)"
   ]
  },
  {
   "cell_type": "code",
   "execution_count": 16,
   "metadata": {},
   "outputs": [],
   "source": [
    "bapt_geo = bapt_org.merge(sorted_gf, left_on=df[\"baptized\"].str.extract(f\"({'|'.join(sorted_gf['placename'])})\")[0], right_on=\"placename\", how=\"left\")\n",
    "bapt_geo.to_csv(folderlink+folder_output+'bapt_info_geo.csv', sep=';', encoding='utf-8', index=False)"
   ]
  }
 ],
 "metadata": {
  "kernelspec": {
   "display_name": "base",
   "language": "python",
   "name": "python3"
  },
  "language_info": {
   "codemirror_mode": {
    "name": "ipython",
    "version": 3
   },
   "file_extension": ".py",
   "mimetype": "text/x-python",
   "name": "python",
   "nbconvert_exporter": "python",
   "pygments_lexer": "ipython3",
   "version": "3.9.13"
  },
  "orig_nbformat": 4
 },
 "nbformat": 4,
 "nbformat_minor": 2
}
