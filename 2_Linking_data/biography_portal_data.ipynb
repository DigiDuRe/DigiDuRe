{
 "cells": [
  {
   "cell_type": "code",
   "execution_count": null,
   "metadata": {},
   "outputs": [],
   "source": [
    "# import the required libraries\n",
    "import os\n",
    "import re\n",
    "import csv\n",
    "import pandas as pd\n",
    "import numpy as np"
   ]
  },
  {
   "cell_type": "code",
   "execution_count": null,
   "metadata": {},
   "outputs": [],
   "source": [
    "# Set variables for the project (i.e. the input location of the file to be processed and the output location) )\n",
    "\n",
    "folderlink = '..//data//'\n",
    "folder_input = 'input//bioportal//'\n",
    "input_file_bio = os.path.join(folderlink+folder_input, '2019_12_10_BioPort_BPR_MASTERFILE.csv')\n",
    "input_file_bio_name_var = os.path.join(folderlink+folder_input, '2019_12_10_BioPort_BPR_name_var.csv')\n",
    "input_file_bio_prov = os.path.join(folderlink+folder_input, '2019_12_10_BioPort_BPR_provenance.csv')\n",
    "folder_output = 'output//'\n",
    "input_file_parent = folderlink+folder_output+\"parent_data.csv\""
   ]
  },
  {
   "cell_type": "code",
   "execution_count": null,
   "metadata": {},
   "outputs": [],
   "source": [
    "# Panda settings for showing data\n",
    "pd.set_option('display.max_columns', None)\n",
    "pd.set_option('display.max_rows', None)\n",
    "pd.set_option('display.max_colwidth', None)"
   ]
  },
  {
   "cell_type": "code",
   "execution_count": null,
   "metadata": {},
   "outputs": [],
   "source": [
    "bio = pd.read_csv(input_file_bio, sep=';', encoding='utf-8')"
   ]
  },
  {
   "cell_type": "code",
   "execution_count": null,
   "metadata": {},
   "outputs": [],
   "source": [
    "bio['birth_year'] = bio['event_birth_when'].str.extract(r'(\\d{4})')"
   ]
  },
  {
   "cell_type": "code",
   "execution_count": null,
   "metadata": {},
   "outputs": [],
   "source": [
    "bio['first_letter'] = bio['voornaam'].astype(str).apply(lambda x: x[0])"
   ]
  },
  {
   "cell_type": "code",
   "execution_count": null,
   "metadata": {},
   "outputs": [],
   "source": [
    "bio['bio_name_surname_year'] = (bio['first_letter'].astype(str) + '_' + np.where(bio['intrapositie'].isna(), '', bio['intrapositie'].astype(str)) + '_' + bio['geslachtsnaam'].astype(str) + '_' + np.where(bio['birth_year'].isna(), '', bio['birth_year'].astype(str)))"
   ]
  },
  {
   "cell_type": "code",
   "execution_count": null,
   "metadata": {},
   "outputs": [],
   "source": [
    "bio = bio[~bio['birth_year'].isna()]"
   ]
  },
  {
   "cell_type": "code",
   "execution_count": null,
   "metadata": {},
   "outputs": [],
   "source": [
    "bio.head()"
   ]
  },
  {
   "cell_type": "code",
   "execution_count": null,
   "metadata": {},
   "outputs": [],
   "source": [
    "year_int = {'year_birth': pd.Int64Dtype(),\n",
    "            'year_death': pd.Int64Dtype(),\n",
    "            'year_baptized': pd.Int64Dtype(), \n",
    "            'year_pastoor': pd.Int64Dtype(), \n",
    "            'year_garnizoenspredikant': pd.Int64Dtype(),\n",
    "            'year_emeritus_status': pd.Int64Dtype(),\n",
    "            'year_burried': pd.Int64Dtype(),\n",
    "            'year_conrector': pd.Int64Dtype(),\n",
    "            'year_rector': pd.Int64Dtype(),\n",
    "            'year_monnik': pd.Int64Dtype(),\n",
    "            'year_schoolmeester': pd.Int64Dtype(),\n",
    "            'year_hoogleraar': pd.Int64Dtype(),\n",
    "            'year_chirurgijn': pd.Int64Dtype(),\n",
    "            'year_praeceptor': pd.Int64Dtype(),\n",
    "            'year_ziekentrooster': pd.Int64Dtype(),\n",
    "            'year_vlootpredikant': pd.Int64Dtype(),\n",
    "            'year_ambassadepredikant': pd.Int64Dtype()}\n"
   ]
  },
  {
   "cell_type": "code",
   "execution_count": null,
   "metadata": {},
   "outputs": [],
   "source": [
    "parent = pd.read_csv(input_file_parent, sep=';', dtype=year_int , encoding='utf-8')"
   ]
  },
  {
   "cell_type": "code",
   "execution_count": null,
   "metadata": {},
   "outputs": [],
   "source": [
    "parent['first_letter'] = parent['name'].astype(str).apply(lambda x: x[1])\n",
    "\n"
   ]
  },
  {
   "cell_type": "code",
   "execution_count": null,
   "metadata": {},
   "outputs": [],
   "source": [
    "parent = parent[~parent['year_birth'].isna()]\n"
   ]
  },
  {
   "cell_type": "code",
   "execution_count": null,
   "metadata": {},
   "outputs": [],
   "source": [
    "\n",
    "parent['year_birth'] = parent['year_birth'].astype(str)"
   ]
  },
  {
   "cell_type": "code",
   "execution_count": null,
   "metadata": {},
   "outputs": [],
   "source": [
    "parent['year_birth']= parent['year_birth'].str.extract(r'(\\d{4})')"
   ]
  },
  {
   "cell_type": "code",
   "execution_count": null,
   "metadata": {},
   "outputs": [],
   "source": [
    "parent.head()"
   ]
  },
  {
   "cell_type": "code",
   "execution_count": null,
   "metadata": {},
   "outputs": [],
   "source": [
    "parent['par_name_surname_year'] = (parent['first_letter'].astype(str) + '_' + np.where(parent['infix'].isna(), '', parent['infix'].astype(str)) + '_' + parent['surname'].astype(str) + '_' + parent['year_birth'].astype(str))\n"
   ]
  },
  {
   "cell_type": "code",
   "execution_count": null,
   "metadata": {},
   "outputs": [],
   "source": [
    "parent.head()"
   ]
  },
  {
   "cell_type": "code",
   "execution_count": null,
   "metadata": {},
   "outputs": [],
   "source": [
    "clerus_bio = pd.merge(parent, bio, left_on='par_name_surname_year', right_on='bio_name_surname_year', how='inner')"
   ]
  },
  {
   "cell_type": "code",
   "execution_count": null,
   "metadata": {},
   "outputs": [],
   "source": [
    "clerus_bio.tail()"
   ]
  },
  {
   "cell_type": "code",
   "execution_count": null,
   "metadata": {},
   "outputs": [],
   "source": [
    "clerus_bio = clerus_bio.drop(['baptized','legerpredikant',\t'pastoor',\t'garnizoenspredikant',\t'emeritus_status',\t'burried',\t'conrector',\t'rector',\t'monnik',\t'schoolmeester',\t'hoogleraar',\t'chirurgijn',\t'praeceptor',\t'ziekentrooster',\t'vlootpredikant',\t'ambassadepredikant', 'year_baptized', 'year_pastoor', 'year_garnizoenspredikant', 'year_emeritus_status', 'year_burried', 'year_conrector', 'year_rector', 'year_monnik','year_schoolmeester',\n",
    "'year_hoogleraar', 'year_chirurgijn', 'year_praeceptor', 'year_ziekentrooster', 'year_vlootpredikant', 'year_ambassadepredikant', 'year_legerpredikant','accu_year_birth','accu_year_death','accu_year_baptized','accu_year_legerpredikant','accu_year_pastoor','accu_year_garnizoenspredikant','accu_year_emeritus_status','accu_year_burried','accu_year_conrector','accu_year_rector','accu_year_monnik','accu_year_schoolmeester','accu_year_hoogleraar','accu_year_chirurgijn','accu_year_praeceptor','accu_year_ziekentrooster','accu_year_vlootpredikant','accu_year_ambassadepredikant','join_name'], axis=1)"
   ]
  },
  {
   "cell_type": "code",
   "execution_count": null,
   "metadata": {},
   "outputs": [],
   "source": [
    "clerus_bio.to_csv(folderlink+folder_output+'clerus_bp.csv', sep=';', encoding='utf-8', index=False)"
   ]
  },
  {
   "cell_type": "code",
   "execution_count": null,
   "metadata": {},
   "outputs": [],
   "source": [
    "clerus_bio_id_links = clerus_bio[['clerus_id','Person_id']]"
   ]
  },
  {
   "cell_type": "code",
   "execution_count": null,
   "metadata": {},
   "outputs": [],
   "source": [
    "clerus_bio_id_links.to_csv(folderlink+folder_output+'clerus_bp_id_links.csv', sep=';', encoding='utf-8', index=False)"
   ]
  }
 ],
 "metadata": {
  "kernelspec": {
   "display_name": "base",
   "language": "python",
   "name": "python3"
  },
  "language_info": {
   "codemirror_mode": {
    "name": "ipython",
    "version": 3
   },
   "file_extension": ".py",
   "mimetype": "text/x-python",
   "name": "python",
   "nbconvert_exporter": "python",
   "pygments_lexer": "ipython3",
   "version": "3.9.13"
  },
  "orig_nbformat": 4
 },
 "nbformat": 4,
 "nbformat_minor": 2
}
